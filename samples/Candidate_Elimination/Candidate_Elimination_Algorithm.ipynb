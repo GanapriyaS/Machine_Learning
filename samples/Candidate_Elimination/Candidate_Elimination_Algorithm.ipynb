{
  "cells": [
    {
      "cell_type": "code",
      "execution_count": 31,
      "metadata": {
        "collapsed": true,
        "id": "I9gqsrIqxf5u"
      },
      "outputs": [],
      "source": [
        "import pandas as pd"
      ]
    },
    {
      "cell_type": "code",
      "source": [
        "# from google.colab import drive\n",
        "# drive.mount('/content/drive')"
      ],
      "metadata": {
        "id": "ln_UR8Kv6-ui"
      },
      "execution_count": 32,
      "outputs": []
    },
    {
      "cell_type": "code",
      "source": [
        "def get_domains(df):\n",
        "    domains=[]\n",
        "    for col in df:\n",
        "      domains.append(list(df[col].unique()))\n",
        "    return domains"
      ],
      "metadata": {
        "id": "BR133CAGiII7"
      },
      "execution_count": 33,
      "outputs": []
    },
    {
      "cell_type": "code",
      "execution_count": 34,
      "metadata": {
        "id": "0_JDKifJxf5x"
      },
      "outputs": [],
      "source": [
        "def more_general(h1, h2):\n",
        "    more_general_parts = []\n",
        "    for x, y in zip(h1, h2):\n",
        "        mg = x == \"?\" or (x != \"0\" and (x == y or y == \"0\"))\n",
        "        more_general_parts.append(mg)\n",
        "    return all(more_general_parts)"
      ]
    },
    {
      "cell_type": "code",
      "execution_count": 35,
      "metadata": {
        "collapsed": true,
        "id": "9UDB_nxKxf5z"
      },
      "outputs": [],
      "source": [
        "def min_generalizations(h, x):\n",
        "    h_new = list(h)\n",
        "    for i in range(len(h)):\n",
        "        if not more_general( h[i:i+1],x[i:i+1]):\n",
        "            h_new[i] = '?' if h[i] != '0' else x[i]\n",
        "    return [tuple(h_new)]"
      ]
    },
    {
      "cell_type": "code",
      "execution_count": 36,
      "metadata": {
        "collapsed": true,
        "id": "vdpKamR9xf51"
      },
      "outputs": [],
      "source": [
        "def min_specializations(h, domains, x):\n",
        "    results = []\n",
        "    for i in range(len(h)):\n",
        "        if h[i] == \"?\":\n",
        "            for val in domains[i]:\n",
        "                if x[i] != val:\n",
        "                    h_new = h[:i] + (val,) + h[i+1:]\n",
        "                    results.append(h_new)\n",
        "        elif h[i] != \"0\":\n",
        "            h_new = h[:i] + ('0',) + h[i+1:]\n",
        "            results.append(h_new)\n",
        "    return results"
      ]
    },
    {
      "cell_type": "code",
      "source": [
        "def generalize_S(x, G, S):\n",
        "    S_prev = list(S)\n",
        "    for s in S_prev:\n",
        "        if s not in S:\n",
        "            continue\n",
        "        if not more_general(s, x):\n",
        "            S.remove(s)\n",
        "            Splus = min_generalizations(s, x)\n",
        "            ## keep only generalizations that have a counterpart in G\n",
        "            S.update([h for h in Splus if any([more_general(g,h) \n",
        "                                               for g in G])])\n",
        "            ## remove hypotheses less specific than any other in S\n",
        "            S.difference_update([h for h in S if \n",
        "                                 any([more_general(h, h1) \n",
        "                                      for h1 in S if h != h1])])\n",
        "    return S"
      ],
      "metadata": {
        "id": "z2tfm8wOiavz"
      },
      "execution_count": 37,
      "outputs": []
    },
    {
      "cell_type": "code",
      "source": [
        "def specialize_G(x, domains, G, S):\n",
        "    G_prev = list(G)\n",
        "    for g in G_prev:\n",
        "        if g not in G:\n",
        "            continue\n",
        "        if more_general(g, x):\n",
        "            G.remove(g)\n",
        "            Gminus = min_specializations(g, domains, x)\n",
        "            ## keep only specializations that have a conuterpart in S\n",
        "            G.update([h for h in Gminus if any([more_general(h, s)\n",
        "                                                for s in S])])\n",
        "            ## remove hypotheses less general than any other in G\n",
        "            G.difference_update([h for h in G if \n",
        "                                 any([more_general(g1, h) \n",
        "                                      for g1 in G if h != g1])])\n",
        "    return G"
      ],
      "metadata": {
        "id": "k6YAyBizia4o"
      },
      "execution_count": 38,
      "outputs": []
    },
    {
      "cell_type": "code",
      "execution_count": 39,
      "metadata": {
        "collapsed": true,
        "id": "sLxubt3Mxf54"
      },
      "outputs": [],
      "source": [
        "def candidate_elimination(df):\n",
        "    domains = get_domains(df)[:-1]\n",
        "    G = set([(\"?\",)*len(domains)])\n",
        "    S = set([('0',)*len(domains)])\n",
        "    print(f\"\\n G[0]:{G}\")\n",
        "    print(f\"\\n S[0]:{S}\")\n",
        "    for index, row in df.iterrows():\n",
        "        attribute,target=list(row[:-1]),row[-1] # Splitting data into attributes and decisions\n",
        "        if target=='Yes': # x is positive example\n",
        "            G = {g for g in G if more_general(g, attribute)}\n",
        "            S = generalize_S(attribute, G, S)\n",
        "        else: # x is negative example\n",
        "            S = {s for s in S if not more_general(s, attribute)}\n",
        "            G = specialize_G(attribute, domains, G, S)\n",
        "        print(\"-\"*100)\n",
        "        print(f\"\\n G[{index+1}]:{G}\")\n",
        "        print(f\"\\n S[{index+1}]:{S}\")\n",
        "    return "
      ]
    },
    {
      "cell_type": "code",
      "source": [
        "df=pd.read_excel('data.xlsx', sheet_name='Library')\n",
        "df"
      ],
      "metadata": {
        "colab": {
          "base_uri": "https://localhost:8080/",
          "height": 175
        },
        "id": "7eBRHR6Ijkxl",
        "outputId": "c0e2b815-b461-4d8b-c4ba-ccfcaf6f6d2c"
      },
      "execution_count": 40,
      "outputs": [
        {
          "output_type": "execute_result",
          "data": {
            "text/plain": [
              "  Citations    Size InLibrary       Price Editions Class\n",
              "0      Some   Small        No  Affordable      One    No\n",
              "1      Many     Big        No   Expensive     Many   Yes\n",
              "2      Many  Medium        No   Expensive      Few   Yes\n",
              "3      Many   Small        No  Affordable     Many   Yes"
            ],
            "text/html": [
              "\n",
              "  <div id=\"df-8dd596ce-4ec3-42a7-8128-4623a375397e\">\n",
              "    <div class=\"colab-df-container\">\n",
              "      <div>\n",
              "<style scoped>\n",
              "    .dataframe tbody tr th:only-of-type {\n",
              "        vertical-align: middle;\n",
              "    }\n",
              "\n",
              "    .dataframe tbody tr th {\n",
              "        vertical-align: top;\n",
              "    }\n",
              "\n",
              "    .dataframe thead th {\n",
              "        text-align: right;\n",
              "    }\n",
              "</style>\n",
              "<table border=\"1\" class=\"dataframe\">\n",
              "  <thead>\n",
              "    <tr style=\"text-align: right;\">\n",
              "      <th></th>\n",
              "      <th>Citations</th>\n",
              "      <th>Size</th>\n",
              "      <th>InLibrary</th>\n",
              "      <th>Price</th>\n",
              "      <th>Editions</th>\n",
              "      <th>Class</th>\n",
              "    </tr>\n",
              "  </thead>\n",
              "  <tbody>\n",
              "    <tr>\n",
              "      <th>0</th>\n",
              "      <td>Some</td>\n",
              "      <td>Small</td>\n",
              "      <td>No</td>\n",
              "      <td>Affordable</td>\n",
              "      <td>One</td>\n",
              "      <td>No</td>\n",
              "    </tr>\n",
              "    <tr>\n",
              "      <th>1</th>\n",
              "      <td>Many</td>\n",
              "      <td>Big</td>\n",
              "      <td>No</td>\n",
              "      <td>Expensive</td>\n",
              "      <td>Many</td>\n",
              "      <td>Yes</td>\n",
              "    </tr>\n",
              "    <tr>\n",
              "      <th>2</th>\n",
              "      <td>Many</td>\n",
              "      <td>Medium</td>\n",
              "      <td>No</td>\n",
              "      <td>Expensive</td>\n",
              "      <td>Few</td>\n",
              "      <td>Yes</td>\n",
              "    </tr>\n",
              "    <tr>\n",
              "      <th>3</th>\n",
              "      <td>Many</td>\n",
              "      <td>Small</td>\n",
              "      <td>No</td>\n",
              "      <td>Affordable</td>\n",
              "      <td>Many</td>\n",
              "      <td>Yes</td>\n",
              "    </tr>\n",
              "  </tbody>\n",
              "</table>\n",
              "</div>\n",
              "      <button class=\"colab-df-convert\" onclick=\"convertToInteractive('df-8dd596ce-4ec3-42a7-8128-4623a375397e')\"\n",
              "              title=\"Convert this dataframe to an interactive table.\"\n",
              "              style=\"display:none;\">\n",
              "        \n",
              "  <svg xmlns=\"http://www.w3.org/2000/svg\" height=\"24px\"viewBox=\"0 0 24 24\"\n",
              "       width=\"24px\">\n",
              "    <path d=\"M0 0h24v24H0V0z\" fill=\"none\"/>\n",
              "    <path d=\"M18.56 5.44l.94 2.06.94-2.06 2.06-.94-2.06-.94-.94-2.06-.94 2.06-2.06.94zm-11 1L8.5 8.5l.94-2.06 2.06-.94-2.06-.94L8.5 2.5l-.94 2.06-2.06.94zm10 10l.94 2.06.94-2.06 2.06-.94-2.06-.94-.94-2.06-.94 2.06-2.06.94z\"/><path d=\"M17.41 7.96l-1.37-1.37c-.4-.4-.92-.59-1.43-.59-.52 0-1.04.2-1.43.59L10.3 9.45l-7.72 7.72c-.78.78-.78 2.05 0 2.83L4 21.41c.39.39.9.59 1.41.59.51 0 1.02-.2 1.41-.59l7.78-7.78 2.81-2.81c.8-.78.8-2.07 0-2.86zM5.41 20L4 18.59l7.72-7.72 1.47 1.35L5.41 20z\"/>\n",
              "  </svg>\n",
              "      </button>\n",
              "      \n",
              "  <style>\n",
              "    .colab-df-container {\n",
              "      display:flex;\n",
              "      flex-wrap:wrap;\n",
              "      gap: 12px;\n",
              "    }\n",
              "\n",
              "    .colab-df-convert {\n",
              "      background-color: #E8F0FE;\n",
              "      border: none;\n",
              "      border-radius: 50%;\n",
              "      cursor: pointer;\n",
              "      display: none;\n",
              "      fill: #1967D2;\n",
              "      height: 32px;\n",
              "      padding: 0 0 0 0;\n",
              "      width: 32px;\n",
              "    }\n",
              "\n",
              "    .colab-df-convert:hover {\n",
              "      background-color: #E2EBFA;\n",
              "      box-shadow: 0px 1px 2px rgba(60, 64, 67, 0.3), 0px 1px 3px 1px rgba(60, 64, 67, 0.15);\n",
              "      fill: #174EA6;\n",
              "    }\n",
              "\n",
              "    [theme=dark] .colab-df-convert {\n",
              "      background-color: #3B4455;\n",
              "      fill: #D2E3FC;\n",
              "    }\n",
              "\n",
              "    [theme=dark] .colab-df-convert:hover {\n",
              "      background-color: #434B5C;\n",
              "      box-shadow: 0px 1px 3px 1px rgba(0, 0, 0, 0.15);\n",
              "      filter: drop-shadow(0px 1px 2px rgba(0, 0, 0, 0.3));\n",
              "      fill: #FFFFFF;\n",
              "    }\n",
              "  </style>\n",
              "\n",
              "      <script>\n",
              "        const buttonEl =\n",
              "          document.querySelector('#df-8dd596ce-4ec3-42a7-8128-4623a375397e button.colab-df-convert');\n",
              "        buttonEl.style.display =\n",
              "          google.colab.kernel.accessAllowed ? 'block' : 'none';\n",
              "\n",
              "        async function convertToInteractive(key) {\n",
              "          const element = document.querySelector('#df-8dd596ce-4ec3-42a7-8128-4623a375397e');\n",
              "          const dataTable =\n",
              "            await google.colab.kernel.invokeFunction('convertToInteractive',\n",
              "                                                     [key], {});\n",
              "          if (!dataTable) return;\n",
              "\n",
              "          const docLinkHtml = 'Like what you see? Visit the ' +\n",
              "            '<a target=\"_blank\" href=https://colab.research.google.com/notebooks/data_table.ipynb>data table notebook</a>'\n",
              "            + ' to learn more about interactive tables.';\n",
              "          element.innerHTML = '';\n",
              "          dataTable['output_type'] = 'display_data';\n",
              "          await google.colab.output.renderOutput(dataTable, element);\n",
              "          const docLink = document.createElement('div');\n",
              "          docLink.innerHTML = docLinkHtml;\n",
              "          element.appendChild(docLink);\n",
              "        }\n",
              "      </script>\n",
              "    </div>\n",
              "  </div>\n",
              "  "
            ]
          },
          "metadata": {},
          "execution_count": 40
        }
      ]
    },
    {
      "cell_type": "code",
      "source": [
        "get_domains(df)"
      ],
      "metadata": {
        "colab": {
          "base_uri": "https://localhost:8080/"
        },
        "id": "QP0jG6_Ujk9U",
        "outputId": "7e8b3c81-8569-4690-a642-0f318eb13ccf"
      },
      "execution_count": 41,
      "outputs": [
        {
          "output_type": "execute_result",
          "data": {
            "text/plain": [
              "[['Some', 'Many'],\n",
              " ['Small', 'Big', 'Medium'],\n",
              " ['No'],\n",
              " ['Affordable', 'Expensive'],\n",
              " ['One', 'Many', 'Few'],\n",
              " ['No', 'Yes']]"
            ]
          },
          "metadata": {},
          "execution_count": 41
        }
      ]
    },
    {
      "cell_type": "code",
      "execution_count": 42,
      "metadata": {
        "collapsed": true,
        "id": "eTqrmP8Sxf56",
        "colab": {
          "base_uri": "https://localhost:8080/"
        },
        "outputId": "fd26daaa-f070-4506-ff70-c7adcfc4c585"
      },
      "outputs": [
        {
          "output_type": "stream",
          "name": "stdout",
          "text": [
            "\n",
            " G[0]:{('?', '?', '?', '?', '?')}\n",
            "\n",
            " S[0]:{('0', '0', '0', '0', '0')}\n",
            "----------------------------------------------------------------------------------------------------\n",
            "\n",
            " G[1]:{('?', 'Medium', '?', '?', '?'), ('?', '?', '?', '?', 'Few'), ('?', '?', '?', '?', 'Many'), ('Many', '?', '?', '?', '?'), ('?', 'Big', '?', '?', '?'), ('?', '?', '?', 'Expensive', '?')}\n",
            "\n",
            " S[1]:{('0', '0', '0', '0', '0')}\n",
            "----------------------------------------------------------------------------------------------------\n",
            "\n",
            " G[2]:{('?', 'Big', '?', '?', '?'), ('Many', '?', '?', '?', '?'), ('?', '?', '?', 'Expensive', '?'), ('?', '?', '?', '?', 'Many')}\n",
            "\n",
            " S[2]:{('Many', 'Big', 'No', 'Expensive', 'Many')}\n",
            "----------------------------------------------------------------------------------------------------\n",
            "\n",
            " G[3]:{('?', '?', '?', 'Expensive', '?'), ('Many', '?', '?', '?', '?')}\n",
            "\n",
            " S[3]:{('Many', '?', 'No', 'Expensive', '?')}\n",
            "----------------------------------------------------------------------------------------------------\n",
            "\n",
            " G[4]:{('Many', '?', '?', '?', '?')}\n",
            "\n",
            " S[4]:{('Many', '?', 'No', '?', '?')}\n"
          ]
        }
      ],
      "source": [
        "candidate_elimination(df)"
      ]
    },
    {
      "cell_type": "code",
      "source": [
        "df=pd.read_excel('data.xlsx', sheet_name='Disease')\n",
        "df"
      ],
      "metadata": {
        "colab": {
          "base_uri": "https://localhost:8080/",
          "height": 175
        },
        "id": "7chU8BsWjotL",
        "outputId": "c5d29148-e5d3-42e5-f4e6-ebcb97485188"
      },
      "execution_count": 43,
      "outputs": [
        {
          "output_type": "execute_result",
          "data": {
            "text/plain": [
              "   Example     Shape   Size  Color    Surface Thickness Class\n",
              "0        1  Circular  Large  Light     Smooth     Thick   Yes\n",
              "1        2  Circular  Large  Light  Irregular     Thick   Yes\n",
              "2        3      Oval  Large   Dark     Smooth      Thin    No\n",
              "3        4      Oval  Large  Light  Irregular     Thick   Yes"
            ],
            "text/html": [
              "\n",
              "  <div id=\"df-1e8b8b82-6f59-4ee9-83f5-4093010e4c2d\">\n",
              "    <div class=\"colab-df-container\">\n",
              "      <div>\n",
              "<style scoped>\n",
              "    .dataframe tbody tr th:only-of-type {\n",
              "        vertical-align: middle;\n",
              "    }\n",
              "\n",
              "    .dataframe tbody tr th {\n",
              "        vertical-align: top;\n",
              "    }\n",
              "\n",
              "    .dataframe thead th {\n",
              "        text-align: right;\n",
              "    }\n",
              "</style>\n",
              "<table border=\"1\" class=\"dataframe\">\n",
              "  <thead>\n",
              "    <tr style=\"text-align: right;\">\n",
              "      <th></th>\n",
              "      <th>Example</th>\n",
              "      <th>Shape</th>\n",
              "      <th>Size</th>\n",
              "      <th>Color</th>\n",
              "      <th>Surface</th>\n",
              "      <th>Thickness</th>\n",
              "      <th>Class</th>\n",
              "    </tr>\n",
              "  </thead>\n",
              "  <tbody>\n",
              "    <tr>\n",
              "      <th>0</th>\n",
              "      <td>1</td>\n",
              "      <td>Circular</td>\n",
              "      <td>Large</td>\n",
              "      <td>Light</td>\n",
              "      <td>Smooth</td>\n",
              "      <td>Thick</td>\n",
              "      <td>Yes</td>\n",
              "    </tr>\n",
              "    <tr>\n",
              "      <th>1</th>\n",
              "      <td>2</td>\n",
              "      <td>Circular</td>\n",
              "      <td>Large</td>\n",
              "      <td>Light</td>\n",
              "      <td>Irregular</td>\n",
              "      <td>Thick</td>\n",
              "      <td>Yes</td>\n",
              "    </tr>\n",
              "    <tr>\n",
              "      <th>2</th>\n",
              "      <td>3</td>\n",
              "      <td>Oval</td>\n",
              "      <td>Large</td>\n",
              "      <td>Dark</td>\n",
              "      <td>Smooth</td>\n",
              "      <td>Thin</td>\n",
              "      <td>No</td>\n",
              "    </tr>\n",
              "    <tr>\n",
              "      <th>3</th>\n",
              "      <td>4</td>\n",
              "      <td>Oval</td>\n",
              "      <td>Large</td>\n",
              "      <td>Light</td>\n",
              "      <td>Irregular</td>\n",
              "      <td>Thick</td>\n",
              "      <td>Yes</td>\n",
              "    </tr>\n",
              "  </tbody>\n",
              "</table>\n",
              "</div>\n",
              "      <button class=\"colab-df-convert\" onclick=\"convertToInteractive('df-1e8b8b82-6f59-4ee9-83f5-4093010e4c2d')\"\n",
              "              title=\"Convert this dataframe to an interactive table.\"\n",
              "              style=\"display:none;\">\n",
              "        \n",
              "  <svg xmlns=\"http://www.w3.org/2000/svg\" height=\"24px\"viewBox=\"0 0 24 24\"\n",
              "       width=\"24px\">\n",
              "    <path d=\"M0 0h24v24H0V0z\" fill=\"none\"/>\n",
              "    <path d=\"M18.56 5.44l.94 2.06.94-2.06 2.06-.94-2.06-.94-.94-2.06-.94 2.06-2.06.94zm-11 1L8.5 8.5l.94-2.06 2.06-.94-2.06-.94L8.5 2.5l-.94 2.06-2.06.94zm10 10l.94 2.06.94-2.06 2.06-.94-2.06-.94-.94-2.06-.94 2.06-2.06.94z\"/><path d=\"M17.41 7.96l-1.37-1.37c-.4-.4-.92-.59-1.43-.59-.52 0-1.04.2-1.43.59L10.3 9.45l-7.72 7.72c-.78.78-.78 2.05 0 2.83L4 21.41c.39.39.9.59 1.41.59.51 0 1.02-.2 1.41-.59l7.78-7.78 2.81-2.81c.8-.78.8-2.07 0-2.86zM5.41 20L4 18.59l7.72-7.72 1.47 1.35L5.41 20z\"/>\n",
              "  </svg>\n",
              "      </button>\n",
              "      \n",
              "  <style>\n",
              "    .colab-df-container {\n",
              "      display:flex;\n",
              "      flex-wrap:wrap;\n",
              "      gap: 12px;\n",
              "    }\n",
              "\n",
              "    .colab-df-convert {\n",
              "      background-color: #E8F0FE;\n",
              "      border: none;\n",
              "      border-radius: 50%;\n",
              "      cursor: pointer;\n",
              "      display: none;\n",
              "      fill: #1967D2;\n",
              "      height: 32px;\n",
              "      padding: 0 0 0 0;\n",
              "      width: 32px;\n",
              "    }\n",
              "\n",
              "    .colab-df-convert:hover {\n",
              "      background-color: #E2EBFA;\n",
              "      box-shadow: 0px 1px 2px rgba(60, 64, 67, 0.3), 0px 1px 3px 1px rgba(60, 64, 67, 0.15);\n",
              "      fill: #174EA6;\n",
              "    }\n",
              "\n",
              "    [theme=dark] .colab-df-convert {\n",
              "      background-color: #3B4455;\n",
              "      fill: #D2E3FC;\n",
              "    }\n",
              "\n",
              "    [theme=dark] .colab-df-convert:hover {\n",
              "      background-color: #434B5C;\n",
              "      box-shadow: 0px 1px 3px 1px rgba(0, 0, 0, 0.15);\n",
              "      filter: drop-shadow(0px 1px 2px rgba(0, 0, 0, 0.3));\n",
              "      fill: #FFFFFF;\n",
              "    }\n",
              "  </style>\n",
              "\n",
              "      <script>\n",
              "        const buttonEl =\n",
              "          document.querySelector('#df-1e8b8b82-6f59-4ee9-83f5-4093010e4c2d button.colab-df-convert');\n",
              "        buttonEl.style.display =\n",
              "          google.colab.kernel.accessAllowed ? 'block' : 'none';\n",
              "\n",
              "        async function convertToInteractive(key) {\n",
              "          const element = document.querySelector('#df-1e8b8b82-6f59-4ee9-83f5-4093010e4c2d');\n",
              "          const dataTable =\n",
              "            await google.colab.kernel.invokeFunction('convertToInteractive',\n",
              "                                                     [key], {});\n",
              "          if (!dataTable) return;\n",
              "\n",
              "          const docLinkHtml = 'Like what you see? Visit the ' +\n",
              "            '<a target=\"_blank\" href=https://colab.research.google.com/notebooks/data_table.ipynb>data table notebook</a>'\n",
              "            + ' to learn more about interactive tables.';\n",
              "          element.innerHTML = '';\n",
              "          dataTable['output_type'] = 'display_data';\n",
              "          await google.colab.output.renderOutput(dataTable, element);\n",
              "          const docLink = document.createElement('div');\n",
              "          docLink.innerHTML = docLinkHtml;\n",
              "          element.appendChild(docLink);\n",
              "        }\n",
              "      </script>\n",
              "    </div>\n",
              "  </div>\n",
              "  "
            ]
          },
          "metadata": {},
          "execution_count": 43
        }
      ]
    },
    {
      "cell_type": "code",
      "source": [
        "get_domains(df)"
      ],
      "metadata": {
        "colab": {
          "base_uri": "https://localhost:8080/"
        },
        "id": "o_mLIn_Xjo1c",
        "outputId": "eb7ce7fe-cfd6-453a-92b6-e82e7ff8a8d8"
      },
      "execution_count": 44,
      "outputs": [
        {
          "output_type": "execute_result",
          "data": {
            "text/plain": [
              "[[1, 2, 3, 4],\n",
              " ['Circular', 'Oval'],\n",
              " ['Large'],\n",
              " ['Light', 'Dark'],\n",
              " ['Smooth', 'Irregular'],\n",
              " ['Thick', 'Thin'],\n",
              " ['Yes', 'No']]"
            ]
          },
          "metadata": {},
          "execution_count": 44
        }
      ]
    },
    {
      "cell_type": "code",
      "source": [
        "candidate_elimination(df)"
      ],
      "metadata": {
        "colab": {
          "base_uri": "https://localhost:8080/"
        },
        "id": "Vlg_0MQ0jo5P",
        "outputId": "50a9ef6b-732e-4672-b40e-f62fab5cca66"
      },
      "execution_count": 45,
      "outputs": [
        {
          "output_type": "stream",
          "name": "stdout",
          "text": [
            "\n",
            " G[0]:{('?', '?', '?', '?', '?', '?')}\n",
            "\n",
            " S[0]:{('0', '0', '0', '0', '0', '0')}\n",
            "----------------------------------------------------------------------------------------------------\n",
            "\n",
            " G[1]:{('?', '?', '?', '?', '?', '?')}\n",
            "\n",
            " S[1]:{(1, 'Circular', 'Large', 'Light', 'Smooth', 'Thick')}\n",
            "----------------------------------------------------------------------------------------------------\n",
            "\n",
            " G[2]:{('?', '?', '?', '?', '?', '?')}\n",
            "\n",
            " S[2]:{('?', 'Circular', 'Large', 'Light', '?', 'Thick')}\n",
            "----------------------------------------------------------------------------------------------------\n",
            "\n",
            " G[3]:{('?', '?', '?', 'Light', '?', '?'), ('?', '?', '?', '?', '?', 'Thick'), ('?', 'Circular', '?', '?', '?', '?')}\n",
            "\n",
            " S[3]:{('?', 'Circular', 'Large', 'Light', '?', 'Thick')}\n",
            "----------------------------------------------------------------------------------------------------\n",
            "\n",
            " G[4]:{('?', '?', '?', 'Light', '?', '?'), ('?', '?', '?', '?', '?', 'Thick')}\n",
            "\n",
            " S[4]:{('?', '?', 'Large', 'Light', '?', 'Thick')}\n"
          ]
        }
      ]
    },
    {
      "cell_type": "code",
      "source": [
        "df=pd.read_excel('data.xlsx', sheet_name='Type')\n",
        "df"
      ],
      "metadata": {
        "colab": {
          "base_uri": "https://localhost:8080/",
          "height": 206
        },
        "id": "Ckr191iQjo8n",
        "outputId": "0160b13d-3dbf-40cd-a22c-69f4277e2c11"
      },
      "execution_count": 46,
      "outputs": [
        {
          "output_type": "execute_result",
          "data": {
            "text/plain": [
              "    Size Color     Shape Class\n",
              "0    Big   Red    Circle    No\n",
              "1  Small   Red  Triangle    No\n",
              "2  Small   Red    Circle   Yes\n",
              "3    Big  Blue    Circle    No\n",
              "4  Small  Blue    Circle   Yes"
            ],
            "text/html": [
              "\n",
              "  <div id=\"df-63095315-5550-459f-9c75-fdec02da5196\">\n",
              "    <div class=\"colab-df-container\">\n",
              "      <div>\n",
              "<style scoped>\n",
              "    .dataframe tbody tr th:only-of-type {\n",
              "        vertical-align: middle;\n",
              "    }\n",
              "\n",
              "    .dataframe tbody tr th {\n",
              "        vertical-align: top;\n",
              "    }\n",
              "\n",
              "    .dataframe thead th {\n",
              "        text-align: right;\n",
              "    }\n",
              "</style>\n",
              "<table border=\"1\" class=\"dataframe\">\n",
              "  <thead>\n",
              "    <tr style=\"text-align: right;\">\n",
              "      <th></th>\n",
              "      <th>Size</th>\n",
              "      <th>Color</th>\n",
              "      <th>Shape</th>\n",
              "      <th>Class</th>\n",
              "    </tr>\n",
              "  </thead>\n",
              "  <tbody>\n",
              "    <tr>\n",
              "      <th>0</th>\n",
              "      <td>Big</td>\n",
              "      <td>Red</td>\n",
              "      <td>Circle</td>\n",
              "      <td>No</td>\n",
              "    </tr>\n",
              "    <tr>\n",
              "      <th>1</th>\n",
              "      <td>Small</td>\n",
              "      <td>Red</td>\n",
              "      <td>Triangle</td>\n",
              "      <td>No</td>\n",
              "    </tr>\n",
              "    <tr>\n",
              "      <th>2</th>\n",
              "      <td>Small</td>\n",
              "      <td>Red</td>\n",
              "      <td>Circle</td>\n",
              "      <td>Yes</td>\n",
              "    </tr>\n",
              "    <tr>\n",
              "      <th>3</th>\n",
              "      <td>Big</td>\n",
              "      <td>Blue</td>\n",
              "      <td>Circle</td>\n",
              "      <td>No</td>\n",
              "    </tr>\n",
              "    <tr>\n",
              "      <th>4</th>\n",
              "      <td>Small</td>\n",
              "      <td>Blue</td>\n",
              "      <td>Circle</td>\n",
              "      <td>Yes</td>\n",
              "    </tr>\n",
              "  </tbody>\n",
              "</table>\n",
              "</div>\n",
              "      <button class=\"colab-df-convert\" onclick=\"convertToInteractive('df-63095315-5550-459f-9c75-fdec02da5196')\"\n",
              "              title=\"Convert this dataframe to an interactive table.\"\n",
              "              style=\"display:none;\">\n",
              "        \n",
              "  <svg xmlns=\"http://www.w3.org/2000/svg\" height=\"24px\"viewBox=\"0 0 24 24\"\n",
              "       width=\"24px\">\n",
              "    <path d=\"M0 0h24v24H0V0z\" fill=\"none\"/>\n",
              "    <path d=\"M18.56 5.44l.94 2.06.94-2.06 2.06-.94-2.06-.94-.94-2.06-.94 2.06-2.06.94zm-11 1L8.5 8.5l.94-2.06 2.06-.94-2.06-.94L8.5 2.5l-.94 2.06-2.06.94zm10 10l.94 2.06.94-2.06 2.06-.94-2.06-.94-.94-2.06-.94 2.06-2.06.94z\"/><path d=\"M17.41 7.96l-1.37-1.37c-.4-.4-.92-.59-1.43-.59-.52 0-1.04.2-1.43.59L10.3 9.45l-7.72 7.72c-.78.78-.78 2.05 0 2.83L4 21.41c.39.39.9.59 1.41.59.51 0 1.02-.2 1.41-.59l7.78-7.78 2.81-2.81c.8-.78.8-2.07 0-2.86zM5.41 20L4 18.59l7.72-7.72 1.47 1.35L5.41 20z\"/>\n",
              "  </svg>\n",
              "      </button>\n",
              "      \n",
              "  <style>\n",
              "    .colab-df-container {\n",
              "      display:flex;\n",
              "      flex-wrap:wrap;\n",
              "      gap: 12px;\n",
              "    }\n",
              "\n",
              "    .colab-df-convert {\n",
              "      background-color: #E8F0FE;\n",
              "      border: none;\n",
              "      border-radius: 50%;\n",
              "      cursor: pointer;\n",
              "      display: none;\n",
              "      fill: #1967D2;\n",
              "      height: 32px;\n",
              "      padding: 0 0 0 0;\n",
              "      width: 32px;\n",
              "    }\n",
              "\n",
              "    .colab-df-convert:hover {\n",
              "      background-color: #E2EBFA;\n",
              "      box-shadow: 0px 1px 2px rgba(60, 64, 67, 0.3), 0px 1px 3px 1px rgba(60, 64, 67, 0.15);\n",
              "      fill: #174EA6;\n",
              "    }\n",
              "\n",
              "    [theme=dark] .colab-df-convert {\n",
              "      background-color: #3B4455;\n",
              "      fill: #D2E3FC;\n",
              "    }\n",
              "\n",
              "    [theme=dark] .colab-df-convert:hover {\n",
              "      background-color: #434B5C;\n",
              "      box-shadow: 0px 1px 3px 1px rgba(0, 0, 0, 0.15);\n",
              "      filter: drop-shadow(0px 1px 2px rgba(0, 0, 0, 0.3));\n",
              "      fill: #FFFFFF;\n",
              "    }\n",
              "  </style>\n",
              "\n",
              "      <script>\n",
              "        const buttonEl =\n",
              "          document.querySelector('#df-63095315-5550-459f-9c75-fdec02da5196 button.colab-df-convert');\n",
              "        buttonEl.style.display =\n",
              "          google.colab.kernel.accessAllowed ? 'block' : 'none';\n",
              "\n",
              "        async function convertToInteractive(key) {\n",
              "          const element = document.querySelector('#df-63095315-5550-459f-9c75-fdec02da5196');\n",
              "          const dataTable =\n",
              "            await google.colab.kernel.invokeFunction('convertToInteractive',\n",
              "                                                     [key], {});\n",
              "          if (!dataTable) return;\n",
              "\n",
              "          const docLinkHtml = 'Like what you see? Visit the ' +\n",
              "            '<a target=\"_blank\" href=https://colab.research.google.com/notebooks/data_table.ipynb>data table notebook</a>'\n",
              "            + ' to learn more about interactive tables.';\n",
              "          element.innerHTML = '';\n",
              "          dataTable['output_type'] = 'display_data';\n",
              "          await google.colab.output.renderOutput(dataTable, element);\n",
              "          const docLink = document.createElement('div');\n",
              "          docLink.innerHTML = docLinkHtml;\n",
              "          element.appendChild(docLink);\n",
              "        }\n",
              "      </script>\n",
              "    </div>\n",
              "  </div>\n",
              "  "
            ]
          },
          "metadata": {},
          "execution_count": 46
        }
      ]
    },
    {
      "cell_type": "code",
      "source": [
        "get_domains(df)"
      ],
      "metadata": {
        "colab": {
          "base_uri": "https://localhost:8080/"
        },
        "id": "IjvRU3jZjsvS",
        "outputId": "a01893c3-d1be-4bd9-b750-af0c7bb8a6ae"
      },
      "execution_count": 47,
      "outputs": [
        {
          "output_type": "execute_result",
          "data": {
            "text/plain": [
              "[['Big', 'Small'], ['Red', 'Blue'], ['Circle', 'Triangle'], ['No', 'Yes']]"
            ]
          },
          "metadata": {},
          "execution_count": 47
        }
      ]
    },
    {
      "cell_type": "code",
      "source": [
        "candidate_elimination(df)"
      ],
      "metadata": {
        "colab": {
          "base_uri": "https://localhost:8080/"
        },
        "id": "4J5vLTRKjszr",
        "outputId": "b917c707-4b39-465a-806d-2ab3262020bd"
      },
      "execution_count": 48,
      "outputs": [
        {
          "output_type": "stream",
          "name": "stdout",
          "text": [
            "\n",
            " G[0]:{('?', '?', '?')}\n",
            "\n",
            " S[0]:{('0', '0', '0')}\n",
            "----------------------------------------------------------------------------------------------------\n",
            "\n",
            " G[1]:{('?', '?', 'Triangle'), ('?', 'Blue', '?'), ('Small', '?', '?')}\n",
            "\n",
            " S[1]:{('0', '0', '0')}\n",
            "----------------------------------------------------------------------------------------------------\n",
            "\n",
            " G[2]:{('Small', '?', 'Circle'), ('?', 'Blue', '?'), ('Big', '?', 'Triangle')}\n",
            "\n",
            " S[2]:{('0', '0', '0')}\n",
            "----------------------------------------------------------------------------------------------------\n",
            "\n",
            " G[3]:{('Small', '?', 'Circle')}\n",
            "\n",
            " S[3]:{('Small', 'Red', 'Circle')}\n",
            "----------------------------------------------------------------------------------------------------\n",
            "\n",
            " G[4]:{('Small', '?', 'Circle')}\n",
            "\n",
            " S[4]:{('Small', 'Red', 'Circle')}\n",
            "----------------------------------------------------------------------------------------------------\n",
            "\n",
            " G[5]:{('Small', '?', 'Circle')}\n",
            "\n",
            " S[5]:{('Small', '?', 'Circle')}\n"
          ]
        }
      ]
    },
    {
      "cell_type": "code",
      "source": [
        "df=pd.read_excel('data.xlsx', sheet_name='Face')\n",
        "df"
      ],
      "metadata": {
        "colab": {
          "base_uri": "https://localhost:8080/",
          "height": 206
        },
        "id": "3cqQIeKAjs3j",
        "outputId": "6ca7af3e-30e1-4833-b97b-c51404670b59"
      },
      "execution_count": 49,
      "outputs": [
        {
          "output_type": "execute_result",
          "data": {
            "text/plain": [
              "     Eyes      Nose    Head  Fcolor Hair Class\n",
              "0   Round  Triangle   Round  Purple  Yes   Yes\n",
              "1  Square    Square  Square   Green  Yes    No\n",
              "2  Square  Triangle   Round  Yellow  Yes   Yes\n",
              "3   Round  Triangle   Round   Green   No    No\n",
              "4  Square    Square   Round  Yellow  Yes   Yes"
            ],
            "text/html": [
              "\n",
              "  <div id=\"df-907acb8d-f4e9-4387-8546-e905602a2516\">\n",
              "    <div class=\"colab-df-container\">\n",
              "      <div>\n",
              "<style scoped>\n",
              "    .dataframe tbody tr th:only-of-type {\n",
              "        vertical-align: middle;\n",
              "    }\n",
              "\n",
              "    .dataframe tbody tr th {\n",
              "        vertical-align: top;\n",
              "    }\n",
              "\n",
              "    .dataframe thead th {\n",
              "        text-align: right;\n",
              "    }\n",
              "</style>\n",
              "<table border=\"1\" class=\"dataframe\">\n",
              "  <thead>\n",
              "    <tr style=\"text-align: right;\">\n",
              "      <th></th>\n",
              "      <th>Eyes</th>\n",
              "      <th>Nose</th>\n",
              "      <th>Head</th>\n",
              "      <th>Fcolor</th>\n",
              "      <th>Hair</th>\n",
              "      <th>Class</th>\n",
              "    </tr>\n",
              "  </thead>\n",
              "  <tbody>\n",
              "    <tr>\n",
              "      <th>0</th>\n",
              "      <td>Round</td>\n",
              "      <td>Triangle</td>\n",
              "      <td>Round</td>\n",
              "      <td>Purple</td>\n",
              "      <td>Yes</td>\n",
              "      <td>Yes</td>\n",
              "    </tr>\n",
              "    <tr>\n",
              "      <th>1</th>\n",
              "      <td>Square</td>\n",
              "      <td>Square</td>\n",
              "      <td>Square</td>\n",
              "      <td>Green</td>\n",
              "      <td>Yes</td>\n",
              "      <td>No</td>\n",
              "    </tr>\n",
              "    <tr>\n",
              "      <th>2</th>\n",
              "      <td>Square</td>\n",
              "      <td>Triangle</td>\n",
              "      <td>Round</td>\n",
              "      <td>Yellow</td>\n",
              "      <td>Yes</td>\n",
              "      <td>Yes</td>\n",
              "    </tr>\n",
              "    <tr>\n",
              "      <th>3</th>\n",
              "      <td>Round</td>\n",
              "      <td>Triangle</td>\n",
              "      <td>Round</td>\n",
              "      <td>Green</td>\n",
              "      <td>No</td>\n",
              "      <td>No</td>\n",
              "    </tr>\n",
              "    <tr>\n",
              "      <th>4</th>\n",
              "      <td>Square</td>\n",
              "      <td>Square</td>\n",
              "      <td>Round</td>\n",
              "      <td>Yellow</td>\n",
              "      <td>Yes</td>\n",
              "      <td>Yes</td>\n",
              "    </tr>\n",
              "  </tbody>\n",
              "</table>\n",
              "</div>\n",
              "      <button class=\"colab-df-convert\" onclick=\"convertToInteractive('df-907acb8d-f4e9-4387-8546-e905602a2516')\"\n",
              "              title=\"Convert this dataframe to an interactive table.\"\n",
              "              style=\"display:none;\">\n",
              "        \n",
              "  <svg xmlns=\"http://www.w3.org/2000/svg\" height=\"24px\"viewBox=\"0 0 24 24\"\n",
              "       width=\"24px\">\n",
              "    <path d=\"M0 0h24v24H0V0z\" fill=\"none\"/>\n",
              "    <path d=\"M18.56 5.44l.94 2.06.94-2.06 2.06-.94-2.06-.94-.94-2.06-.94 2.06-2.06.94zm-11 1L8.5 8.5l.94-2.06 2.06-.94-2.06-.94L8.5 2.5l-.94 2.06-2.06.94zm10 10l.94 2.06.94-2.06 2.06-.94-2.06-.94-.94-2.06-.94 2.06-2.06.94z\"/><path d=\"M17.41 7.96l-1.37-1.37c-.4-.4-.92-.59-1.43-.59-.52 0-1.04.2-1.43.59L10.3 9.45l-7.72 7.72c-.78.78-.78 2.05 0 2.83L4 21.41c.39.39.9.59 1.41.59.51 0 1.02-.2 1.41-.59l7.78-7.78 2.81-2.81c.8-.78.8-2.07 0-2.86zM5.41 20L4 18.59l7.72-7.72 1.47 1.35L5.41 20z\"/>\n",
              "  </svg>\n",
              "      </button>\n",
              "      \n",
              "  <style>\n",
              "    .colab-df-container {\n",
              "      display:flex;\n",
              "      flex-wrap:wrap;\n",
              "      gap: 12px;\n",
              "    }\n",
              "\n",
              "    .colab-df-convert {\n",
              "      background-color: #E8F0FE;\n",
              "      border: none;\n",
              "      border-radius: 50%;\n",
              "      cursor: pointer;\n",
              "      display: none;\n",
              "      fill: #1967D2;\n",
              "      height: 32px;\n",
              "      padding: 0 0 0 0;\n",
              "      width: 32px;\n",
              "    }\n",
              "\n",
              "    .colab-df-convert:hover {\n",
              "      background-color: #E2EBFA;\n",
              "      box-shadow: 0px 1px 2px rgba(60, 64, 67, 0.3), 0px 1px 3px 1px rgba(60, 64, 67, 0.15);\n",
              "      fill: #174EA6;\n",
              "    }\n",
              "\n",
              "    [theme=dark] .colab-df-convert {\n",
              "      background-color: #3B4455;\n",
              "      fill: #D2E3FC;\n",
              "    }\n",
              "\n",
              "    [theme=dark] .colab-df-convert:hover {\n",
              "      background-color: #434B5C;\n",
              "      box-shadow: 0px 1px 3px 1px rgba(0, 0, 0, 0.15);\n",
              "      filter: drop-shadow(0px 1px 2px rgba(0, 0, 0, 0.3));\n",
              "      fill: #FFFFFF;\n",
              "    }\n",
              "  </style>\n",
              "\n",
              "      <script>\n",
              "        const buttonEl =\n",
              "          document.querySelector('#df-907acb8d-f4e9-4387-8546-e905602a2516 button.colab-df-convert');\n",
              "        buttonEl.style.display =\n",
              "          google.colab.kernel.accessAllowed ? 'block' : 'none';\n",
              "\n",
              "        async function convertToInteractive(key) {\n",
              "          const element = document.querySelector('#df-907acb8d-f4e9-4387-8546-e905602a2516');\n",
              "          const dataTable =\n",
              "            await google.colab.kernel.invokeFunction('convertToInteractive',\n",
              "                                                     [key], {});\n",
              "          if (!dataTable) return;\n",
              "\n",
              "          const docLinkHtml = 'Like what you see? Visit the ' +\n",
              "            '<a target=\"_blank\" href=https://colab.research.google.com/notebooks/data_table.ipynb>data table notebook</a>'\n",
              "            + ' to learn more about interactive tables.';\n",
              "          element.innerHTML = '';\n",
              "          dataTable['output_type'] = 'display_data';\n",
              "          await google.colab.output.renderOutput(dataTable, element);\n",
              "          const docLink = document.createElement('div');\n",
              "          docLink.innerHTML = docLinkHtml;\n",
              "          element.appendChild(docLink);\n",
              "        }\n",
              "      </script>\n",
              "    </div>\n",
              "  </div>\n",
              "  "
            ]
          },
          "metadata": {},
          "execution_count": 49
        }
      ]
    },
    {
      "cell_type": "code",
      "source": [
        "get_domains(df)"
      ],
      "metadata": {
        "colab": {
          "base_uri": "https://localhost:8080/"
        },
        "id": "jemtIKNzjs7M",
        "outputId": "a4383b18-dbfe-4eff-9290-9675520ade7a"
      },
      "execution_count": 50,
      "outputs": [
        {
          "output_type": "execute_result",
          "data": {
            "text/plain": [
              "[['Round', 'Square'],\n",
              " ['Triangle', 'Square'],\n",
              " ['Round', 'Square'],\n",
              " ['Purple', 'Green', 'Yellow'],\n",
              " ['Yes', 'No'],\n",
              " ['Yes', 'No']]"
            ]
          },
          "metadata": {},
          "execution_count": 50
        }
      ]
    },
    {
      "cell_type": "code",
      "source": [
        "candidate_elimination(df)"
      ],
      "metadata": {
        "colab": {
          "base_uri": "https://localhost:8080/"
        },
        "id": "37zRwncxgEiD",
        "outputId": "5838c073-06fc-49a4-e125-aa8fc0248532"
      },
      "execution_count": 51,
      "outputs": [
        {
          "output_type": "stream",
          "name": "stdout",
          "text": [
            "\n",
            " G[0]:{('?', '?', '?', '?', '?')}\n",
            "\n",
            " S[0]:{('0', '0', '0', '0', '0')}\n",
            "----------------------------------------------------------------------------------------------------\n",
            "\n",
            " G[1]:{('?', '?', '?', '?', '?')}\n",
            "\n",
            " S[1]:{('Round', 'Triangle', 'Round', 'Purple', 'Yes')}\n",
            "----------------------------------------------------------------------------------------------------\n",
            "\n",
            " G[2]:{('?', 'Triangle', '?', '?', '?'), ('?', '?', 'Round', '?', '?'), ('?', '?', '?', 'Purple', '?'), ('Round', '?', '?', '?', '?')}\n",
            "\n",
            " S[2]:{('Round', 'Triangle', 'Round', 'Purple', 'Yes')}\n",
            "----------------------------------------------------------------------------------------------------\n",
            "\n",
            " G[3]:{('?', '?', 'Round', '?', '?'), ('?', 'Triangle', '?', '?', '?')}\n",
            "\n",
            " S[3]:{('?', 'Triangle', 'Round', '?', 'Yes')}\n",
            "----------------------------------------------------------------------------------------------------\n",
            "\n",
            " G[4]:{('?', '?', 'Round', '?', 'Yes'), ('?', 'Triangle', '?', '?', 'Yes')}\n",
            "\n",
            " S[4]:{('?', 'Triangle', 'Round', '?', 'Yes')}\n",
            "----------------------------------------------------------------------------------------------------\n",
            "\n",
            " G[5]:{('?', '?', 'Round', '?', 'Yes')}\n",
            "\n",
            " S[5]:{('?', '?', 'Round', '?', 'Yes')}\n"
          ]
        }
      ]
    },
    {
      "cell_type": "code",
      "source": [
        "df=pd.read_excel('data.xlsx', sheet_name='Cars')\n",
        "df"
      ],
      "metadata": {
        "colab": {
          "base_uri": "https://localhost:8080/",
          "height": 269
        },
        "id": "2brREOB5j4ti",
        "outputId": "d5fa5e93-7a22-4c9c-c716-a9fca5536823"
      },
      "execution_count": 52,
      "outputs": [
        {
          "output_type": "execute_result",
          "data": {
            "text/plain": [
              "  Origin Manufacturer  Color  Decade     Type Class\n",
              "0  Japan        Honda   Blue    1980  Economy   Yes\n",
              "1  Japan       Toyota  Green    1970   Sports    No\n",
              "2  Japan       Toyota   Blue    1990  Economy   Yes\n",
              "3    USA     Chrysler    Red    1980  Economy    No\n",
              "4  Japan        Honda  White    1980  Economy   Yes\n",
              "5  Japan       Toyota  Green    1980  Economy   Yes\n",
              "6  Japan        Honda    Red    1990  Economy    No"
            ],
            "text/html": [
              "\n",
              "  <div id=\"df-92f739a1-f5d4-4986-bc5a-32d35b770ba9\">\n",
              "    <div class=\"colab-df-container\">\n",
              "      <div>\n",
              "<style scoped>\n",
              "    .dataframe tbody tr th:only-of-type {\n",
              "        vertical-align: middle;\n",
              "    }\n",
              "\n",
              "    .dataframe tbody tr th {\n",
              "        vertical-align: top;\n",
              "    }\n",
              "\n",
              "    .dataframe thead th {\n",
              "        text-align: right;\n",
              "    }\n",
              "</style>\n",
              "<table border=\"1\" class=\"dataframe\">\n",
              "  <thead>\n",
              "    <tr style=\"text-align: right;\">\n",
              "      <th></th>\n",
              "      <th>Origin</th>\n",
              "      <th>Manufacturer</th>\n",
              "      <th>Color</th>\n",
              "      <th>Decade</th>\n",
              "      <th>Type</th>\n",
              "      <th>Class</th>\n",
              "    </tr>\n",
              "  </thead>\n",
              "  <tbody>\n",
              "    <tr>\n",
              "      <th>0</th>\n",
              "      <td>Japan</td>\n",
              "      <td>Honda</td>\n",
              "      <td>Blue</td>\n",
              "      <td>1980</td>\n",
              "      <td>Economy</td>\n",
              "      <td>Yes</td>\n",
              "    </tr>\n",
              "    <tr>\n",
              "      <th>1</th>\n",
              "      <td>Japan</td>\n",
              "      <td>Toyota</td>\n",
              "      <td>Green</td>\n",
              "      <td>1970</td>\n",
              "      <td>Sports</td>\n",
              "      <td>No</td>\n",
              "    </tr>\n",
              "    <tr>\n",
              "      <th>2</th>\n",
              "      <td>Japan</td>\n",
              "      <td>Toyota</td>\n",
              "      <td>Blue</td>\n",
              "      <td>1990</td>\n",
              "      <td>Economy</td>\n",
              "      <td>Yes</td>\n",
              "    </tr>\n",
              "    <tr>\n",
              "      <th>3</th>\n",
              "      <td>USA</td>\n",
              "      <td>Chrysler</td>\n",
              "      <td>Red</td>\n",
              "      <td>1980</td>\n",
              "      <td>Economy</td>\n",
              "      <td>No</td>\n",
              "    </tr>\n",
              "    <tr>\n",
              "      <th>4</th>\n",
              "      <td>Japan</td>\n",
              "      <td>Honda</td>\n",
              "      <td>White</td>\n",
              "      <td>1980</td>\n",
              "      <td>Economy</td>\n",
              "      <td>Yes</td>\n",
              "    </tr>\n",
              "    <tr>\n",
              "      <th>5</th>\n",
              "      <td>Japan</td>\n",
              "      <td>Toyota</td>\n",
              "      <td>Green</td>\n",
              "      <td>1980</td>\n",
              "      <td>Economy</td>\n",
              "      <td>Yes</td>\n",
              "    </tr>\n",
              "    <tr>\n",
              "      <th>6</th>\n",
              "      <td>Japan</td>\n",
              "      <td>Honda</td>\n",
              "      <td>Red</td>\n",
              "      <td>1990</td>\n",
              "      <td>Economy</td>\n",
              "      <td>No</td>\n",
              "    </tr>\n",
              "  </tbody>\n",
              "</table>\n",
              "</div>\n",
              "      <button class=\"colab-df-convert\" onclick=\"convertToInteractive('df-92f739a1-f5d4-4986-bc5a-32d35b770ba9')\"\n",
              "              title=\"Convert this dataframe to an interactive table.\"\n",
              "              style=\"display:none;\">\n",
              "        \n",
              "  <svg xmlns=\"http://www.w3.org/2000/svg\" height=\"24px\"viewBox=\"0 0 24 24\"\n",
              "       width=\"24px\">\n",
              "    <path d=\"M0 0h24v24H0V0z\" fill=\"none\"/>\n",
              "    <path d=\"M18.56 5.44l.94 2.06.94-2.06 2.06-.94-2.06-.94-.94-2.06-.94 2.06-2.06.94zm-11 1L8.5 8.5l.94-2.06 2.06-.94-2.06-.94L8.5 2.5l-.94 2.06-2.06.94zm10 10l.94 2.06.94-2.06 2.06-.94-2.06-.94-.94-2.06-.94 2.06-2.06.94z\"/><path d=\"M17.41 7.96l-1.37-1.37c-.4-.4-.92-.59-1.43-.59-.52 0-1.04.2-1.43.59L10.3 9.45l-7.72 7.72c-.78.78-.78 2.05 0 2.83L4 21.41c.39.39.9.59 1.41.59.51 0 1.02-.2 1.41-.59l7.78-7.78 2.81-2.81c.8-.78.8-2.07 0-2.86zM5.41 20L4 18.59l7.72-7.72 1.47 1.35L5.41 20z\"/>\n",
              "  </svg>\n",
              "      </button>\n",
              "      \n",
              "  <style>\n",
              "    .colab-df-container {\n",
              "      display:flex;\n",
              "      flex-wrap:wrap;\n",
              "      gap: 12px;\n",
              "    }\n",
              "\n",
              "    .colab-df-convert {\n",
              "      background-color: #E8F0FE;\n",
              "      border: none;\n",
              "      border-radius: 50%;\n",
              "      cursor: pointer;\n",
              "      display: none;\n",
              "      fill: #1967D2;\n",
              "      height: 32px;\n",
              "      padding: 0 0 0 0;\n",
              "      width: 32px;\n",
              "    }\n",
              "\n",
              "    .colab-df-convert:hover {\n",
              "      background-color: #E2EBFA;\n",
              "      box-shadow: 0px 1px 2px rgba(60, 64, 67, 0.3), 0px 1px 3px 1px rgba(60, 64, 67, 0.15);\n",
              "      fill: #174EA6;\n",
              "    }\n",
              "\n",
              "    [theme=dark] .colab-df-convert {\n",
              "      background-color: #3B4455;\n",
              "      fill: #D2E3FC;\n",
              "    }\n",
              "\n",
              "    [theme=dark] .colab-df-convert:hover {\n",
              "      background-color: #434B5C;\n",
              "      box-shadow: 0px 1px 3px 1px rgba(0, 0, 0, 0.15);\n",
              "      filter: drop-shadow(0px 1px 2px rgba(0, 0, 0, 0.3));\n",
              "      fill: #FFFFFF;\n",
              "    }\n",
              "  </style>\n",
              "\n",
              "      <script>\n",
              "        const buttonEl =\n",
              "          document.querySelector('#df-92f739a1-f5d4-4986-bc5a-32d35b770ba9 button.colab-df-convert');\n",
              "        buttonEl.style.display =\n",
              "          google.colab.kernel.accessAllowed ? 'block' : 'none';\n",
              "\n",
              "        async function convertToInteractive(key) {\n",
              "          const element = document.querySelector('#df-92f739a1-f5d4-4986-bc5a-32d35b770ba9');\n",
              "          const dataTable =\n",
              "            await google.colab.kernel.invokeFunction('convertToInteractive',\n",
              "                                                     [key], {});\n",
              "          if (!dataTable) return;\n",
              "\n",
              "          const docLinkHtml = 'Like what you see? Visit the ' +\n",
              "            '<a target=\"_blank\" href=https://colab.research.google.com/notebooks/data_table.ipynb>data table notebook</a>'\n",
              "            + ' to learn more about interactive tables.';\n",
              "          element.innerHTML = '';\n",
              "          dataTable['output_type'] = 'display_data';\n",
              "          await google.colab.output.renderOutput(dataTable, element);\n",
              "          const docLink = document.createElement('div');\n",
              "          docLink.innerHTML = docLinkHtml;\n",
              "          element.appendChild(docLink);\n",
              "        }\n",
              "      </script>\n",
              "    </div>\n",
              "  </div>\n",
              "  "
            ]
          },
          "metadata": {},
          "execution_count": 52
        }
      ]
    },
    {
      "cell_type": "code",
      "source": [
        "get_domains(df)"
      ],
      "metadata": {
        "colab": {
          "base_uri": "https://localhost:8080/"
        },
        "id": "S_sKT7QHj41-",
        "outputId": "62d71916-7229-4f32-fce7-5222b00dc90d"
      },
      "execution_count": 53,
      "outputs": [
        {
          "output_type": "execute_result",
          "data": {
            "text/plain": [
              "[['Japan', 'USA'],\n",
              " ['Honda', 'Toyota', 'Chrysler'],\n",
              " ['Blue', 'Green', 'Red', 'White'],\n",
              " [1980, 1970, 1990],\n",
              " ['Economy', 'Sports'],\n",
              " ['Yes', 'No']]"
            ]
          },
          "metadata": {},
          "execution_count": 53
        }
      ]
    },
    {
      "cell_type": "code",
      "source": [
        "candidate_elimination(df)"
      ],
      "metadata": {
        "colab": {
          "base_uri": "https://localhost:8080/"
        },
        "id": "M5PWZyFGj4-V",
        "outputId": "b0e6f970-5e49-48cd-cda5-986c6770317e"
      },
      "execution_count": 54,
      "outputs": [
        {
          "output_type": "stream",
          "name": "stdout",
          "text": [
            "\n",
            " G[0]:{('?', '?', '?', '?', '?')}\n",
            "\n",
            " S[0]:{('0', '0', '0', '0', '0')}\n",
            "----------------------------------------------------------------------------------------------------\n",
            "\n",
            " G[1]:{('?', '?', '?', '?', '?')}\n",
            "\n",
            " S[1]:{('Japan', 'Honda', 'Blue', 1980, 'Economy')}\n",
            "----------------------------------------------------------------------------------------------------\n",
            "\n",
            " G[2]:{('?', '?', 'Blue', '?', '?'), ('?', '?', '?', '?', 'Economy'), ('?', '?', '?', 1980, '?'), ('?', 'Honda', '?', '?', '?')}\n",
            "\n",
            " S[2]:{('Japan', 'Honda', 'Blue', 1980, 'Economy')}\n",
            "----------------------------------------------------------------------------------------------------\n",
            "\n",
            " G[3]:{('?', '?', 'Blue', '?', '?'), ('?', '?', '?', '?', 'Economy')}\n",
            "\n",
            " S[3]:{('Japan', '?', 'Blue', '?', 'Economy')}\n",
            "----------------------------------------------------------------------------------------------------\n",
            "\n",
            " G[4]:{('Japan', '?', '?', '?', 'Economy'), ('?', '?', 'Blue', '?', '?')}\n",
            "\n",
            " S[4]:{('Japan', '?', 'Blue', '?', 'Economy')}\n",
            "----------------------------------------------------------------------------------------------------\n",
            "\n",
            " G[5]:{('Japan', '?', '?', '?', 'Economy')}\n",
            "\n",
            " S[5]:{('Japan', '?', '?', '?', 'Economy')}\n",
            "----------------------------------------------------------------------------------------------------\n",
            "\n",
            " G[6]:{('Japan', '?', '?', '?', 'Economy')}\n",
            "\n",
            " S[6]:{('Japan', '?', '?', '?', 'Economy')}\n",
            "----------------------------------------------------------------------------------------------------\n",
            "\n",
            " G[7]:set()\n",
            "\n",
            " S[7]:set()\n"
          ]
        }
      ]
    },
    {
      "cell_type": "code",
      "source": [
        "df=pd.read_excel('data.xlsx', sheet_name='Day')\n",
        "df"
      ],
      "metadata": {
        "colab": {
          "base_uri": "https://localhost:8080/",
          "height": 175
        },
        "id": "Ym7jpGEokA46",
        "outputId": "38ddd98a-3b76-41ab-f9a4-33dfa5f3898a"
      },
      "execution_count": 55,
      "outputs": [
        {
          "output_type": "execute_result",
          "data": {
            "text/plain": [
              "     sky airtemp humidity    wind water forcast Class\n",
              "0  sunny    warm   normal  strong  warm    same   Yes\n",
              "1  sunny    warm     high  strong  warm    same   Yes\n",
              "2  rainy    cold     high  strong  warm  change    No\n",
              "3  sunny    warm     high  strong  cool  change   Yes"
            ],
            "text/html": [
              "\n",
              "  <div id=\"df-7f005cba-cc27-4134-8cff-df9fde876842\">\n",
              "    <div class=\"colab-df-container\">\n",
              "      <div>\n",
              "<style scoped>\n",
              "    .dataframe tbody tr th:only-of-type {\n",
              "        vertical-align: middle;\n",
              "    }\n",
              "\n",
              "    .dataframe tbody tr th {\n",
              "        vertical-align: top;\n",
              "    }\n",
              "\n",
              "    .dataframe thead th {\n",
              "        text-align: right;\n",
              "    }\n",
              "</style>\n",
              "<table border=\"1\" class=\"dataframe\">\n",
              "  <thead>\n",
              "    <tr style=\"text-align: right;\">\n",
              "      <th></th>\n",
              "      <th>sky</th>\n",
              "      <th>airtemp</th>\n",
              "      <th>humidity</th>\n",
              "      <th>wind</th>\n",
              "      <th>water</th>\n",
              "      <th>forcast</th>\n",
              "      <th>Class</th>\n",
              "    </tr>\n",
              "  </thead>\n",
              "  <tbody>\n",
              "    <tr>\n",
              "      <th>0</th>\n",
              "      <td>sunny</td>\n",
              "      <td>warm</td>\n",
              "      <td>normal</td>\n",
              "      <td>strong</td>\n",
              "      <td>warm</td>\n",
              "      <td>same</td>\n",
              "      <td>Yes</td>\n",
              "    </tr>\n",
              "    <tr>\n",
              "      <th>1</th>\n",
              "      <td>sunny</td>\n",
              "      <td>warm</td>\n",
              "      <td>high</td>\n",
              "      <td>strong</td>\n",
              "      <td>warm</td>\n",
              "      <td>same</td>\n",
              "      <td>Yes</td>\n",
              "    </tr>\n",
              "    <tr>\n",
              "      <th>2</th>\n",
              "      <td>rainy</td>\n",
              "      <td>cold</td>\n",
              "      <td>high</td>\n",
              "      <td>strong</td>\n",
              "      <td>warm</td>\n",
              "      <td>change</td>\n",
              "      <td>No</td>\n",
              "    </tr>\n",
              "    <tr>\n",
              "      <th>3</th>\n",
              "      <td>sunny</td>\n",
              "      <td>warm</td>\n",
              "      <td>high</td>\n",
              "      <td>strong</td>\n",
              "      <td>cool</td>\n",
              "      <td>change</td>\n",
              "      <td>Yes</td>\n",
              "    </tr>\n",
              "  </tbody>\n",
              "</table>\n",
              "</div>\n",
              "      <button class=\"colab-df-convert\" onclick=\"convertToInteractive('df-7f005cba-cc27-4134-8cff-df9fde876842')\"\n",
              "              title=\"Convert this dataframe to an interactive table.\"\n",
              "              style=\"display:none;\">\n",
              "        \n",
              "  <svg xmlns=\"http://www.w3.org/2000/svg\" height=\"24px\"viewBox=\"0 0 24 24\"\n",
              "       width=\"24px\">\n",
              "    <path d=\"M0 0h24v24H0V0z\" fill=\"none\"/>\n",
              "    <path d=\"M18.56 5.44l.94 2.06.94-2.06 2.06-.94-2.06-.94-.94-2.06-.94 2.06-2.06.94zm-11 1L8.5 8.5l.94-2.06 2.06-.94-2.06-.94L8.5 2.5l-.94 2.06-2.06.94zm10 10l.94 2.06.94-2.06 2.06-.94-2.06-.94-.94-2.06-.94 2.06-2.06.94z\"/><path d=\"M17.41 7.96l-1.37-1.37c-.4-.4-.92-.59-1.43-.59-.52 0-1.04.2-1.43.59L10.3 9.45l-7.72 7.72c-.78.78-.78 2.05 0 2.83L4 21.41c.39.39.9.59 1.41.59.51 0 1.02-.2 1.41-.59l7.78-7.78 2.81-2.81c.8-.78.8-2.07 0-2.86zM5.41 20L4 18.59l7.72-7.72 1.47 1.35L5.41 20z\"/>\n",
              "  </svg>\n",
              "      </button>\n",
              "      \n",
              "  <style>\n",
              "    .colab-df-container {\n",
              "      display:flex;\n",
              "      flex-wrap:wrap;\n",
              "      gap: 12px;\n",
              "    }\n",
              "\n",
              "    .colab-df-convert {\n",
              "      background-color: #E8F0FE;\n",
              "      border: none;\n",
              "      border-radius: 50%;\n",
              "      cursor: pointer;\n",
              "      display: none;\n",
              "      fill: #1967D2;\n",
              "      height: 32px;\n",
              "      padding: 0 0 0 0;\n",
              "      width: 32px;\n",
              "    }\n",
              "\n",
              "    .colab-df-convert:hover {\n",
              "      background-color: #E2EBFA;\n",
              "      box-shadow: 0px 1px 2px rgba(60, 64, 67, 0.3), 0px 1px 3px 1px rgba(60, 64, 67, 0.15);\n",
              "      fill: #174EA6;\n",
              "    }\n",
              "\n",
              "    [theme=dark] .colab-df-convert {\n",
              "      background-color: #3B4455;\n",
              "      fill: #D2E3FC;\n",
              "    }\n",
              "\n",
              "    [theme=dark] .colab-df-convert:hover {\n",
              "      background-color: #434B5C;\n",
              "      box-shadow: 0px 1px 3px 1px rgba(0, 0, 0, 0.15);\n",
              "      filter: drop-shadow(0px 1px 2px rgba(0, 0, 0, 0.3));\n",
              "      fill: #FFFFFF;\n",
              "    }\n",
              "  </style>\n",
              "\n",
              "      <script>\n",
              "        const buttonEl =\n",
              "          document.querySelector('#df-7f005cba-cc27-4134-8cff-df9fde876842 button.colab-df-convert');\n",
              "        buttonEl.style.display =\n",
              "          google.colab.kernel.accessAllowed ? 'block' : 'none';\n",
              "\n",
              "        async function convertToInteractive(key) {\n",
              "          const element = document.querySelector('#df-7f005cba-cc27-4134-8cff-df9fde876842');\n",
              "          const dataTable =\n",
              "            await google.colab.kernel.invokeFunction('convertToInteractive',\n",
              "                                                     [key], {});\n",
              "          if (!dataTable) return;\n",
              "\n",
              "          const docLinkHtml = 'Like what you see? Visit the ' +\n",
              "            '<a target=\"_blank\" href=https://colab.research.google.com/notebooks/data_table.ipynb>data table notebook</a>'\n",
              "            + ' to learn more about interactive tables.';\n",
              "          element.innerHTML = '';\n",
              "          dataTable['output_type'] = 'display_data';\n",
              "          await google.colab.output.renderOutput(dataTable, element);\n",
              "          const docLink = document.createElement('div');\n",
              "          docLink.innerHTML = docLinkHtml;\n",
              "          element.appendChild(docLink);\n",
              "        }\n",
              "      </script>\n",
              "    </div>\n",
              "  </div>\n",
              "  "
            ]
          },
          "metadata": {},
          "execution_count": 55
        }
      ]
    },
    {
      "cell_type": "code",
      "source": [
        "get_domains(df)"
      ],
      "metadata": {
        "colab": {
          "base_uri": "https://localhost:8080/"
        },
        "id": "39d3WdA4kBCa",
        "outputId": "5442c1f0-d280-4eb5-cef8-48c8f1475aad"
      },
      "execution_count": 56,
      "outputs": [
        {
          "output_type": "execute_result",
          "data": {
            "text/plain": [
              "[['sunny', 'rainy'],\n",
              " ['warm', 'cold'],\n",
              " ['normal', 'high'],\n",
              " ['strong'],\n",
              " ['warm', 'cool'],\n",
              " ['same', 'change'],\n",
              " ['Yes', 'No']]"
            ]
          },
          "metadata": {},
          "execution_count": 56
        }
      ]
    },
    {
      "cell_type": "code",
      "source": [
        "candidate_elimination(df)"
      ],
      "metadata": {
        "colab": {
          "base_uri": "https://localhost:8080/"
        },
        "id": "GxP18H85kBKq",
        "outputId": "6de37be3-ee7f-429d-a036-2defabce8fc8"
      },
      "execution_count": 57,
      "outputs": [
        {
          "output_type": "stream",
          "name": "stdout",
          "text": [
            "\n",
            " G[0]:{('?', '?', '?', '?', '?', '?')}\n",
            "\n",
            " S[0]:{('0', '0', '0', '0', '0', '0')}\n",
            "----------------------------------------------------------------------------------------------------\n",
            "\n",
            " G[1]:{('?', '?', '?', '?', '?', '?')}\n",
            "\n",
            " S[1]:{('sunny', 'warm', 'normal', 'strong', 'warm', 'same')}\n",
            "----------------------------------------------------------------------------------------------------\n",
            "\n",
            " G[2]:{('?', '?', '?', '?', '?', '?')}\n",
            "\n",
            " S[2]:{('sunny', 'warm', '?', 'strong', 'warm', 'same')}\n",
            "----------------------------------------------------------------------------------------------------\n",
            "\n",
            " G[3]:{('?', 'warm', '?', '?', '?', '?'), ('?', '?', '?', '?', '?', 'same'), ('sunny', '?', '?', '?', '?', '?')}\n",
            "\n",
            " S[3]:{('sunny', 'warm', '?', 'strong', 'warm', 'same')}\n",
            "----------------------------------------------------------------------------------------------------\n",
            "\n",
            " G[4]:{('?', 'warm', '?', '?', '?', '?'), ('sunny', '?', '?', '?', '?', '?')}\n",
            "\n",
            " S[4]:{('sunny', 'warm', '?', 'strong', '?', '?')}\n"
          ]
        }
      ]
    },
    {
      "cell_type": "code",
      "source": [
        "import pandas as pd\n",
        "df=pd.read_excel('data.xlsx', sheet_name='Cars')\n",
        "\n",
        "print(f\"\\nThe total number of training instances are : {df.shape[0]}\")\n",
        "n_attribute = df.shape[1]-1\n",
        "\n",
        "S = ['0']*n_attribute\n",
        "print(\"\\nThe initial Specific hypothesis is : \",S)\n",
        "G = [['?' for i in range(n_attribute)] for i in range(n_attribute)]\n",
        "print(\"\\nThe initial general hypothesis is : \",  G)\n",
        "\n",
        "for index, row in df.iterrows():\n",
        "  if(row[\"Class\"]==\"No\"):\n",
        "    print (f\"\\nInstance {index+1} is {row.values} => Negative Instance\")\n",
        "    j=0\n",
        "    for col_name,value in row.iteritems():\n",
        "       if(j<n_attribute):\n",
        "         if(S[j]!=value):\n",
        "            G[j][j]=S[j]\n",
        "         if(S[j]=='?'):\n",
        "            G[j][j]='?'\n",
        "       j+=1\n",
        "    \n",
        "  if(row[\"Class\"]=='Yes'):\n",
        "        print (f\"\\nInstance {index+1} is {row.values} => Positive Instance\")\n",
        "        j=0\n",
        "        for col_name,value in row.iteritems():\n",
        "            if(j<n_attribute):\n",
        "              S[j]=value if (S[j] == '0' or S[j] == value) else '?'\n",
        "              G[j][j]=value if (G[j][j] == value) else '?'\n",
        "            j+=1\n",
        "  print(f\"S{index+1} = {S}\\n\") \n",
        "  print(f\"G{index+1} = {G}\\n\") \n",
        "\n",
        "print('=' * 100)\n",
        "G= list(filter(lambda x: x!=['?']*n_attribute , G))\n",
        "print(f\"S = {S}\\n\") \n",
        "print(f\"G = {G}\\n\") "
      ],
      "metadata": {
        "id": "KX3ze0-0riZj",
        "colab": {
          "base_uri": "https://localhost:8080/"
        },
        "outputId": "4bba57fa-51af-498a-aa86-72b84a89afcb"
      },
      "execution_count": 58,
      "outputs": [
        {
          "output_type": "stream",
          "name": "stdout",
          "text": [
            "\n",
            "The total number of training instances are : 7\n",
            "\n",
            "The initial Specific hypothesis is :  ['0', '0', '0', '0', '0']\n",
            "\n",
            "The initial general hypothesis is :  [['?', '?', '?', '?', '?'], ['?', '?', '?', '?', '?'], ['?', '?', '?', '?', '?'], ['?', '?', '?', '?', '?'], ['?', '?', '?', '?', '?']]\n",
            "\n",
            "Instance 1 is ['Japan' 'Honda' 'Blue' 1980 'Economy' 'Yes'] => Positive Instance\n",
            "S1 = ['Japan', 'Honda', 'Blue', 1980, 'Economy']\n",
            "\n",
            "G1 = [['?', '?', '?', '?', '?'], ['?', '?', '?', '?', '?'], ['?', '?', '?', '?', '?'], ['?', '?', '?', '?', '?'], ['?', '?', '?', '?', '?']]\n",
            "\n",
            "\n",
            "Instance 2 is ['Japan' 'Toyota' 'Green' 1970 'Sports' 'No'] => Negative Instance\n",
            "S2 = ['Japan', 'Honda', 'Blue', 1980, 'Economy']\n",
            "\n",
            "G2 = [['?', '?', '?', '?', '?'], ['?', 'Honda', '?', '?', '?'], ['?', '?', 'Blue', '?', '?'], ['?', '?', '?', 1980, '?'], ['?', '?', '?', '?', 'Economy']]\n",
            "\n",
            "\n",
            "Instance 3 is ['Japan' 'Toyota' 'Blue' 1990 'Economy' 'Yes'] => Positive Instance\n",
            "S3 = ['Japan', '?', 'Blue', '?', 'Economy']\n",
            "\n",
            "G3 = [['?', '?', '?', '?', '?'], ['?', '?', '?', '?', '?'], ['?', '?', 'Blue', '?', '?'], ['?', '?', '?', '?', '?'], ['?', '?', '?', '?', 'Economy']]\n",
            "\n",
            "\n",
            "Instance 4 is ['USA' 'Chrysler' 'Red' 1980 'Economy' 'No'] => Negative Instance\n",
            "S4 = ['Japan', '?', 'Blue', '?', 'Economy']\n",
            "\n",
            "G4 = [['Japan', '?', '?', '?', '?'], ['?', '?', '?', '?', '?'], ['?', '?', 'Blue', '?', '?'], ['?', '?', '?', '?', '?'], ['?', '?', '?', '?', 'Economy']]\n",
            "\n",
            "\n",
            "Instance 5 is ['Japan' 'Honda' 'White' 1980 'Economy' 'Yes'] => Positive Instance\n",
            "S5 = ['Japan', '?', '?', '?', 'Economy']\n",
            "\n",
            "G5 = [['Japan', '?', '?', '?', '?'], ['?', '?', '?', '?', '?'], ['?', '?', '?', '?', '?'], ['?', '?', '?', '?', '?'], ['?', '?', '?', '?', 'Economy']]\n",
            "\n",
            "\n",
            "Instance 6 is ['Japan' 'Toyota' 'Green' 1980 'Economy' 'Yes'] => Positive Instance\n",
            "S6 = ['Japan', '?', '?', '?', 'Economy']\n",
            "\n",
            "G6 = [['Japan', '?', '?', '?', '?'], ['?', '?', '?', '?', '?'], ['?', '?', '?', '?', '?'], ['?', '?', '?', '?', '?'], ['?', '?', '?', '?', 'Economy']]\n",
            "\n",
            "\n",
            "Instance 7 is ['Japan' 'Honda' 'Red' 1990 'Economy' 'No'] => Negative Instance\n",
            "S7 = ['Japan', '?', '?', '?', 'Economy']\n",
            "\n",
            "G7 = [['Japan', '?', '?', '?', '?'], ['?', '?', '?', '?', '?'], ['?', '?', '?', '?', '?'], ['?', '?', '?', '?', '?'], ['?', '?', '?', '?', 'Economy']]\n",
            "\n",
            "====================================================================================================\n",
            "S = ['Japan', '?', '?', '?', 'Economy']\n",
            "\n",
            "G = [['Japan', '?', '?', '?', '?'], ['?', '?', '?', '?', 'Economy']]\n",
            "\n"
          ]
        }
      ]
    },
    {
      "cell_type": "code",
      "source": [
        "import numpy as np\n",
        "np.random.normal(scale=0.5, size=(4, 2))"
      ],
      "metadata": {
        "colab": {
          "base_uri": "https://localhost:8080/"
        },
        "id": "Rsowb4QDWW31",
        "outputId": "ff78af52-13c4-4b66-9be4-06ec3c69ac7c"
      },
      "execution_count": 59,
      "outputs": [
        {
          "output_type": "execute_result",
          "data": {
            "text/plain": [
              "array([[ 0.32534058,  0.51597727],\n",
              "       [ 0.27721672,  0.11320288],\n",
              "       [-0.0346035 ,  0.06238397],\n",
              "       [-0.31888357,  0.21548955]])"
            ]
          },
          "metadata": {},
          "execution_count": 59
        }
      ]
    },
    {
      "cell_type": "code",
      "source": [
        "np.random.normal(scale=0.5,size=(2,3))"
      ],
      "metadata": {
        "colab": {
          "base_uri": "https://localhost:8080/"
        },
        "id": "e1-5gmBYWXX8",
        "outputId": "19483d0b-aab1-48e9-946b-4a473cf5b117"
      },
      "execution_count": 60,
      "outputs": [
        {
          "output_type": "execute_result",
          "data": {
            "text/plain": [
              "array([[ 0.59820425, -0.737821  , -0.65441909],\n",
              "       [ 0.17909421,  0.65801256,  0.20745868]])"
            ]
          },
          "metadata": {},
          "execution_count": 60
        }
      ]
    },
    {
      "cell_type": "code",
      "source": [],
      "metadata": {
        "id": "opRLP6B7Ww6w"
      },
      "execution_count": 30,
      "outputs": []
    }
  ],
  "metadata": {
    "kernelspec": {
      "display_name": "Python 3",
      "language": "python",
      "name": "python3"
    },
    "language_info": {
      "codemirror_mode": {
        "name": "ipython",
        "version": 3
      },
      "file_extension": ".py",
      "mimetype": "text/x-python",
      "name": "python",
      "nbconvert_exporter": "python",
      "pygments_lexer": "ipython3",
      "version": "3.6.3"
    },
    "colab": {
      "provenance": []
    }
  },
  "nbformat": 4,
  "nbformat_minor": 0
}