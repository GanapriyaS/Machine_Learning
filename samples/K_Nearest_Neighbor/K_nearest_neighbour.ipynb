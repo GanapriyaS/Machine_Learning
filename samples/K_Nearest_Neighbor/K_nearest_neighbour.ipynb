{
  "nbformat": 4,
  "nbformat_minor": 0,
  "metadata": {
    "colab": {
      "provenance": []
    },
    "kernelspec": {
      "name": "python3",
      "display_name": "Python 3"
    },
    "language_info": {
      "name": "python"
    }
  },
  "cells": [
    {
      "cell_type": "code",
      "execution_count": 1,
      "metadata": {
        "colab": {
          "base_uri": "https://localhost:8080/"
        },
        "id": "suvL1kxj33Ob",
        "outputId": "6144df3e-dfc1-4b96-ec04-d66dc7f79816"
      },
      "outputs": [
        {
          "output_type": "stream",
          "name": "stdout",
          "text": [
            "Iris Data set loaded...\n",
            "Dataset is split into training and testing...\n",
            "Size of trainng data and its label (135, 4) (135,)\n",
            "Size of testing data and its label (15, 4) (15,)\n",
            "Label 0 - setosa\n",
            "Label 1 - versicolor\n",
            "Label 2 - virginica\n",
            "Results of Classification using K-nn with K=1 \n",
            " Sample: [5.4 3.4 1.5 0.4]  Actual-label: 0  Predicted-label: 0\n",
            " Sample: [5.  3.2 1.2 0.2]  Actual-label: 0  Predicted-label: 0\n",
            " Sample: [6.4 3.2 5.3 2.3]  Actual-label: 2  Predicted-label: 2\n",
            " Sample: [5.4 3.7 1.5 0.2]  Actual-label: 0  Predicted-label: 0\n",
            " Sample: [5.5 2.3 4.  1.3]  Actual-label: 1  Predicted-label: 1\n",
            " Sample: [6.7 3.1 4.7 1.5]  Actual-label: 1  Predicted-label: 1\n",
            " Sample: [4.8 3.4 1.6 0.2]  Actual-label: 0  Predicted-label: 0\n",
            " Sample: [5.7 3.  4.2 1.2]  Actual-label: 1  Predicted-label: 1\n",
            " Sample: [6.9 3.2 5.7 2.3]  Actual-label: 2  Predicted-label: 2\n",
            " Sample: [6.6 2.9 4.6 1.3]  Actual-label: 1  Predicted-label: 1\n",
            " Sample: [5.1 3.7 1.5 0.4]  Actual-label: 0  Predicted-label: 0\n",
            " Sample: [5.7 2.9 4.2 1.3]  Actual-label: 1  Predicted-label: 1\n",
            " Sample: [6.  3.  4.8 1.8]  Actual-label: 2  Predicted-label: 2\n",
            " Sample: [5.4 3.4 1.7 0.2]  Actual-label: 0  Predicted-label: 0\n",
            " Sample: [6.3 2.7 4.9 1.8]  Actual-label: 2  Predicted-label: 2\n",
            "Classification Accuracy : 1.0\n",
            "Confusion matrix\n",
            "[[6 0 0]\n",
            " [0 5 0]\n",
            " [0 0 4]]\n",
            "Accuracy metrics\n",
            "              precision    recall  f1-score   support\n",
            "\n",
            "           0       1.00      1.00      1.00         6\n",
            "           1       1.00      1.00      1.00         5\n",
            "           2       1.00      1.00      1.00         4\n",
            "\n",
            "    accuracy                           1.00        15\n",
            "   macro avg       1.00      1.00      1.00        15\n",
            "weighted avg       1.00      1.00      1.00        15\n",
            "\n"
          ]
        }
      ],
      "source": [
        "from sklearn.model_selection import train_test_split \n",
        "from sklearn.neighbors import KNeighborsClassifier \n",
        "from sklearn import datasets \n",
        "iris=datasets.load_iris()\n",
        "\n",
        "print(\"Iris Data set loaded...\")\n",
        "x_train, x_test, y_train, y_test = train_test_split(iris.data,iris.target,test_size=0.1)\n",
        "print(\"Dataset is split into training and testing...\")\n",
        "print(\"Size of trainng data and its label\",x_train.shape,y_train.shape)\n",
        "print(\"Size of testing data and its label\",x_test.shape, y_test.shape)\n",
        "for i in range(len(iris.target_names)):\n",
        "  print(\"Label\", i , \"-\",str(iris.target_names[i]))\n",
        "classifier = KNeighborsClassifier(n_neighbors=1)\n",
        "classifier.fit(x_train, y_train)\n",
        "y_pred=classifier.predict(x_test)\n",
        "print(\"Results of Classification using K-nn with K=1 \")\n",
        "for r in range(0,len(x_test)):\n",
        "  print(\" Sample:\", str(x_test[r]), \" Actual-label:\", str(y_test[r]), \" Predicted-label:\", str(y_pred[r]))\n",
        "print(\"Classification Accuracy :\" , classifier.score(x_test,y_test));\n",
        "from sklearn.metrics import classification_report,confusion_matrix\n",
        "print('Confusion matrix')\n",
        "print(confusion_matrix(y_test,y_pred))\n",
        "print('Accuracy metrics')\n",
        "print(classification_report(y_test,y_pred))"
      ]
    },
    {
      "cell_type": "markdown",
      "source": [
        "\n",
        "\n",
        "\n",
        "\n",
        "```\n",
        "Step 1: Calculate Euclidean Distance\n",
        "\n",
        "Step 2: Get Nearest Neighbors\n",
        "\n",
        "Step 3: Make Predictions\n",
        "```\n",
        "\n",
        "\n"
      ],
      "metadata": {
        "id": "YnMckY-GDCd8"
      }
    },
    {
      "cell_type": "markdown",
      "source": [
        "[Reference for scratch implementation](https://machinelearningmastery.com/tutorial-to-implement-k-nearest-neighbors-in-python-from-scratch/)"
      ],
      "metadata": {
        "id": "n1vM2KI74N6W"
      }
    },
    {
      "cell_type": "code",
      "source": [
        "import pandas as pd\n",
        "from math import sqrt\n",
        "from random import seed,randrange\n",
        "from sklearn.metrics import classification_report,confusion_matrix"
      ],
      "metadata": {
        "id": "GxYIPUTo4Bh-"
      },
      "execution_count": 2,
      "outputs": []
    },
    {
      "cell_type": "code",
      "source": [
        "def str_column_to_float(dataset,column):\n",
        "  for row in dataset:\n",
        "    if(isinstance(row[column],str)):\n",
        "      row[column]=float(row[column].strip())"
      ],
      "metadata": {
        "id": "1fQETCru5N8s"
      },
      "execution_count": 3,
      "outputs": []
    },
    {
      "cell_type": "code",
      "source": [
        "def str_column_to_int(dataset, column):\n",
        "\tclass_values = [row[column] for row in dataset]\n",
        "\tunique = set(class_values)\n",
        "\tlookup = dict()\n",
        "\tfor i, value in enumerate(unique):\n",
        "\t\tlookup[value] = i\n",
        "\tfor row in dataset:\n",
        "\t\trow[column] = lookup[row[column]]\n",
        "\treturn lookup"
      ],
      "metadata": {
        "id": "oQvjeLW45wWY"
      },
      "execution_count": 4,
      "outputs": []
    },
    {
      "cell_type": "code",
      "source": [
        "data = pd.read_csv('iris.csv')\n",
        "data=data.values.tolist()\n",
        "for i in range(len(data[0])-1):\n",
        "\tstr_column_to_float(data, i)\n",
        "# convert class column to integers\n",
        "str_column_to_int(data, len(data[0])-1)"
      ],
      "metadata": {
        "id": "AJ2Q1mQO4gFV",
        "colab": {
          "base_uri": "https://localhost:8080/"
        },
        "outputId": "b4be137b-764a-4449-c030-366fd1e07122"
      },
      "execution_count": 5,
      "outputs": [
        {
          "output_type": "execute_result",
          "data": {
            "text/plain": [
              "{'Iris-versicolor': 0, 'Iris-setosa': 1, 'Iris-virginica': 2}"
            ]
          },
          "metadata": {},
          "execution_count": 5
        }
      ]
    },
    {
      "cell_type": "code",
      "source": [
        "def euclidean_distance(row1, row2):\n",
        "\tdistance = 0.0\n",
        "\tfor i in range(len(row1)-1):\n",
        "\t\tdistance += (row1[i] - row2[i])**2\n",
        "\treturn sqrt(distance)"
      ],
      "metadata": {
        "id": "fQG-uWme4v_u"
      },
      "execution_count": 6,
      "outputs": []
    },
    {
      "cell_type": "code",
      "source": [
        "row0 = data[0]\n",
        "dis=[]\n",
        "for row in data:\n",
        "\tdistance = euclidean_distance(row0, row)\n",
        "\tdis.append(distance)\n",
        "print(dis)"
      ],
      "metadata": {
        "colab": {
          "base_uri": "https://localhost:8080/"
        },
        "id": "t8bqUcqh5IOG",
        "outputId": "10c6eb0e-85b9-4082-9c42-2d4eedfc0c27"
      },
      "execution_count": 7,
      "outputs": [
        {
          "output_type": "stream",
          "name": "stdout",
          "text": [
            "[0.0, 0.30000000000000016, 0.3316624790355407, 0.608276253029822, 1.0908712114635715, 0.5099019513592788, 0.42426406871192834, 0.5099019513592785, 0.17320508075688784, 0.8660254037844388, 0.4582575694955841, 0.1414213562373099, 0.6782329983125273, 1.360147050873544, 1.6278820596099708, 1.0535653752852738, 0.5477225575051659, 1.1747340124470729, 0.8366600265340752, 0.7071067811865475, 0.7615773105863909, 0.7810249675906658, 0.5567764362830019, 0.6480740698407861, 0.22360679774997896, 0.4999999999999999, 0.5916079783099616, 0.49999999999999983, 0.3464101615137758, 0.24494897427831822, 0.6782329983125268, 1.1489125293076055, 1.3416407864998738, 0.17320508075688784, 0.3, 0.7874007874011809, 0.17320508075688784, 0.5099019513592784, 0.4582575694955836, 0.529150262212918, 0.8185352771872454, 0.5477225575051662, 0.6782329983125268, 0.9848857801796101, 0.14142135623730986, 0.8485281374238567, 0.3605551275463996, 0.812403840463596, 0.31622776601683766, 4.096339829652808, 3.6864617182333523, 4.236744032862973, 2.9698484809834995, 3.811823710509183, 3.3911649915626345, 3.8600518131237567, 2.1470910553583886, 3.788139384975162, 2.8053520278211073, 2.4617067250182343, 3.2449961479175906, 3.0413812651491097, 3.712142238654117, 2.5592967784139455, 3.7000000000000006, 3.433656942677879, 2.971531591620725, 3.6918829883949464, 2.792848008753788, 3.893584466786357, 3.0740852297878796, 4.018706259482024, 3.6565010597564442, 3.4467375879228173, 3.651027252705737, 4.080441152620633, 4.295346318982906, 3.5383612025908264, 2.4186773244895647, 2.7, 2.5787593916455256, 2.8548204847240393, 4.11703777004778, 3.398529093593286, 3.59722114972099, 3.9786932528155523, 3.55808937493144, 2.9983328701129897, 2.929163703175362, 3.2434549480453714, 3.622154055254966, 2.9546573405388314, 2.179449471770337, 3.10322412983658, 3.0789608636681307, 3.1144823004794877, 3.3645207682521443, 1.9131126469708992, 3.029851481508623, 5.338539126015655, 4.180908992073374, 5.357238094391549, 4.708502946797421, 5.091168824543142, 6.159545437773796, 3.479942528261063, 5.686826883245173, 5.040833264451424, 5.747173218200404, 4.41927595879687, 4.521061822182926, 4.902040391510457, 4.134005321718878, 4.402272140611027, 4.68081189538738, 4.682947789587238, 6.369458375717672, 6.5314623171231725, 4.06201920231798, 5.1903757089443925, 4.0024992192379, 6.2617888817813085, 4.106093033529563, 5.042816673249187, 5.389805191284746, 3.9812058474788765, 4.031128874149275, 4.851803788283281, 5.158488150611572, 5.591958512006325, 6.154673021371647, 4.891829923454003, 4.168932717135165, 4.547526800360829, 5.860034129593443, 4.959838707054897, 4.650806381693394, 3.9153543900903784, 4.860041152089146, 5.072474741188959, 4.702127178203498, 4.180908992073374, 5.320714237769211, 5.206726418777926, 4.699999999999999, 4.249705872175156, 4.498888751680798, 4.718050444834179, 4.153311931459037]\n"
          ]
        }
      ]
    },
    {
      "cell_type": "code",
      "source": [
        "def accuracy_metric(actual,predicted):\n",
        "  correct=0\n",
        "  for i in range(len(actual)):\n",
        "    if actual[i]==predicted[i]:\n",
        "      correct+=1\n",
        "  print(confusion_matrix(actual,predicted))\n",
        "  print(classification_report(actual,predicted))\n",
        "  return correct/float(len(actual))*100.0"
      ],
      "metadata": {
        "id": "iXkkW-UY6c_E"
      },
      "execution_count": 8,
      "outputs": []
    },
    {
      "cell_type": "code",
      "source": [
        "def get_neighbors(train, row, num_neighbors):\n",
        "\tdistances,neighbors = [],[]\n",
        "\tfor train_row in train:\n",
        "\t\tdist = euclidean_distance(row, train_row)\n",
        "\t\tdistances.append((train_row, dist))\n",
        "\tdistances.sort(key=lambda x: x[1])\n",
        "\tneighbors = [distances[i][0] for i in range(num_neighbors)]\n",
        "\treturn neighbors"
      ],
      "metadata": {
        "id": "qx8Q-Uyr6jq_"
      },
      "execution_count": 9,
      "outputs": []
    },
    {
      "cell_type": "code",
      "source": [
        "neighbors = get_neighbors(data, data[0], 3)\n",
        "for neighbor in neighbors:\n",
        "\tprint(neighbor)"
      ],
      "metadata": {
        "colab": {
          "base_uri": "https://localhost:8080/"
        },
        "id": "vmMy0VUz9-sw",
        "outputId": "9b6bd87d-3cff-4bae-fe15-48c4c4d4cbdf"
      },
      "execution_count": 10,
      "outputs": [
        {
          "output_type": "stream",
          "name": "stdout",
          "text": [
            "[4.9, 3.0, 1.4, 0.2, 1]\n",
            "[4.8, 3.0, 1.4, 0.3, 1]\n",
            "[4.8, 3.0, 1.4, 0.1, 1]\n"
          ]
        }
      ]
    },
    {
      "cell_type": "code",
      "source": [
        "def predict_classification(train, row, num_neighbors):\n",
        "\tneighbors = get_neighbors(train, row, num_neighbors)\n",
        "\toutput_values = [row[-1] for row in neighbors]\n",
        "\tprediction = max(output_values, key=output_values.count)\n",
        "\treturn prediction"
      ],
      "metadata": {
        "id": "RpHJYh1Q-AzO"
      },
      "execution_count": 11,
      "outputs": []
    },
    {
      "cell_type": "code",
      "source": [
        "prediction = predict_classification(data, data[0], 3)\n",
        "print(f'{data[0][-1]}, {prediction}')"
      ],
      "metadata": {
        "colab": {
          "base_uri": "https://localhost:8080/"
        },
        "id": "IQ4FDPVg_c4d",
        "outputId": "3b907a98-90e9-44e4-e521-41ff4c053456"
      },
      "execution_count": 12,
      "outputs": [
        {
          "output_type": "stream",
          "name": "stdout",
          "text": [
            "1, 1\n"
          ]
        }
      ]
    },
    {
      "cell_type": "code",
      "source": [
        "def cross_validation_split(data, folds=3):\n",
        "\tdataset_split = []\n",
        "\tdataset_copy = data\n",
        "\tfold_size = int(len(data) / folds)\n",
        "\tfor i in range(folds):\n",
        "\t\tfold = []\n",
        "\t\twhile len(fold) < fold_size:\n",
        "\t\t\tindex = randrange(len(dataset_copy))\n",
        "\t\t\tfold.append(dataset_copy.pop(index))\n",
        "\t\tdataset_split.append(fold)\n",
        "\treturn dataset_split "
      ],
      "metadata": {
        "id": "_woeOC5x_gbM"
      },
      "execution_count": 13,
      "outputs": []
    },
    {
      "cell_type": "code",
      "source": [
        "def k_nearest_neighbors(train, test, num_neighbors):\n",
        "\tpredictions = []\n",
        "\tfor row in test:\n",
        "\t\toutput = predict_classification(train, row, num_neighbors)\n",
        "\t\tpredictions.append(output)\n",
        "\treturn(predictions)"
      ],
      "metadata": {
        "id": "-5tDzpjy_-H_"
      },
      "execution_count": 14,
      "outputs": []
    },
    {
      "cell_type": "code",
      "source": [
        "def evaluate_algorithm(dataset, algorithm, n_folds, *args):\n",
        "\tfolds = cross_validation_split(dataset, n_folds)\n",
        "\tscores = list()\n",
        "\tfor fold in folds:\n",
        "\t\ttrain_set = list(folds)\n",
        "\t\ttrain_set.remove(fold)\n",
        "\t\ttrain_set = sum(train_set, [])\n",
        "\t\ttest_set = list()\n",
        "\t\tfor row in fold:\n",
        "\t\t\trow_copy = list(row)\n",
        "\t\t\ttest_set.append(row_copy)\n",
        "\t\t\trow_copy[-1] = None\n",
        "\t\tpredicted = k_nearest_neighbors(train_set, test_set, *args)\n",
        "\t\tactual = [row[-1] for row in fold]\n",
        "\t\taccuracy = accuracy_metric(actual, predicted)\n",
        "\t\tscores.append(accuracy)\n",
        "\treturn scores"
      ],
      "metadata": {
        "id": "0_sNRzjZALmZ"
      },
      "execution_count": 15,
      "outputs": []
    },
    {
      "cell_type": "code",
      "source": [
        "n_folds = 5\n",
        "num_neighbors = 5\n",
        "scores = evaluate_algorithm(data, k_nearest_neighbors, n_folds, num_neighbors)\n",
        "print('Scores: %s' % scores)\n",
        "print('Mean Accuracy: %.3f%%' % (sum(scores)/float(len(scores))))"
      ],
      "metadata": {
        "colab": {
          "base_uri": "https://localhost:8080/"
        },
        "id": "_5wgmA34Bv5z",
        "outputId": "74807766-edde-4986-cab1-dae859eee9c3"
      },
      "execution_count": 16,
      "outputs": [
        {
          "output_type": "stream",
          "name": "stdout",
          "text": [
            "[[12  0  1]\n",
            " [ 0  5  0]\n",
            " [ 0  0 11]]\n",
            "              precision    recall  f1-score   support\n",
            "\n",
            "           0       1.00      0.92      0.96        13\n",
            "           1       1.00      1.00      1.00         5\n",
            "           2       0.92      1.00      0.96        11\n",
            "\n",
            "    accuracy                           0.97        29\n",
            "   macro avg       0.97      0.97      0.97        29\n",
            "weighted avg       0.97      0.97      0.97        29\n",
            "\n",
            "[[ 5  0  0]\n",
            " [ 0 13  0]\n",
            " [ 0  0 11]]\n",
            "              precision    recall  f1-score   support\n",
            "\n",
            "           0       1.00      1.00      1.00         5\n",
            "           1       1.00      1.00      1.00        13\n",
            "           2       1.00      1.00      1.00        11\n",
            "\n",
            "    accuracy                           1.00        29\n",
            "   macro avg       1.00      1.00      1.00        29\n",
            "weighted avg       1.00      1.00      1.00        29\n",
            "\n",
            "[[ 7  0  0]\n",
            " [ 0 11  0]\n",
            " [ 1  0 10]]\n",
            "              precision    recall  f1-score   support\n",
            "\n",
            "           0       0.88      1.00      0.93         7\n",
            "           1       1.00      1.00      1.00        11\n",
            "           2       1.00      0.91      0.95        11\n",
            "\n",
            "    accuracy                           0.97        29\n",
            "   macro avg       0.96      0.97      0.96        29\n",
            "weighted avg       0.97      0.97      0.97        29\n",
            "\n",
            "[[12  0  1]\n",
            " [ 0  9  0]\n",
            " [ 1  0  6]]\n",
            "              precision    recall  f1-score   support\n",
            "\n",
            "           0       0.92      0.92      0.92        13\n",
            "           1       1.00      1.00      1.00         9\n",
            "           2       0.86      0.86      0.86         7\n",
            "\n",
            "    accuracy                           0.93        29\n",
            "   macro avg       0.93      0.93      0.93        29\n",
            "weighted avg       0.93      0.93      0.93        29\n",
            "\n",
            "[[ 8  0  2]\n",
            " [ 0 11  0]\n",
            " [ 0  0  8]]\n",
            "              precision    recall  f1-score   support\n",
            "\n",
            "           0       1.00      0.80      0.89        10\n",
            "           1       1.00      1.00      1.00        11\n",
            "           2       0.80      1.00      0.89         8\n",
            "\n",
            "    accuracy                           0.93        29\n",
            "   macro avg       0.93      0.93      0.93        29\n",
            "weighted avg       0.94      0.93      0.93        29\n",
            "\n",
            "Scores: [96.55172413793103, 100.0, 96.55172413793103, 93.10344827586206, 93.10344827586206]\n",
            "Mean Accuracy: 95.862%\n"
          ]
        }
      ]
    },
    {
      "cell_type": "code",
      "source": [],
      "metadata": {
        "id": "01Tne2EKCcLc"
      },
      "execution_count": 16,
      "outputs": []
    }
  ]
}