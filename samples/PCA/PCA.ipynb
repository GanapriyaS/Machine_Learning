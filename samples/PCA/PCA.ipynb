{
  "nbformat": 4,
  "nbformat_minor": 0,
  "metadata": {
    "colab": {
      "provenance": []
    },
    "kernelspec": {
      "name": "python3",
      "display_name": "Python 3"
    },
    "language_info": {
      "name": "python"
    }
  },
  "cells": [
    {
      "cell_type": "markdown",
      "source": [
        "[Reference](https://github.com/rohit6969/PCA-from-Scratch/blob/main/PCA_RohitParajuli_1928322.ipynb)"
      ],
      "metadata": {
        "id": "wQkc6EAO8hiS"
      }
    },
    {
      "cell_type": "markdown",
      "source": [
        "* Principal Component analysis reduces high dimensional data to lower dimensions while capturing maximum variability of the dataset.\n",
        "* Principal Component analysis to be like fitting an n-dimensional ellipsoid to the data so that each axis of the ellipsoid represents a principal component. The larger the principal component axis the larger the variability in data it represents.\n",
        "\n",
        "![Fitting-an-ellipse-to-data.jpg.webp](data:image/webp;base64,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)"
      ],
      "metadata": {
        "id": "ESHBVdl58xGI"
      }
    },
    {
      "cell_type": "code",
      "source": [
        "import numpy as np"
      ],
      "metadata": {
        "id": "oLGX275g-I48"
      },
      "execution_count": null,
      "outputs": []
    },
    {
      "cell_type": "markdown",
      "source": [
        "###**Subtract the mean of each variable**\n",
        "\n"
      ],
      "metadata": {
        "id": "8KG0e3Nz9VvQ"
      }
    },
    {
      "cell_type": "code",
      "execution_count": null,
      "metadata": {
        "colab": {
          "base_uri": "https://localhost:8080/"
        },
        "id": "pX3aQUyy7d3s",
        "outputId": "135c2bc9-a686-43b2-a3c1-8e4d7b86c3b3"
      },
      "outputs": [
        {
          "output_type": "execute_result",
          "data": {
            "text/plain": [
              "array([[39, 27, 49, 16, 21],\n",
              "       [39, 48, 35, 47, 23],\n",
              "       [22, 28, 43, 19, 48],\n",
              "       [27, 29, 18, 15, 45],\n",
              "       [18, 33, 22, 38, 31],\n",
              "       [38, 37, 33, 34, 11],\n",
              "       [32, 30, 13, 38, 17],\n",
              "       [14, 25, 30, 12, 49],\n",
              "       [38, 49, 38, 30, 25],\n",
              "       [23, 17, 39, 40, 31],\n",
              "       [16, 12, 20, 45, 35],\n",
              "       [12, 20, 40, 27, 14],\n",
              "       [25, 47, 33, 12, 38],\n",
              "       [49, 34, 34, 25, 40],\n",
              "       [17, 23, 34, 38, 35],\n",
              "       [11, 43, 47, 12, 15],\n",
              "       [33, 18, 28, 27, 42],\n",
              "       [31, 24, 25, 40, 29],\n",
              "       [29, 44, 10, 34, 16],\n",
              "       [43, 27, 11, 46, 30]])"
            ]
          },
          "metadata": {},
          "execution_count": 58
        }
      ],
      "source": [
        "#Generate a dummy dataset.\n",
        "X = np.random.randint(10,50,100).reshape(20,5) \n",
        "# mean Centering the data  \n",
        "X_meaned = X - np.mean(X , axis = 0)\n",
        "\n",
        "X"
      ]
    },
    {
      "cell_type": "code",
      "source": [
        "X_meaned"
      ],
      "metadata": {
        "colab": {
          "base_uri": "https://localhost:8080/"
        },
        "id": "ar1EVzYvIKkP",
        "outputId": "d8ecb19a-d128-40b0-e29c-0dedd38ab54e"
      },
      "execution_count": null,
      "outputs": [
        {
          "output_type": "execute_result",
          "data": {
            "text/plain": [
              "array([[ 11.2 ,  -3.75,  18.9 , -13.75,  -8.75],\n",
              "       [ 11.2 ,  17.25,   4.9 ,  17.25,  -6.75],\n",
              "       [ -5.8 ,  -2.75,  12.9 , -10.75,  18.25],\n",
              "       [ -0.8 ,  -1.75, -12.1 , -14.75,  15.25],\n",
              "       [ -9.8 ,   2.25,  -8.1 ,   8.25,   1.25],\n",
              "       [ 10.2 ,   6.25,   2.9 ,   4.25, -18.75],\n",
              "       [  4.2 ,  -0.75, -17.1 ,   8.25, -12.75],\n",
              "       [-13.8 ,  -5.75,  -0.1 , -17.75,  19.25],\n",
              "       [ 10.2 ,  18.25,   7.9 ,   0.25,  -4.75],\n",
              "       [ -4.8 , -13.75,   8.9 ,  10.25,   1.25],\n",
              "       [-11.8 , -18.75, -10.1 ,  15.25,   5.25],\n",
              "       [-15.8 , -10.75,   9.9 ,  -2.75, -15.75],\n",
              "       [ -2.8 ,  16.25,   2.9 , -17.75,   8.25],\n",
              "       [ 21.2 ,   3.25,   3.9 ,  -4.75,  10.25],\n",
              "       [-10.8 ,  -7.75,   3.9 ,   8.25,   5.25],\n",
              "       [-16.8 ,  12.25,  16.9 , -17.75, -14.75],\n",
              "       [  5.2 , -12.75,  -2.1 ,  -2.75,  12.25],\n",
              "       [  3.2 ,  -6.75,  -5.1 ,  10.25,  -0.75],\n",
              "       [  1.2 ,  13.25, -20.1 ,   4.25, -13.75],\n",
              "       [ 15.2 ,  -3.75, -19.1 ,  16.25,   0.25]])"
            ]
          },
          "metadata": {},
          "execution_count": 59
        }
      ]
    },
    {
      "cell_type": "markdown",
      "source": [
        "###**Calculate the Covariance Matrix**"
      ],
      "metadata": {
        "id": "etiKSlUG-tgd"
      }
    },
    {
      "cell_type": "code",
      "source": [
        "# calculating the covariance matrix of the mean-centered data.\n",
        "cov_mat = np.cov(X_meaned , rowvar = False)\n",
        "#The default value for rowvar is set to True, remember to set it to False to get the covariance matrix in the required dimensions.\n",
        "\n",
        "cov_mat"
      ],
      "metadata": {
        "colab": {
          "base_uri": "https://localhost:8080/"
        },
        "id": "h_8B4BWI-uJV",
        "outputId": "c011de3f-4410-4e50-9253-9ade6dc9357d"
      },
      "execution_count": null,
      "outputs": [
        {
          "output_type": "execute_result",
          "data": {
            "text/plain": [
              "array([[122.90526316,  36.94736842, -18.55789474,  31.63157895,\n",
              "        -13.05263158],\n",
              "       [ 36.94736842, 119.56578947,  11.60526316, -24.80263158,\n",
              "        -41.96052632],\n",
              "       [-18.55789474,  11.60526316, 132.93684211, -63.02631579,\n",
              "         -7.71052632],\n",
              "       [ 31.63157895, -24.80263158, -63.02631579, 144.72368421,\n",
              "        -41.27631579],\n",
              "       [-13.05263158, -41.96052632,  -7.71052632, -41.27631579,\n",
              "        138.51315789]])"
            ]
          },
          "metadata": {},
          "execution_count": 60
        }
      ]
    },
    {
      "cell_type": "markdown",
      "source": [
        "###**Compute the Eigenvalues and Eigenvectors**"
      ],
      "metadata": {
        "id": "vF4Ow3dP--5D"
      }
    },
    {
      "cell_type": "markdown",
      "source": [
        "* The Eigenvectors of the Covariance matrix we get are Orthogonal to each other and each vector represents a principal axis.\n",
        "\n",
        "* A Higher Eigenvalue corresponds to a higher variability. Hence the principal axis with the higher Eigenvalue will be an axis capturing higher variability in the data.\n",
        "\n",
        "* Orthogonal means the vectors are mutually perpendicular to each other."
      ],
      "metadata": {
        "id": "5WqmwbHU_VVB"
      }
    },
    {
      "cell_type": "code",
      "source": [
        "#Calculating Eigenvalues and Eigenvectors of the covariance matrix\n",
        "eigen_values , eigen_vectors = np.linalg.eigh(cov_mat)\n",
        "#NumPy linalg.eigh( ) method returns the eigenvalues and eigenvectors of a complex Hermitian or a real symmetric matrix."
      ],
      "metadata": {
        "id": "Qh9-hTJB_GnN"
      },
      "execution_count": null,
      "outputs": []
    },
    {
      "cell_type": "code",
      "source": [
        "eigen_values,eigen_vectors"
      ],
      "metadata": {
        "colab": {
          "base_uri": "https://localhost:8080/"
        },
        "id": "V0D0xweKISPn",
        "outputId": "f2250eda-b2e2-4eae-9c26-1410ddd75ad0"
      },
      "execution_count": null,
      "outputs": [
        {
          "output_type": "execute_result",
          "data": {
            "text/plain": [
              "(array([ 39.16705985, 127.45927439, 139.09779264, 198.28933094,\n",
              "        231.13917376]),\n",
              " array([[-0.4628333 , -0.58541738, -0.51640005, -0.38619228,  0.165101  ],\n",
              "        [ 0.15233023,  0.57295254, -0.80055303,  0.05001583,  0.07165302],\n",
              "        [ 0.59246224, -0.0180895 ,  0.0378769 , -0.79248722, -0.13853018],\n",
              "        [ 0.64153358, -0.54109767, -0.21679259,  0.44087322,  0.23298014],\n",
              "        [ 0.0020002 , -0.18946754, -0.20979075,  0.16108613, -0.94558825]]))"
            ]
          },
          "metadata": {},
          "execution_count": 61
        }
      ]
    },
    {
      "cell_type": "markdown",
      "source": [
        "###**Sort Eigenvalues in descending order**"
      ],
      "metadata": {
        "id": "pCaEfenN_p07"
      }
    },
    {
      "cell_type": "markdown",
      "source": [
        "* Sort the Eigenvalues in the descending order along with their corresponding Eigenvector.\n",
        "\n",
        "* Remember each column in the Eigen vector-matrix corresponds to a principal component, so arranging them in descending order of their Eigenvalue will automatically arrange the principal component in descending order of their variability.\n",
        "\n",
        "* Hence the first column in our rearranged Eigen vector-matrix will be a principal component that captures the highest variability."
      ],
      "metadata": {
        "id": "dhdVZ9nO_-q5"
      }
    },
    {
      "cell_type": "code",
      "source": [
        "#sort the eigenvalues in descending order\n",
        "sorted_index = np.argsort(eigen_values)[::-1]\n",
        " \n",
        "sorted_eigenvalue = eigen_values[sorted_index]\n",
        "#similarly sort the eigenvectors \n",
        "sorted_eigenvectors = eigen_vectors[:,sorted_index]\n",
        "\n",
        "#np.argsort returns an array of indices of the same shape."
      ],
      "metadata": {
        "id": "fDMk5hLl_9t0"
      },
      "execution_count": null,
      "outputs": []
    },
    {
      "cell_type": "markdown",
      "source": [
        "###**Select a subset from the rearranged Eigenvalue matrix**"
      ],
      "metadata": {
        "id": "YH-dmv-NAj8t"
      }
    },
    {
      "cell_type": "code",
      "source": [
        "#Select a subset from the rearranged Eigenvalue matrix as per our need i.e. number_comp = 2. This means we selected the first two principal components.\n",
        "# select the first n eigenvectors, n is desired dimension\n",
        "# of our final reduced data.\n",
        " \n",
        "n_components = 2 #you can select any number of components.\n",
        "eigenvector_subset = sorted_eigenvectors[:,0:n_components]\n",
        "\n",
        "# n_components = 2 means our final data should be reduced to just 2 variables. if we change it to 3 then we get our data reduced to 3 variables."
      ],
      "metadata": {
        "id": "kw-rPO4oAntX"
      },
      "execution_count": null,
      "outputs": []
    },
    {
      "cell_type": "markdown",
      "source": [
        "###**Transform the data**"
      ],
      "metadata": {
        "id": "aNIXZNdXA3Dy"
      }
    },
    {
      "cell_type": "markdown",
      "source": [
        "* Finally, transform the data by having a dot product between the Transpose of the Eigenvector subset and the Transpose of the mean-centered data. By transposing the outcome of the dot product, the result we get is the data reduced to lower dimensions from higher dimensions.\n",
        "* The final dimensions of X_reduced will be ( 20, 2 ) and originally the data was of higher dimensions ( 20, 5 )."
      ],
      "metadata": {
        "id": "qS6gLqugBALb"
      }
    },
    {
      "cell_type": "code",
      "source": [
        "#Transform the data \n",
        "X_reduced = np.dot(eigenvector_subset.transpose(),X_meaned.transpose()).transpose()"
      ],
      "metadata": {
        "id": "iW6D-p_OA5cY"
      },
      "execution_count": null,
      "outputs": []
    },
    {
      "cell_type": "code",
      "source": [
        "X_meaned"
      ],
      "metadata": {
        "colab": {
          "base_uri": "https://localhost:8080/"
        },
        "id": "uvIPCmyTBKHo",
        "outputId": "950d5f6b-6d66-4b3d-978d-02de6fcd9b3f"
      },
      "execution_count": null,
      "outputs": [
        {
          "output_type": "execute_result",
          "data": {
            "text/plain": [
              "array([[  5.25,  -4.  ,   4.3 ,   9.7 ,  -7.25],\n",
              "       [ -8.75,  16.  ,   4.3 ,  -6.3 ,  -1.25],\n",
              "       [-15.75,  -6.  , -15.7 ,   1.7 , -17.25],\n",
              "       [ -8.75, -18.  ,   6.3 ,  -9.3 ,  13.75],\n",
              "       [  6.25,  11.  , -10.7 ,  13.7 , -11.25],\n",
              "       [ -0.75, -16.  ,  -5.7 ,  12.7 ,  13.75],\n",
              "       [ 17.25,   4.  ,  -9.7 ,   4.7 ,  16.75],\n",
              "       [ 10.25,  15.  ,   4.3 ,   6.7 , -15.25],\n",
              "       [ 12.25,  -5.  ,   6.3 ,   7.7 , -14.25],\n",
              "       [-10.75, -10.  ,  -7.7 ,   3.7 ,  15.75],\n",
              "       [ -9.75,  12.  ,   2.3 ,  -3.3 , -18.25],\n",
              "       [ 19.25,  13.  ,  17.3 , -18.3 ,  20.75],\n",
              "       [  1.25,   2.  ,  11.3 , -21.3 , -14.25],\n",
              "       [  4.25, -11.  ,  15.3 ,  -8.3 , -15.25],\n",
              "       [ 12.25,  -3.  ,  17.3 ,   7.7 ,   4.75],\n",
              "       [ -7.75,  -7.  ,  -3.7 ,  -6.3 ,  -3.25],\n",
              "       [-11.75,  13.  , -21.7 ,  -5.3 ,   9.75],\n",
              "       [ 10.25, -11.  , -17.7 ,  10.7 , -17.25],\n",
              "       [-11.75, -11.  ,  13.3 , -12.3 ,  18.75],\n",
              "       [-12.75,  16.  ,  -9.7 ,  11.7 ,  20.75]])"
            ]
          },
          "metadata": {},
          "execution_count": 12
        }
      ]
    },
    {
      "cell_type": "code",
      "source": [
        "X_reduced"
      ],
      "metadata": {
        "colab": {
          "base_uri": "https://localhost:8080/"
        },
        "id": "HKsrqs1iBMC0",
        "outputId": "c9f811ca-a7b1-4d5f-cc16-fee2d51423b0"
      },
      "execution_count": null,
      "outputs": [
        {
          "output_type": "execute_result",
          "data": {
            "text/plain": [
              "array([[  9.09991056,  -2.52667206],\n",
              "       [ -1.17965469,  -2.2071183 ],\n",
              "       [ 15.85212858,  16.19523153],\n",
              "       [-18.77568213,  -4.39895857],\n",
              "       [ 17.13203322,  10.84382977],\n",
              "       [-10.52364287,  11.82059239],\n",
              "       [-10.2652495 ,   5.99566939],\n",
              "       [ 18.15258865,  -6.11864147],\n",
              "       [ 16.06006168,  -8.87435769],\n",
              "       [-15.45567211,  13.92189789],\n",
              "       [ 15.41963332,  -1.8518595 ],\n",
              "       [-22.17138137, -25.2194673 ],\n",
              "       [  7.29644695, -21.02389135],\n",
              "       [ 10.28046995, -20.4323571 ],\n",
              "       [ -3.28664111, -14.43104893],\n",
              "       [  0.33684471,   2.27405087],\n",
              "       [ -8.45662271,  21.61889953],\n",
              "       [ 22.16037108,  11.4569865 ],\n",
              "       [-25.16600692,  -8.95487048],\n",
              "       [-16.50993529,  21.91208489]])"
            ]
          },
          "metadata": {},
          "execution_count": 13
        }
      ]
    },
    {
      "cell_type": "markdown",
      "source": [
        "###**Final Implementation from scratch**"
      ],
      "metadata": {
        "id": "WCDiGHIlBhfx"
      }
    },
    {
      "cell_type": "code",
      "source": [
        "import numpy as np\n",
        "# from sklearn.preprocessing import StandardScaler\n",
        "# X = StandardScaler().fit_transform(X)\n",
        "\n",
        "def PCA(X , num_components):\n",
        "     \n",
        "    #Step-1\n",
        "    X = X - np.mean(X , axis = 0)\n",
        "     \n",
        "    #Step-2\n",
        "    cov_mat = np.cov(X , rowvar = False, bias=True)\n",
        "     \n",
        "    #Step-3\n",
        "    eigen_values , eigen_vectors = np.linalg.eig(cov_mat)\n",
        "     \n",
        "    #Step-4\n",
        "    sorted_index = np.argsort(eigen_values)[::-1]\n",
        "    sorted_eigenvalue = eigen_values[sorted_index]\n",
        "    sorted_eigenvectors = eigen_vectors[:,sorted_index]\n",
        "     \n",
        "    #Step-5\n",
        "    projection_matrix = (sorted_eigenvectors.transpose()[:2]).transpose()\n",
        "     \n",
        "    #Step-6\n",
        "    X_reduced = X.dot(projection_matrix)\n",
        "     \n",
        "    return X_reduced"
      ],
      "metadata": {
        "id": "TYx5nw6MBlnY"
      },
      "execution_count": null,
      "outputs": []
    },
    {
      "cell_type": "code",
      "source": [],
      "metadata": {
        "id": "POvVkWZ7X3Rz"
      },
      "execution_count": null,
      "outputs": []
    },
    {
      "cell_type": "code",
      "source": [
        "from sklearn import datasets\n",
        "import pandas as pd\n",
        "import seaborn as sb\n",
        "import matplotlib.pyplot as plt\n",
        "\n",
        "# import some data to play with\n",
        "iris = datasets.load_iris()\n",
        "X = iris.data[:, 0:4] \n",
        "y = iris.target\n",
        "\n",
        "mat_reduced = PCA(X , 2)\n",
        "mat_reduced\n",
        "\n",
        "#Creating a Pandas DataFrame of reduced Dataset\n",
        "principal_df = pd.DataFrame(mat_reduced , columns = ['PC1','PC2'])\n",
        " \n",
        "#Concat it with target variable to create a complete Dataset\n",
        "principal_df = pd.concat([principal_df , pd.DataFrame(y, columns = ['target'])] , axis = 1)\n",
        "\n",
        "principal_df"
      ],
      "metadata": {
        "colab": {
          "base_uri": "https://localhost:8080/",
          "height": 423
        },
        "id": "TZRz0hoTBoNu",
        "outputId": "1b4bf1ba-1caf-49f3-e393-581e1d5fb05b"
      },
      "execution_count": null,
      "outputs": [
        {
          "output_type": "execute_result",
          "data": {
            "text/plain": [
              "          PC1       PC2  target\n",
              "0   -2.684126 -0.319397       0\n",
              "1   -2.714142  0.177001       0\n",
              "2   -2.888991  0.144949       0\n",
              "3   -2.745343  0.318299       0\n",
              "4   -2.728717 -0.326755       0\n",
              "..        ...       ...     ...\n",
              "145  1.944110 -0.187532       2\n",
              "146  1.527167  0.375317       2\n",
              "147  1.764346 -0.078859       2\n",
              "148  1.900942 -0.116628       2\n",
              "149  1.390189  0.282661       2\n",
              "\n",
              "[150 rows x 3 columns]"
            ],
            "text/html": [
              "\n",
              "  <div id=\"df-57a42c14-5220-4492-bc3e-5a1a253e3ae7\">\n",
              "    <div class=\"colab-df-container\">\n",
              "      <div>\n",
              "<style scoped>\n",
              "    .dataframe tbody tr th:only-of-type {\n",
              "        vertical-align: middle;\n",
              "    }\n",
              "\n",
              "    .dataframe tbody tr th {\n",
              "        vertical-align: top;\n",
              "    }\n",
              "\n",
              "    .dataframe thead th {\n",
              "        text-align: right;\n",
              "    }\n",
              "</style>\n",
              "<table border=\"1\" class=\"dataframe\">\n",
              "  <thead>\n",
              "    <tr style=\"text-align: right;\">\n",
              "      <th></th>\n",
              "      <th>PC1</th>\n",
              "      <th>PC2</th>\n",
              "      <th>target</th>\n",
              "    </tr>\n",
              "  </thead>\n",
              "  <tbody>\n",
              "    <tr>\n",
              "      <th>0</th>\n",
              "      <td>-2.684126</td>\n",
              "      <td>-0.319397</td>\n",
              "      <td>0</td>\n",
              "    </tr>\n",
              "    <tr>\n",
              "      <th>1</th>\n",
              "      <td>-2.714142</td>\n",
              "      <td>0.177001</td>\n",
              "      <td>0</td>\n",
              "    </tr>\n",
              "    <tr>\n",
              "      <th>2</th>\n",
              "      <td>-2.888991</td>\n",
              "      <td>0.144949</td>\n",
              "      <td>0</td>\n",
              "    </tr>\n",
              "    <tr>\n",
              "      <th>3</th>\n",
              "      <td>-2.745343</td>\n",
              "      <td>0.318299</td>\n",
              "      <td>0</td>\n",
              "    </tr>\n",
              "    <tr>\n",
              "      <th>4</th>\n",
              "      <td>-2.728717</td>\n",
              "      <td>-0.326755</td>\n",
              "      <td>0</td>\n",
              "    </tr>\n",
              "    <tr>\n",
              "      <th>...</th>\n",
              "      <td>...</td>\n",
              "      <td>...</td>\n",
              "      <td>...</td>\n",
              "    </tr>\n",
              "    <tr>\n",
              "      <th>145</th>\n",
              "      <td>1.944110</td>\n",
              "      <td>-0.187532</td>\n",
              "      <td>2</td>\n",
              "    </tr>\n",
              "    <tr>\n",
              "      <th>146</th>\n",
              "      <td>1.527167</td>\n",
              "      <td>0.375317</td>\n",
              "      <td>2</td>\n",
              "    </tr>\n",
              "    <tr>\n",
              "      <th>147</th>\n",
              "      <td>1.764346</td>\n",
              "      <td>-0.078859</td>\n",
              "      <td>2</td>\n",
              "    </tr>\n",
              "    <tr>\n",
              "      <th>148</th>\n",
              "      <td>1.900942</td>\n",
              "      <td>-0.116628</td>\n",
              "      <td>2</td>\n",
              "    </tr>\n",
              "    <tr>\n",
              "      <th>149</th>\n",
              "      <td>1.390189</td>\n",
              "      <td>0.282661</td>\n",
              "      <td>2</td>\n",
              "    </tr>\n",
              "  </tbody>\n",
              "</table>\n",
              "<p>150 rows × 3 columns</p>\n",
              "</div>\n",
              "      <button class=\"colab-df-convert\" onclick=\"convertToInteractive('df-57a42c14-5220-4492-bc3e-5a1a253e3ae7')\"\n",
              "              title=\"Convert this dataframe to an interactive table.\"\n",
              "              style=\"display:none;\">\n",
              "        \n",
              "  <svg xmlns=\"http://www.w3.org/2000/svg\" height=\"24px\"viewBox=\"0 0 24 24\"\n",
              "       width=\"24px\">\n",
              "    <path d=\"M0 0h24v24H0V0z\" fill=\"none\"/>\n",
              "    <path d=\"M18.56 5.44l.94 2.06.94-2.06 2.06-.94-2.06-.94-.94-2.06-.94 2.06-2.06.94zm-11 1L8.5 8.5l.94-2.06 2.06-.94-2.06-.94L8.5 2.5l-.94 2.06-2.06.94zm10 10l.94 2.06.94-2.06 2.06-.94-2.06-.94-.94-2.06-.94 2.06-2.06.94z\"/><path d=\"M17.41 7.96l-1.37-1.37c-.4-.4-.92-.59-1.43-.59-.52 0-1.04.2-1.43.59L10.3 9.45l-7.72 7.72c-.78.78-.78 2.05 0 2.83L4 21.41c.39.39.9.59 1.41.59.51 0 1.02-.2 1.41-.59l7.78-7.78 2.81-2.81c.8-.78.8-2.07 0-2.86zM5.41 20L4 18.59l7.72-7.72 1.47 1.35L5.41 20z\"/>\n",
              "  </svg>\n",
              "      </button>\n",
              "      \n",
              "  <style>\n",
              "    .colab-df-container {\n",
              "      display:flex;\n",
              "      flex-wrap:wrap;\n",
              "      gap: 12px;\n",
              "    }\n",
              "\n",
              "    .colab-df-convert {\n",
              "      background-color: #E8F0FE;\n",
              "      border: none;\n",
              "      border-radius: 50%;\n",
              "      cursor: pointer;\n",
              "      display: none;\n",
              "      fill: #1967D2;\n",
              "      height: 32px;\n",
              "      padding: 0 0 0 0;\n",
              "      width: 32px;\n",
              "    }\n",
              "\n",
              "    .colab-df-convert:hover {\n",
              "      background-color: #E2EBFA;\n",
              "      box-shadow: 0px 1px 2px rgba(60, 64, 67, 0.3), 0px 1px 3px 1px rgba(60, 64, 67, 0.15);\n",
              "      fill: #174EA6;\n",
              "    }\n",
              "\n",
              "    [theme=dark] .colab-df-convert {\n",
              "      background-color: #3B4455;\n",
              "      fill: #D2E3FC;\n",
              "    }\n",
              "\n",
              "    [theme=dark] .colab-df-convert:hover {\n",
              "      background-color: #434B5C;\n",
              "      box-shadow: 0px 1px 3px 1px rgba(0, 0, 0, 0.15);\n",
              "      filter: drop-shadow(0px 1px 2px rgba(0, 0, 0, 0.3));\n",
              "      fill: #FFFFFF;\n",
              "    }\n",
              "  </style>\n",
              "\n",
              "      <script>\n",
              "        const buttonEl =\n",
              "          document.querySelector('#df-57a42c14-5220-4492-bc3e-5a1a253e3ae7 button.colab-df-convert');\n",
              "        buttonEl.style.display =\n",
              "          google.colab.kernel.accessAllowed ? 'block' : 'none';\n",
              "\n",
              "        async function convertToInteractive(key) {\n",
              "          const element = document.querySelector('#df-57a42c14-5220-4492-bc3e-5a1a253e3ae7');\n",
              "          const dataTable =\n",
              "            await google.colab.kernel.invokeFunction('convertToInteractive',\n",
              "                                                     [key], {});\n",
              "          if (!dataTable) return;\n",
              "\n",
              "          const docLinkHtml = 'Like what you see? Visit the ' +\n",
              "            '<a target=\"_blank\" href=https://colab.research.google.com/notebooks/data_table.ipynb>data table notebook</a>'\n",
              "            + ' to learn more about interactive tables.';\n",
              "          element.innerHTML = '';\n",
              "          dataTable['output_type'] = 'display_data';\n",
              "          await google.colab.output.renderOutput(dataTable, element);\n",
              "          const docLink = document.createElement('div');\n",
              "          docLink.innerHTML = docLinkHtml;\n",
              "          element.appendChild(docLink);\n",
              "        }\n",
              "      </script>\n",
              "    </div>\n",
              "  </div>\n",
              "  "
            ]
          },
          "metadata": {},
          "execution_count": 139
        }
      ]
    },
    {
      "cell_type": "code",
      "source": [
        "plt.figure(figsize = (6,6))\n",
        "sb.scatterplot(data = principal_df , x = 'PC1',y = 'PC2' , hue = 'target' , s = 60 , palette= 'icefire')"
      ],
      "metadata": {
        "colab": {
          "base_uri": "https://localhost:8080/",
          "height": 406
        },
        "id": "9ueH32NvCHbl",
        "outputId": "53f794c4-76bd-411b-8f8a-bb240b1fa4f0"
      },
      "execution_count": null,
      "outputs": [
        {
          "output_type": "execute_result",
          "data": {
            "text/plain": [
              "<matplotlib.axes._subplots.AxesSubplot at 0x7fb379390a10>"
            ]
          },
          "metadata": {},
          "execution_count": 140
        },
        {
          "output_type": "display_data",
          "data": {
            "text/plain": [
              "<Figure size 432x432 with 1 Axes>"
            ],
            "image/png": "[encoded data removed]"
          },
          "metadata": {
            "needs_background": "light"
          }
        }
      ]
    },
    {
      "cell_type": "code",
      "source": [],
      "metadata": {
        "id": "LUArazllZ3KW"
      },
      "execution_count": null,
      "outputs": []
    },
    {
      "cell_type": "code",
      "source": [],
      "metadata": {
        "id": "dCS-rum7Z3O7"
      },
      "execution_count": null,
      "outputs": []
    },
    {
      "cell_type": "markdown",
      "source": [
        "###**Final Implemetation using library**"
      ],
      "metadata": {
        "id": "PVUcHD1MHKMb"
      }
    },
    {
      "cell_type": "code",
      "source": [
        "import matplotlib.pyplot as plt\n",
        "\n",
        "# unused but required import for doing 3d projections with matplotlib < 3.2\n",
        "import mpl_toolkits.mplot3d  # noqa: F401\n",
        "\n",
        "from sklearn import datasets\n",
        "from sklearn.decomposition import PCA\n",
        "\n",
        "# import some data to play with\n",
        "iris = datasets.load_iris()\n",
        "X = iris.data[:, :4] \n",
        "y = iris.target\n",
        "\n",
        "\n",
        "# To getter a better understanding of interaction of the dimensions\n",
        "# plot the first three PCA dimensions\n",
        "fig = plt.figure(1, figsize=(8, 6))\n",
        "ax = fig.add_subplot(111, projection=\"3d\", elev=-150, azim=110)\n",
        "\n",
        "X_reduced = PCA(n_components=2).fit_transform(iris.data[:, :4])\n",
        "ax.scatter(\n",
        "    X[:, 0],\n",
        "    X[:, 1],\n",
        "    X[:, 2],\n",
        "    c=y,\n",
        "    cmap=plt.cm.Set1,\n",
        "    edgecolor=\"k\",\n",
        "    s=40,\n",
        ")\n",
        "\n",
        "ax.set_title(\"First three dimensions\")\n",
        "ax.set_xlabel(\"Sepal length\")\n",
        "ax.w_xaxis.set_ticklabels([])\n",
        "ax.set_ylabel(\"Sepal width\")\n",
        "ax.w_yaxis.set_ticklabels([])\n",
        "ax.set_zlabel(\"Petal length\")\n",
        "ax.w_zaxis.set_ticklabels([])\n",
        "\n",
        "plt.show()"
      ],
      "metadata": {
        "colab": {
          "base_uri": "https://localhost:8080/",
          "height": 357
        },
        "id": "h6SUhyyjB_UU",
        "outputId": "b844fae4-4e5e-4c6e-a271-64d42f9c0898"
      },
      "execution_count": null,
      "outputs": [
        {
          "output_type": "display_data",
          "data": {
            "text/plain": [
              "<Figure size 576x432 with 1 Axes>"
            ],
            "image/png": "[encoded data removed]"
          },
          "metadata": {
            "needs_background": "light"
          }
        }
      ]
    },
    {
      "cell_type": "code",
      "source": [
        "principal_df = pd.DataFrame(X_reduced , columns = ['PC1','PC2'])\n",
        " \n",
        "#Concat it with target variable to create a complete Dataset\n",
        "principal_df = pd.concat([principal_df , pd.DataFrame(y, columns = ['target'])] , axis = 1)\n",
        "\n",
        "principal_df"
      ],
      "metadata": {
        "colab": {
          "base_uri": "https://localhost:8080/",
          "height": 423
        },
        "id": "nPhD3v-WEw72",
        "outputId": "8a629733-2c13-4eb2-9dc3-75288dd1c9ff"
      },
      "execution_count": null,
      "outputs": [
        {
          "output_type": "execute_result",
          "data": {
            "text/plain": [
              "          PC1       PC2  target\n",
              "0   -2.684126  0.319397       0\n",
              "1   -2.714142 -0.177001       0\n",
              "2   -2.888991 -0.144949       0\n",
              "3   -2.745343 -0.318299       0\n",
              "4   -2.728717  0.326755       0\n",
              "..        ...       ...     ...\n",
              "145  1.944110  0.187532       2\n",
              "146  1.527167 -0.375317       2\n",
              "147  1.764346  0.078859       2\n",
              "148  1.900942  0.116628       2\n",
              "149  1.390189 -0.282661       2\n",
              "\n",
              "[150 rows x 3 columns]"
            ],
            "text/html": [
              "\n",
              "  <div id=\"df-68ffdd35-2c57-44e7-9d46-7786276c795e\">\n",
              "    <div class=\"colab-df-container\">\n",
              "      <div>\n",
              "<style scoped>\n",
              "    .dataframe tbody tr th:only-of-type {\n",
              "        vertical-align: middle;\n",
              "    }\n",
              "\n",
              "    .dataframe tbody tr th {\n",
              "        vertical-align: top;\n",
              "    }\n",
              "\n",
              "    .dataframe thead th {\n",
              "        text-align: right;\n",
              "    }\n",
              "</style>\n",
              "<table border=\"1\" class=\"dataframe\">\n",
              "  <thead>\n",
              "    <tr style=\"text-align: right;\">\n",
              "      <th></th>\n",
              "      <th>PC1</th>\n",
              "      <th>PC2</th>\n",
              "      <th>target</th>\n",
              "    </tr>\n",
              "  </thead>\n",
              "  <tbody>\n",
              "    <tr>\n",
              "      <th>0</th>\n",
              "      <td>-2.684126</td>\n",
              "      <td>0.319397</td>\n",
              "      <td>0</td>\n",
              "    </tr>\n",
              "    <tr>\n",
              "      <th>1</th>\n",
              "      <td>-2.714142</td>\n",
              "      <td>-0.177001</td>\n",
              "      <td>0</td>\n",
              "    </tr>\n",
              "    <tr>\n",
              "      <th>2</th>\n",
              "      <td>-2.888991</td>\n",
              "      <td>-0.144949</td>\n",
              "      <td>0</td>\n",
              "    </tr>\n",
              "    <tr>\n",
              "      <th>3</th>\n",
              "      <td>-2.745343</td>\n",
              "      <td>-0.318299</td>\n",
              "      <td>0</td>\n",
              "    </tr>\n",
              "    <tr>\n",
              "      <th>4</th>\n",
              "      <td>-2.728717</td>\n",
              "      <td>0.326755</td>\n",
              "      <td>0</td>\n",
              "    </tr>\n",
              "    <tr>\n",
              "      <th>...</th>\n",
              "      <td>...</td>\n",
              "      <td>...</td>\n",
              "      <td>...</td>\n",
              "    </tr>\n",
              "    <tr>\n",
              "      <th>145</th>\n",
              "      <td>1.944110</td>\n",
              "      <td>0.187532</td>\n",
              "      <td>2</td>\n",
              "    </tr>\n",
              "    <tr>\n",
              "      <th>146</th>\n",
              "      <td>1.527167</td>\n",
              "      <td>-0.375317</td>\n",
              "      <td>2</td>\n",
              "    </tr>\n",
              "    <tr>\n",
              "      <th>147</th>\n",
              "      <td>1.764346</td>\n",
              "      <td>0.078859</td>\n",
              "      <td>2</td>\n",
              "    </tr>\n",
              "    <tr>\n",
              "      <th>148</th>\n",
              "      <td>1.900942</td>\n",
              "      <td>0.116628</td>\n",
              "      <td>2</td>\n",
              "    </tr>\n",
              "    <tr>\n",
              "      <th>149</th>\n",
              "      <td>1.390189</td>\n",
              "      <td>-0.282661</td>\n",
              "      <td>2</td>\n",
              "    </tr>\n",
              "  </tbody>\n",
              "</table>\n",
              "<p>150 rows × 3 columns</p>\n",
              "</div>\n",
              "      <button class=\"colab-df-convert\" onclick=\"convertToInteractive('df-68ffdd35-2c57-44e7-9d46-7786276c795e')\"\n",
              "              title=\"Convert this dataframe to an interactive table.\"\n",
              "              style=\"display:none;\">\n",
              "        \n",
              "  <svg xmlns=\"http://www.w3.org/2000/svg\" height=\"24px\"viewBox=\"0 0 24 24\"\n",
              "       width=\"24px\">\n",
              "    <path d=\"M0 0h24v24H0V0z\" fill=\"none\"/>\n",
              "    <path d=\"M18.56 5.44l.94 2.06.94-2.06 2.06-.94-2.06-.94-.94-2.06-.94 2.06-2.06.94zm-11 1L8.5 8.5l.94-2.06 2.06-.94-2.06-.94L8.5 2.5l-.94 2.06-2.06.94zm10 10l.94 2.06.94-2.06 2.06-.94-2.06-.94-.94-2.06-.94 2.06-2.06.94z\"/><path d=\"M17.41 7.96l-1.37-1.37c-.4-.4-.92-.59-1.43-.59-.52 0-1.04.2-1.43.59L10.3 9.45l-7.72 7.72c-.78.78-.78 2.05 0 2.83L4 21.41c.39.39.9.59 1.41.59.51 0 1.02-.2 1.41-.59l7.78-7.78 2.81-2.81c.8-.78.8-2.07 0-2.86zM5.41 20L4 18.59l7.72-7.72 1.47 1.35L5.41 20z\"/>\n",
              "  </svg>\n",
              "      </button>\n",
              "      \n",
              "  <style>\n",
              "    .colab-df-container {\n",
              "      display:flex;\n",
              "      flex-wrap:wrap;\n",
              "      gap: 12px;\n",
              "    }\n",
              "\n",
              "    .colab-df-convert {\n",
              "      background-color: #E8F0FE;\n",
              "      border: none;\n",
              "      border-radius: 50%;\n",
              "      cursor: pointer;\n",
              "      display: none;\n",
              "      fill: #1967D2;\n",
              "      height: 32px;\n",
              "      padding: 0 0 0 0;\n",
              "      width: 32px;\n",
              "    }\n",
              "\n",
              "    .colab-df-convert:hover {\n",
              "      background-color: #E2EBFA;\n",
              "      box-shadow: 0px 1px 2px rgba(60, 64, 67, 0.3), 0px 1px 3px 1px rgba(60, 64, 67, 0.15);\n",
              "      fill: #174EA6;\n",
              "    }\n",
              "\n",
              "    [theme=dark] .colab-df-convert {\n",
              "      background-color: #3B4455;\n",
              "      fill: #D2E3FC;\n",
              "    }\n",
              "\n",
              "    [theme=dark] .colab-df-convert:hover {\n",
              "      background-color: #434B5C;\n",
              "      box-shadow: 0px 1px 3px 1px rgba(0, 0, 0, 0.15);\n",
              "      filter: drop-shadow(0px 1px 2px rgba(0, 0, 0, 0.3));\n",
              "      fill: #FFFFFF;\n",
              "    }\n",
              "  </style>\n",
              "\n",
              "      <script>\n",
              "        const buttonEl =\n",
              "          document.querySelector('#df-68ffdd35-2c57-44e7-9d46-7786276c795e button.colab-df-convert');\n",
              "        buttonEl.style.display =\n",
              "          google.colab.kernel.accessAllowed ? 'block' : 'none';\n",
              "\n",
              "        async function convertToInteractive(key) {\n",
              "          const element = document.querySelector('#df-68ffdd35-2c57-44e7-9d46-7786276c795e');\n",
              "          const dataTable =\n",
              "            await google.colab.kernel.invokeFunction('convertToInteractive',\n",
              "                                                     [key], {});\n",
              "          if (!dataTable) return;\n",
              "\n",
              "          const docLinkHtml = 'Like what you see? Visit the ' +\n",
              "            '<a target=\"_blank\" href=https://colab.research.google.com/notebooks/data_table.ipynb>data table notebook</a>'\n",
              "            + ' to learn more about interactive tables.';\n",
              "          element.innerHTML = '';\n",
              "          dataTable['output_type'] = 'display_data';\n",
              "          await google.colab.output.renderOutput(dataTable, element);\n",
              "          const docLink = document.createElement('div');\n",
              "          docLink.innerHTML = docLinkHtml;\n",
              "          element.appendChild(docLink);\n",
              "        }\n",
              "      </script>\n",
              "    </div>\n",
              "  </div>\n",
              "  "
            ]
          },
          "metadata": {},
          "execution_count": 129
        }
      ]
    },
    {
      "cell_type": "code",
      "source": [
        "plt.figure(figsize = (6,6))\n",
        "sb.scatterplot(data = principal_df , x = 'PC1',y = 'PC2' , hue = 'target' , s = 60 , palette= 'icefire')"
      ],
      "metadata": {
        "colab": {
          "base_uri": "https://localhost:8080/",
          "height": 409
        },
        "id": "WpRYzK1nE_Qt",
        "outputId": "971cbcf8-f0b8-4cbc-c74d-d80a6a5e9318"
      },
      "execution_count": null,
      "outputs": [
        {
          "output_type": "execute_result",
          "data": {
            "text/plain": [
              "<matplotlib.axes._subplots.AxesSubplot at 0x7fb3793d2f10>"
            ]
          },
          "metadata": {},
          "execution_count": 130
        },
        {
          "output_type": "display_data",
          "data": {
            "text/plain": [
              "<Figure size 432x432 with 1 Axes>"
            ],
            "image/png": "[encoded data removed]"
          },
          "metadata": {
            "needs_background": "light"
          }
        }
      ]
    },
    {
      "cell_type": "code",
      "source": [],
      "metadata": {
        "id": "3jAoBE08FDeH"
      },
      "execution_count": null,
      "outputs": []
    }
  ]
}