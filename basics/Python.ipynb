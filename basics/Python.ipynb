{
 "cells": [
  {
   "cell_type": "markdown",
   "id": "0d8ab900",
   "metadata": {},
   "source": [
    "### Fundamental Dataypes\n",
    "- int\n",
    "- float  (int and float are numbers)\n",
    "- bool\n",
    "- str\n",
    "- list\n",
    "- tuple\n",
    "- set\n",
    "- dict\n",
    "\n",
    "### Classes - custom types\n",
    "### Specialized Datatypes - module, packages\n",
    "### None"
   ]
  },
  {
   "cell_type": "markdown",
   "id": "807fa3d7",
   "metadata": {},
   "source": [
    "# NUMBER"
   ]
  },
  {
   "cell_type": "code",
   "execution_count": 1,
   "id": "07d2400e",
   "metadata": {},
   "outputs": [
    {
     "data": {
      "text/plain": [
       "(3, 3, '0b101', 5, (3+4j), '100')"
      ]
     },
     "execution_count": 1,
     "metadata": {},
     "output_type": "execute_result"
    }
   ],
   "source": [
    "round(3.1), abs(-3), bin(5),int('0b101',2),complex(3,4), str(100)"
   ]
  },
  {
   "cell_type": "code",
   "execution_count": 2,
   "id": "d1fe6235",
   "metadata": {},
   "outputs": [],
   "source": [
    "#Operator Precedence  () > ** > */ > +-\n",
    "# variables camelcase , start with lower and underscore , __var is error"
   ]
  },
  {
   "cell_type": "code",
   "execution_count": 3,
   "id": "6e93bb09",
   "metadata": {},
   "outputs": [
    {
     "data": {
      "text/plain": [
       "(1, 2, 3)"
      ]
     },
     "execution_count": 3,
     "metadata": {},
     "output_type": "execute_result"
    }
   ],
   "source": [
    "a,b,c=1,2,3\n",
    "a,b,c"
   ]
  },
  {
   "cell_type": "code",
   "execution_count": 4,
   "id": "95b92910",
   "metadata": {},
   "outputs": [],
   "source": [
    "a= b/2 #this is stmt , whereas b/2 is expression yield value 1"
   ]
  },
  {
   "cell_type": "code",
   "execution_count": 5,
   "id": "3252c65c",
   "metadata": {},
   "outputs": [
    {
     "data": {
      "text/plain": [
       "3.0"
      ]
     },
     "execution_count": 5,
     "metadata": {},
     "output_type": "execute_result"
    }
   ],
   "source": [
    "#Argumented assignment operator\n",
    "a+=2\n",
    "a"
   ]
  },
  {
   "cell_type": "markdown",
   "id": "9f3d54e4",
   "metadata": {},
   "source": [
    "# STRING"
   ]
  },
  {
   "cell_type": "code",
   "execution_count": 6,
   "id": "c268ca3d",
   "metadata": {},
   "outputs": [
    {
     "data": {
      "text/plain": [
       "'\\nWOW\\nO O\\n---\\n'"
      ]
     },
     "execution_count": 6,
     "metadata": {},
     "output_type": "execute_result"
    }
   ],
   "source": [
    "long_string= '''\n",
    "WOW\n",
    "O O\n",
    "---\n",
    "'''   #to write long sentence use ''' 3 quotes '''\n",
    "long_string"
   ]
  },
  {
   "cell_type": "code",
   "execution_count": 7,
   "id": "af058d60",
   "metadata": {},
   "outputs": [
    {
     "data": {
      "text/plain": [
       "'Hello Hi'"
      ]
     },
     "execution_count": 7,
     "metadata": {},
     "output_type": "execute_result"
    }
   ],
   "source": [
    "a,b=\"Hello\",\"Hi\"\n",
    "c=a+' '+b\n",
    "c"
   ]
  },
  {
   "cell_type": "code",
   "execution_count": 8,
   "id": "c2e7cde6",
   "metadata": {},
   "outputs": [
    {
     "data": {
      "text/plain": [
       "\"It's mine\""
      ]
     },
     "execution_count": 8,
     "metadata": {},
     "output_type": "execute_result"
    }
   ],
   "source": [
    "#Escape Sequence\n",
    "weather = \"It\\'s mine\" #\\t , \\n\n",
    "weather"
   ]
  },
  {
   "cell_type": "code",
   "execution_count": 9,
   "id": "4f00e5ca",
   "metadata": {},
   "outputs": [
    {
     "name": "stdout",
     "output_type": "stream",
     "text": [
      "Hi 5th Day 5 *****\n",
      "hi Johnny, 5th Day\n",
      "hi 5, Johnnyth Day\n",
      "hi Johnny, 5th Day\n"
     ]
    }
   ],
   "source": [
    "age=5\n",
    "name=\"Priya\"\n",
    "value=  '*' * age\n",
    "print(f\"Hi {5}th Day {len(name)} {value}\")\n",
    "print('hi {}, {}th Day'.format(\"Johnny\",age))\n",
    "print('hi {1}, {0}th Day'.format(\"Johnny\",age))\n",
    "print('hi {name}, {age}th Day'.format(name=\"Johnny\",age=len(name)))"
   ]
  },
  {
   "cell_type": "code",
   "execution_count": 10,
   "id": "fba5cea6",
   "metadata": {},
   "outputs": [
    {
     "data": {
      "text/plain": [
       "('P', 'Pri', 'Pi', 'riya', 'Priy', 'Priya', 'a', 'ayirP')"
      ]
     },
     "execution_count": 10,
     "metadata": {},
     "output_type": "execute_result"
    }
   ],
   "source": [
    "name[0],name[0:3],name[0:4:2],name[1:],name[:4],name[::1],name[-1],name[::-1] #[start:stop:stepover]"
   ]
  },
  {
   "cell_type": "markdown",
   "id": "dec24128",
   "metadata": {},
   "source": [
    "string is immutable name[0]=\"y\" error\n"
   ]
  },
  {
   "cell_type": "code",
   "execution_count": 11,
   "id": "1a12519e",
   "metadata": {},
   "outputs": [
    {
     "data": {
      "text/plain": [
       "('PRIYA', 'Priya', 1, 'Pirya', 'Priya')"
      ]
     },
     "execution_count": 11,
     "metadata": {},
     "output_type": "execute_result"
    }
   ],
   "source": [
    "name.upper(),name.capitalize(),name.find(\"ri\"),name.replace(\"ri\",\"ir\"),name"
   ]
  },
  {
   "cell_type": "markdown",
   "id": "4d37ef30",
   "metadata": {},
   "source": [
    "# BOOL"
   ]
  },
  {
   "cell_type": "code",
   "execution_count": 12,
   "id": "dcda9005",
   "metadata": {},
   "outputs": [
    {
     "data": {
      "text/plain": [
       "(True, False, True)"
      ]
     },
     "execution_count": 12,
     "metadata": {},
     "output_type": "execute_result"
    }
   ],
   "source": [
    "bool(1),bool(0),bool('True')"
   ]
  },
  {
   "cell_type": "code",
   "execution_count": 13,
   "id": "5eafbde3",
   "metadata": {},
   "outputs": [
    {
     "name": "stdout",
     "output_type": "stream",
     "text": [
      "What year were you born?\n"
     ]
    },
    {
     "data": {
      "text/plain": [
       "''"
      ]
     },
     "execution_count": 13,
     "metadata": {},
     "output_type": "execute_result"
    }
   ],
   "source": [
    "date= input(\"What year were you born?\")\n",
    "date"
   ]
  },
  {
   "cell_type": "markdown",
   "id": "420ad9ab",
   "metadata": {},
   "source": [
    "# LIST"
   ]
  },
  {
   "cell_type": "code",
   "execution_count": 14,
   "id": "4ef9e54b",
   "metadata": {},
   "outputs": [
    {
     "data": {
      "text/plain": [
       "('Read', ['Read', True], ['Happy', 'Read'], ['Happy', 2, 'Read', True])"
      ]
     },
     "execution_count": 14,
     "metadata": {},
     "output_type": "execute_result"
    }
   ],
   "source": [
    "l=[1,2,'Read',True]\n",
    "l[0]=\"Happy\"\n",
    "new_l=l\n",
    "l[2],l[2:],l[0::2],new_l"
   ]
  },
  {
   "cell_type": "code",
   "execution_count": 15,
   "id": "d8af8c86",
   "metadata": {},
   "outputs": [
    {
     "data": {
      "text/plain": [
       "[1, 2, 'Read', True]"
      ]
     },
     "execution_count": 15,
     "metadata": {},
     "output_type": "execute_result"
    }
   ],
   "source": [
    "new_l[0]=1\n",
    "l #when new changes new one also changes"
   ]
  },
  {
   "cell_type": "code",
   "execution_count": 16,
   "id": "1a15a9cf",
   "metadata": {},
   "outputs": [
    {
     "data": {
      "text/plain": [
       "[1, 2, 'Read', True]"
      ]
     },
     "execution_count": 16,
     "metadata": {},
     "output_type": "execute_result"
    }
   ],
   "source": [
    "new_l=l[:] #slicing make copy not affect original\n",
    "new_l[0]=\"happy\" \n",
    "l"
   ]
  },
  {
   "cell_type": "code",
   "execution_count": 17,
   "id": "e0de8b8d",
   "metadata": {},
   "outputs": [
    {
     "data": {
      "text/plain": [
       "2"
      ]
     },
     "execution_count": 17,
     "metadata": {},
     "output_type": "execute_result"
    }
   ],
   "source": [
    "matrix=[\n",
    "    [1,2,3],\n",
    "    [4,5,6],\n",
    "    [4,5,2]\n",
    "]\n",
    "matrix[0][1]"
   ]
  },
  {
   "cell_type": "code",
   "execution_count": 18,
   "id": "3a288e9b",
   "metadata": {},
   "outputs": [
    {
     "data": {
      "text/plain": [
       "4"
      ]
     },
     "execution_count": 18,
     "metadata": {},
     "output_type": "execute_result"
    }
   ],
   "source": [
    "len(l)"
   ]
  },
  {
   "cell_type": "code",
   "execution_count": 19,
   "id": "6627c68d",
   "metadata": {},
   "outputs": [
    {
     "data": {
      "text/plain": [
       "(None, [1, 2, 4, 'Read', True, 100, 1, 2, 9], None, None)"
      ]
     },
     "execution_count": 19,
     "metadata": {},
     "output_type": "execute_result"
    }
   ],
   "source": [
    "l.append(100),l,l.insert(2,4),l.extend([1,2,9]) #append,insert change array inplace"
   ]
  },
  {
   "cell_type": "code",
   "execution_count": 20,
   "id": "75774d97",
   "metadata": {},
   "outputs": [
    {
     "data": {
      "text/plain": [
       "(9, [], 1, None, None)"
      ]
     },
     "execution_count": 20,
     "metadata": {},
     "output_type": "execute_result"
    }
   ],
   "source": [
    "l.pop(),l,l.pop(0),l.remove(4),l.clear()"
   ]
  },
  {
   "cell_type": "code",
   "execution_count": 21,
   "id": "272726e3",
   "metadata": {},
   "outputs": [
    {
     "ename": "ValueError",
     "evalue": "1 is not in list",
     "output_type": "error",
     "traceback": [
      "\u001b[0;31m---------------------------------------------------------------------------\u001b[0m",
      "\u001b[0;31mValueError\u001b[0m                                Traceback (most recent call last)",
      "\u001b[0;32m/tmp/ipykernel_21554/1067404648.py\u001b[0m in \u001b[0;36m<module>\u001b[0;34m\u001b[0m\n\u001b[0;32m----> 1\u001b[0;31m \u001b[0ml\u001b[0m\u001b[0;34m.\u001b[0m\u001b[0mindex\u001b[0m\u001b[0;34m(\u001b[0m\u001b[0;36m1\u001b[0m\u001b[0;34m)\u001b[0m\u001b[0;34m,\u001b[0m\u001b[0ml\u001b[0m\u001b[0;34m.\u001b[0m\u001b[0mindex\u001b[0m\u001b[0;34m(\u001b[0m\u001b[0;36m2\u001b[0m\u001b[0;34m,\u001b[0m\u001b[0;36m0\u001b[0m\u001b[0;34m,\u001b[0m\u001b[0;36m2\u001b[0m\u001b[0;34m)\u001b[0m\u001b[0;34m,\u001b[0m \u001b[0;36m1\u001b[0m \u001b[0;32min\u001b[0m \u001b[0ml\u001b[0m\u001b[0;34m,\u001b[0m \u001b[0;34m\"hi\"\u001b[0m \u001b[0;32min\u001b[0m \u001b[0ml\u001b[0m\u001b[0;34m,\u001b[0m\u001b[0;34m\"i\"\u001b[0m \u001b[0;32min\u001b[0m \u001b[0;34m\"hi hello\"\u001b[0m\u001b[0;34m,\u001b[0m\u001b[0ml\u001b[0m\u001b[0;34m.\u001b[0m\u001b[0mcount\u001b[0m\u001b[0;34m(\u001b[0m\u001b[0;36m1\u001b[0m\u001b[0;34m)\u001b[0m\u001b[0;34m\u001b[0m\u001b[0;34m\u001b[0m\u001b[0m\n\u001b[0m",
      "\u001b[0;31mValueError\u001b[0m: 1 is not in list"
     ]
    }
   ],
   "source": [
    "l.index(1),l.index(2,0,2), 1 in l, \"hi\" in l,\"i\" in \"hi hello\",l.count(1)"
   ]
  },
  {
   "cell_type": "code",
   "execution_count": 22,
   "id": "12f37118",
   "metadata": {},
   "outputs": [
    {
     "data": {
      "text/plain": [
       "(None,\n",
       " None,\n",
       " [9, 5, 4, 3, 1],\n",
       " ['a', 'b', 'c', 'o'],\n",
       " [1, 3, 4, 5, 9],\n",
       " None,\n",
       " [9, 5, 4, 3, 1])"
      ]
     },
     "execution_count": 22,
     "metadata": {},
     "output_type": "execute_result"
    }
   ],
   "source": [
    "a=[1,9,3,4,5]\n",
    "b=['b','c','o','a']\n",
    "a.sort(),b.sort(),a,b,sorted(a),a.reverse(),a  #sort() is a method whereas sorted() is a function - sort() inplace , sorted() not modify list"
   ]
  },
  {
   "cell_type": "code",
   "execution_count": 23,
   "id": "b18dc81e",
   "metadata": {},
   "outputs": [
    {
     "data": {
      "text/plain": [
       "[9, 5, 4, 3, 1]"
      ]
     },
     "execution_count": 23,
     "metadata": {},
     "output_type": "execute_result"
    }
   ],
   "source": [
    "a.reverse() #inplace\n",
    "a[::-1] #make a copy"
   ]
  },
  {
   "cell_type": "code",
   "execution_count": 24,
   "id": "1b37afac",
   "metadata": {},
   "outputs": [
    {
     "data": {
      "text/plain": [
       "('Hi!hello!Hey', [1, 2, 3, 4, 5, 6, 7, 8, 9])"
      ]
     },
     "execution_count": 24,
     "metadata": {},
     "output_type": "execute_result"
    }
   ],
   "source": [
    "s='!'\n",
    "l=list(range(1,10))\n",
    "new_s=s.join([\"Hi\",\"hello\",\"Hey\"])\n",
    "new_s,l"
   ]
  },
  {
   "cell_type": "code",
   "execution_count": 25,
   "id": "98557c5b",
   "metadata": {},
   "outputs": [
    {
     "data": {
      "text/plain": [
       "(1, 2, 3, [4, 5, 6, 7], 8)"
      ]
     },
     "execution_count": 25,
     "metadata": {},
     "output_type": "execute_result"
    }
   ],
   "source": [
    "#List unpacking\n",
    "a,b,c,*remain,d=[1,2,3,4,5,6,7,8]\n",
    "a,b,c,remain,d"
   ]
  },
  {
   "cell_type": "markdown",
   "id": "9d28ef6e",
   "metadata": {},
   "source": [
    "# NONE"
   ]
  },
  {
   "cell_type": "code",
   "execution_count": 26,
   "id": "ef37b19b",
   "metadata": {},
   "outputs": [],
   "source": [
    "a=None\n",
    "a"
   ]
  },
  {
   "cell_type": "markdown",
   "id": "ea031c23",
   "metadata": {},
   "source": [
    "# DICTIONARY"
   ]
  },
  {
   "cell_type": "code",
   "execution_count": 27,
   "id": "3bba0fa8",
   "metadata": {},
   "outputs": [
    {
     "data": {
      "text/plain": [
       "([1, 2, 3], [1, 2, 3])"
      ]
     },
     "execution_count": 27,
     "metadata": {},
     "output_type": "execute_result"
    }
   ],
   "source": [
    "d={'a':[1,2,3],'b':2,'c':'Hello','d':True} #unordered key value pair\n",
    "l=[d,d] #ordered 0,1\n",
    "d['a'],l[0]['a']"
   ]
  },
  {
   "cell_type": "code",
   "execution_count": 28,
   "id": "6d500fcb",
   "metadata": {},
   "outputs": [
    {
     "data": {
      "text/plain": [
       "({123: [3, 4], True: '78', (1, 2): 'tuple'}, 'tuple')"
      ]
     },
     "execution_count": 28,
     "metadata": {},
     "output_type": "execute_result"
    }
   ],
   "source": [
    "d ={123:[1,2], True:'78',123:[3,4],(1,2):\"tuple\"} #key cannot be list (key is immutable), Key should be unique or else last one overrides\n",
    "d,d[(1,2)]"
   ]
  },
  {
   "cell_type": "code",
   "execution_count": 29,
   "id": "70f5fbe9",
   "metadata": {},
   "outputs": [
    {
     "data": {
      "text/plain": [
       "([3, 4], None, 9, {123: [3, 4], True: '78', (1, 2): 'tuple'})"
      ]
     },
     "execution_count": 29,
     "metadata": {},
     "output_type": "execute_result"
    }
   ],
   "source": [
    "d.get(123),d.get('123'),d.get('123',9),d"
   ]
  },
  {
   "cell_type": "code",
   "execution_count": 30,
   "id": "9afe20f8",
   "metadata": {},
   "outputs": [
    {
     "data": {
      "text/plain": [
       "({},\n",
       " dict_items([]),\n",
       " False,\n",
       " False,\n",
       " True,\n",
       " None,\n",
       " {'yr': 89},\n",
       " 'Priya',\n",
       " ('dep', 'CSE'),\n",
       " None)"
      ]
     },
     "execution_count": 30,
     "metadata": {},
     "output_type": "execute_result"
    }
   ],
   "source": [
    "d = dict(name=\"Priya\",dep=\"CSE\")\n",
    "d1=d.copy()\n",
    "d,d.items(),'Priya' in d,\"Priya\" in d.keys(),\"Priya\" in d.values(),d.clear(),d1,d1.pop('name'),d1.popitem(),d1.update({'yr':89})\n",
    "#popitem remove random key value pair  #update - update existing key or else add new key"
   ]
  },
  {
   "cell_type": "markdown",
   "id": "1b55e58a",
   "metadata": {},
   "source": [
    "# TUPLES"
   ]
  },
  {
   "cell_type": "code",
   "execution_count": 31,
   "id": "0c91313b",
   "metadata": {},
   "outputs": [
    {
     "data": {
      "text/plain": [
       "(2, True)"
      ]
     },
     "execution_count": 31,
     "metadata": {},
     "output_type": "execute_result"
    }
   ],
   "source": [
    "t=(1,2,3,1)\n",
    "# t[1]=3 #error immutable - faster than list\n",
    "t[1],1 in t"
   ]
  },
  {
   "cell_type": "code",
   "execution_count": 32,
   "id": "2369f828",
   "metadata": {},
   "outputs": [
    {
     "data": {
      "text/plain": [
       "((2,), (2, 3, 1), 1, 2, 3, [4, 5, 6], 2, 0, 4)"
      ]
     },
     "execution_count": 32,
     "metadata": {},
     "output_type": "execute_result"
    }
   ],
   "source": [
    "x,y,z,*other=(1,2,3,4,5,6)\n",
    "t[1:2],t[1:],x,y,z,other,t.count(1),t.index(1),len(t)"
   ]
  },
  {
   "cell_type": "markdown",
   "id": "4ffa97ec",
   "metadata": {},
   "source": [
    "# SET"
   ]
  },
  {
   "cell_type": "code",
   "execution_count": 33,
   "id": "8fca1e9e",
   "metadata": {},
   "outputs": [
    {
     "data": {
      "text/plain": [
       "({1, 2, 3, 5, 100}, {1, 2, 4, 5, 6}, True, 5, [1, 2, 3, 100, 5])"
      ]
     },
     "execution_count": 33,
     "metadata": {},
     "output_type": "execute_result"
    }
   ],
   "source": [
    "sets={1,2,3,5,3,2,1}\n",
    "sets.add(100),sets.add(2)\n",
    "l=[1,2,5,4,2,5,6]\n",
    "new_set = sets.copy()\n",
    "sets,set(l),1 in sets,len(sets),list(sets)  #set not support indexing"
   ]
  },
  {
   "cell_type": "code",
   "execution_count": 34,
   "id": "126481fd",
   "metadata": {},
   "outputs": [
    {
     "data": {
      "text/plain": [
       "(set(), {1, 2, 3, 5, 100})"
      ]
     },
     "execution_count": 34,
     "metadata": {},
     "output_type": "execute_result"
    }
   ],
   "source": [
    "sets.clear()\n",
    "sets,new_set"
   ]
  },
  {
   "cell_type": "markdown",
   "id": "b4c20eac",
   "metadata": {},
   "source": [
    "- difference()\n",
    "- discard()\n",
    "- difference_update()\n",
    "- intersection()\n",
    "- isdisjoint()\n",
    "- issubset()\n",
    "- union()\n",
    "- issuperset()"
   ]
  },
  {
   "cell_type": "code",
   "execution_count": 35,
   "id": "a3811625",
   "metadata": {},
   "outputs": [
    {
     "data": {
      "text/plain": [
       "({1, 2}, False, False, None, {2}, None, {2}, set(), {2, 3, 4, 5, 6}, True)"
      ]
     },
     "execution_count": 35,
     "metadata": {},
     "output_type": "execute_result"
    }
   ],
   "source": [
    "s1={1,2,3,4}\n",
    "s2={3,4,5,6}    # | union,& intersection\n",
    "s1.difference(s2),s1.issubset(s2),s1.issuperset(s2), s1.discard(1),s1, s1.difference_update(s2),s1,s1.intersection(s2),s1.union(s2),s1.isdisjoint(s2)"
   ]
  },
  {
   "cell_type": "markdown",
   "id": "3e214355",
   "metadata": {},
   "source": [
    "# CONDITIONAL LOGIC"
   ]
  },
  {
   "cell_type": "code",
   "execution_count": 36,
   "id": "d5981f72",
   "metadata": {},
   "outputs": [
    {
     "name": "stdout",
     "output_type": "stream",
     "text": [
      "not b\n"
     ]
    }
   ],
   "source": [
    "a,b=False,False\n",
    "if a and not b:\n",
    "    print(\"a and b\")\n",
    "elif 'a'<'A':\n",
    "    print('a')\n",
    "elif not b:\n",
    "    print('not b')\n",
    "else:\n",
    "    print('b')"
   ]
  },
  {
   "cell_type": "code",
   "execution_count": 37,
   "id": "f0b8f767",
   "metadata": {},
   "outputs": [
    {
     "data": {
      "text/plain": [
       "('HI', False)"
      ]
     },
     "execution_count": 37,
     "metadata": {},
     "output_type": "execute_result"
    }
   ],
   "source": [
    "#ternary operator - true_stmt if condition else false_stmt\n",
    "\"Hello\" if b else \"HI\", not(True)"
   ]
  },
  {
   "cell_type": "markdown",
   "id": "3c738582",
   "metadata": {},
   "source": [
    "short circuit  false && any === false , true || any == true"
   ]
  },
  {
   "cell_type": "code",
   "execution_count": 38,
   "id": "bfde9b66",
   "metadata": {},
   "outputs": [
    {
     "name": "stdout",
     "output_type": "stream",
     "text": [
      "True\n",
      "False\n",
      "False\n",
      "True\n",
      "True\n",
      "True\n",
      "\n",
      "\n",
      "False\n",
      "False\n",
      "False\n",
      "False\n",
      "False\n",
      "False\n",
      "True\n"
     ]
    },
    {
     "name": "stderr",
     "output_type": "stream",
     "text": [
      "<>:9: SyntaxWarning: \"is\" with a literal. Did you mean \"==\"?\n",
      "<>:10: SyntaxWarning: \"is\" with a literal. Did you mean \"==\"?\n",
      "<>:11: SyntaxWarning: \"is\" with a literal. Did you mean \"==\"?\n",
      "<>:12: SyntaxWarning: \"is\" with a literal. Did you mean \"==\"?\n",
      "<>:9: SyntaxWarning: \"is\" with a literal. Did you mean \"==\"?\n",
      "<>:10: SyntaxWarning: \"is\" with a literal. Did you mean \"==\"?\n",
      "<>:11: SyntaxWarning: \"is\" with a literal. Did you mean \"==\"?\n",
      "<>:12: SyntaxWarning: \"is\" with a literal. Did you mean \"==\"?\n",
      "/tmp/ipykernel_21554/493091488.py:9: SyntaxWarning: \"is\" with a literal. Did you mean \"==\"?\n",
      "  print(True is 1)\n",
      "/tmp/ipykernel_21554/493091488.py:10: SyntaxWarning: \"is\" with a literal. Did you mean \"==\"?\n",
      "  print('' is 1)\n",
      "/tmp/ipykernel_21554/493091488.py:11: SyntaxWarning: \"is\" with a literal. Did you mean \"==\"?\n",
      "  print([] is 1)\n",
      "/tmp/ipykernel_21554/493091488.py:12: SyntaxWarning: \"is\" with a literal. Did you mean \"==\"?\n",
      "  print(10 is 10.0)\n"
     ]
    }
   ],
   "source": [
    "print(True == 1)\n",
    "print('' == 1)\n",
    "print([] == 1)\n",
    "print(10 == 10.0)\n",
    "print([1,2] == [1,2]) \n",
    "print([] == [])#  == check for equality\n",
    "\n",
    "print(\"\\n\")\n",
    "print(True is 1)\n",
    "print('' is 1)\n",
    "print([] is 1)\n",
    "print(10 is 10.0)\n",
    "print([1,2] is [1,2]) \n",
    "print([] is [])# is location where stored is same - list new list create another location\n",
    "print(True is True)"
   ]
  },
  {
   "cell_type": "markdown",
   "id": "26e681a8",
   "metadata": {},
   "source": [
    "# LOOP"
   ]
  },
  {
   "cell_type": "code",
   "execution_count": 39,
   "id": "3890f25f",
   "metadata": {},
   "outputs": [
    {
     "name": "stdout",
     "output_type": "stream",
     "text": [
      "Priya12345"
     ]
    }
   ],
   "source": [
    "for item in \"Priya\":\n",
    "    print(item,end=\"\")\n",
    "for item in (1,2,3,4,5):\n",
    "    print(item,end=\"\")"
   ]
  },
  {
   "cell_type": "code",
   "execution_count": 40,
   "id": "33647007",
   "metadata": {},
   "outputs": [],
   "source": [
    "#iterable - list,dictionary,tuple,set and string\n",
    "#iterated = one by one check each item in collection"
   ]
  },
  {
   "cell_type": "code",
   "execution_count": 41,
   "id": "6accfe2c",
   "metadata": {},
   "outputs": [
    {
     "name": "stdout",
     "output_type": "stream",
     "text": [
      "{}\n"
     ]
    }
   ],
   "source": [
    "print(d)\n",
    "for i in d:\n",
    "    print(i)\n",
    "for i in d.items():\n",
    "    key,value=i;\n",
    "    print(key,value)\n",
    "    print(i)\n",
    "for i in d.values():\n",
    "    print(i)\n",
    "for key,value in d.items():\n",
    "    print(key,value)"
   ]
  },
  {
   "cell_type": "code",
   "execution_count": 42,
   "id": "85b934c7",
   "metadata": {},
   "outputs": [
    {
     "name": "stdout",
     "output_type": "stream",
     "text": [
      "0\n",
      "2\n",
      "4\n",
      "6\n",
      "8\n",
      "10\n",
      "8\n",
      "6\n",
      "4\n",
      "2\n",
      "[0, 1, 2, 3, 4, 5, 6, 7, 8, 9]\n"
     ]
    }
   ],
   "source": [
    "for a in range(0,10,2):\n",
    "    print(a)\n",
    "for a in range(10,0,-2):\n",
    "    print(a)\n",
    "print(list(range(10)))"
   ]
  },
  {
   "cell_type": "code",
   "execution_count": 43,
   "id": "483c15ff",
   "metadata": {},
   "outputs": [
    {
     "name": "stdout",
     "output_type": "stream",
     "text": [
      "0 H\n",
      "1 e\n",
      "2 l\n",
      "3 l\n",
      "4 o\n",
      "0 0\n",
      "1 1\n",
      "2 2\n",
      "3 3\n",
      "4 4\n",
      "5 5\n",
      "6 6\n",
      "7 7\n",
      "8 8\n",
      "9 9\n"
     ]
    }
   ],
   "source": [
    "for i,char in enumerate(\"Hello\"):\n",
    "    print(i,char)\n",
    "for i,char in enumerate(list(range(10))):\n",
    "    print(i,char)"
   ]
  },
  {
   "cell_type": "code",
   "execution_count": 44,
   "id": "bdc9cc73",
   "metadata": {},
   "outputs": [
    {
     "name": "stdout",
     "output_type": "stream",
     "text": [
      "5\n",
      "4\n",
      "3\n",
      "2\n",
      "1\n",
      "Execute if only no break stmt in while\n"
     ]
    }
   ],
   "source": [
    "i=5\n",
    "while i>0:\n",
    "    print(i)\n",
    "    i=i-1\n",
    "else:\n",
    "    print(\"Execute if only no break stmt in while\")"
   ]
  },
  {
   "cell_type": "markdown",
   "id": "e990cd46",
   "metadata": {},
   "source": [
    "# FUNCTIONS"
   ]
  },
  {
   "cell_type": "code",
   "execution_count": 45,
   "id": "978b34c3",
   "metadata": {},
   "outputs": [
    {
     "name": "stdout",
     "output_type": "stream",
     "text": [
      "Hello:) Priya CSE\n",
      "Hello:) Sasi CSE\n",
      "Hello:) Hari ECE\n"
     ]
    }
   ],
   "source": [
    "#parameters\n",
    "def hello(name,dept):\n",
    "    print(f'Hello:) {name} {dept}')\n",
    "    \n",
    "#positional arguments\n",
    "hello(\"Priya\",\"CSE\") #call,invoke\n",
    "\n",
    "#keyword arguments\n",
    "hello(dept=\"CSE\",name=\"Sasi\")\n",
    "    \n",
    "#Default Parameters\n",
    "def hello(name=\"Hari\",dept=\"ECE\"):\n",
    "    print(f'Hello:) {name} {dept}')\n",
    "\n",
    "hello()"
   ]
  },
  {
   "cell_type": "code",
   "execution_count": 46,
   "id": "7213ecdd",
   "metadata": {},
   "outputs": [
    {
     "name": "stdout",
     "output_type": "stream",
     "text": [
      "3\n"
     ]
    }
   ],
   "source": [
    "def sums(a,b):\n",
    "    return a+b\n",
    "print(sums(1,2))\n"
   ]
  },
  {
   "cell_type": "code",
   "execution_count": 49,
   "id": "914cd17f",
   "metadata": {},
   "outputs": [
    {
     "name": "stdout",
     "output_type": "stream",
     "text": [
      "20\n",
      "20\n"
     ]
    }
   ],
   "source": [
    "def sums(a,b):\n",
    "    def diff(a,b):\n",
    "        return a-b\n",
    "    return diff\n",
    "\n",
    "print(sums(4,2)(40,20))\n",
    "\n",
    "sum_value=sums(4,2)\n",
    "print(sum_value(40,20))"
   ]
  },
  {
   "cell_type": "code",
   "execution_count": 50,
   "id": "eec1a31c",
   "metadata": {},
   "outputs": [
    {
     "name": "stdout",
     "output_type": "stream",
     "text": [
      "1\n",
      "Help on built-in function len in module builtins:\n",
      "\n",
      "len(obj, /)\n",
      "    Return the number of items in a container.\n",
      "\n",
      "\n",
      "    This has another function inside\n",
      "    \n"
     ]
    }
   ],
   "source": [
    "#Docstrings\n",
    "def sums(a,b):\n",
    "    '''\n",
    "    This has another function inside\n",
    "    '''\n",
    "    def diff(x,y):\n",
    "        return x-y\n",
    "    return diff(a,b)\n",
    "\n",
    "print(sums(4,3))\n",
    "help(len)\n",
    "print(sums.__doc__)"
   ]
  },
  {
   "cell_type": "code",
   "execution_count": 51,
   "id": "7ccd02ad",
   "metadata": {},
   "outputs": [
    {
     "data": {
      "text/plain": [
       "True"
      ]
     },
     "execution_count": 51,
     "metadata": {},
     "output_type": "execute_result"
    }
   ],
   "source": [
    "#functions - list(),print(),max(),min(),input()\n",
    "def is_even(num):\n",
    "    return num%2==0\n",
    "is_even(50)"
   ]
  },
  {
   "cell_type": "code",
   "execution_count": 52,
   "id": "ccfdc34d",
   "metadata": {},
   "outputs": [
    {
     "name": "stdout",
     "output_type": "stream",
     "text": [
      "(1, 2, 3, 4, 5) 1 2 3 4 5\n",
      "{'a': 5, 'b': 6}\n",
      "26\n"
     ]
    }
   ],
   "source": [
    "# *args **kwargs (keywords)\n",
    "def super_func(name,*args,default=\"Helli\",**kwargs):\n",
    "    total=0\n",
    "    print(args,*args)\n",
    "    print(kwargs)\n",
    "    for i in kwargs.values():\n",
    "        total+=i\n",
    "    return sum(args) +total\n",
    "print(super_func(\"Priya\",1,2,3,4,5,a=5,b=6))"
   ]
  },
  {
   "cell_type": "code",
   "execution_count": 55,
   "id": "b431c229",
   "metadata": {},
   "outputs": [
    {
     "data": {
      "text/plain": [
       "25"
      ]
     },
     "execution_count": 55,
     "metadata": {},
     "output_type": "execute_result"
    }
   ],
   "source": [
    "total=100 #global\n",
    "def parent():\n",
    "    total=50 #parent local\n",
    "    def child():\n",
    "        total=25 #local\n",
    "        return total\n",
    "    return child()\n",
    "    \n",
    "if True:\n",
    "    x=2 #global if there\n",
    "    \n",
    "parent()\n",
    "\n",
    "#local < parent local < global < built-in functions(e.g sum)"
   ]
  },
  {
   "cell_type": "code",
   "execution_count": 58,
   "id": "a8df523d",
   "metadata": {},
   "outputs": [
    {
     "name": "stdout",
     "output_type": "stream",
     "text": [
      "1\n"
     ]
    }
   ],
   "source": [
    "#Global keyword\n",
    "total =0\n",
    "def count():\n",
    "    # total=0\n",
    "    global total\n",
    "    total +=1\n",
    "    return total\n",
    "print(count())"
   ]
  },
  {
   "cell_type": "code",
   "execution_count": 60,
   "id": "aca07bf1",
   "metadata": {},
   "outputs": [
    {
     "name": "stdout",
     "output_type": "stream",
     "text": [
      "3\n",
      "0\n"
     ]
    }
   ],
   "source": [
    "#dependency injection\n",
    "total =0\n",
    "def count(total):\n",
    "    total +=1\n",
    "    return total\n",
    "print(count(count(count(total))))\n",
    "print(total)"
   ]
  },
  {
   "cell_type": "code",
   "execution_count": 61,
   "id": "2b282a54",
   "metadata": {},
   "outputs": [
    {
     "name": "stdout",
     "output_type": "stream",
     "text": [
      "inner: nonlocal\n",
      "outer: nonlocal\n"
     ]
    }
   ],
   "source": [
    "def outer():\n",
    "    x=\"local\"\n",
    "    def inner():\n",
    "        nonlocal x\n",
    "        x=\"nonlocal\"\n",
    "        print(\"inner:\",x)\n",
    "    inner()\n",
    "    print(\"outer:\",x)\n",
    "\n",
    "outer()\n",
    " "
   ]
  },
  {
   "cell_type": "markdown",
   "id": "db630de4",
   "metadata": {},
   "source": [
    "- map\n",
    "- filter\n",
    "- zip\n",
    "- reduce"
   ]
  },
  {
   "cell_type": "code",
   "execution_count": 62,
   "id": "3d4d7079",
   "metadata": {},
   "outputs": [
    {
     "name": "stdout",
     "output_type": "stream",
     "text": [
      "[2, 4, 6]\n"
     ]
    }
   ],
   "source": [
    "def multiply(item):\n",
    "    return item*2\n",
    "print(list(map(multiply,[1,2,3])))"
   ]
  },
  {
   "cell_type": "code",
   "execution_count": 64,
   "id": "bdf18915",
   "metadata": {},
   "outputs": [
    {
     "name": "stdout",
     "output_type": "stream",
     "text": [
      "[1, 3]\n"
     ]
    }
   ],
   "source": [
    "def odd(item):\n",
    "    return item%2 != 0\n",
    "print(list(filter(odd,[1,2,3])))"
   ]
  },
  {
   "cell_type": "code",
   "execution_count": 66,
   "id": "9239090e",
   "metadata": {},
   "outputs": [
    {
     "name": "stdout",
     "output_type": "stream",
     "text": [
      "[(1, 1), (2, 20), (2, 30)]\n",
      "[(1, 1, 3), (2, 20, 6), (2, 30, 9)]\n"
     ]
    }
   ],
   "source": [
    "l1=[1,2,2]\n",
    "l2=[1,20,30]\n",
    "l3=(3,6,9)\n",
    "print(list(zip(l1,l2)))\n",
    "print(list(zip(l1,l2,l3)))"
   ]
  },
  {
   "cell_type": "code",
   "execution_count": 70,
   "id": "ac00284a",
   "metadata": {},
   "outputs": [
    {
     "name": "stdout",
     "output_type": "stream",
     "text": [
      "0 1\n",
      "1 2\n",
      "3 3\n",
      "6\n"
     ]
    }
   ],
   "source": [
    "from functools import reduce\n",
    "def accumulator(acc,item):\n",
    "    print(acc,item)\n",
    "    return acc+item\n",
    "    \n",
    "print(reduce(accumulator,[1,2,3],0))"
   ]
  },
  {
   "cell_type": "code",
   "execution_count": 77,
   "id": "afb94d5c",
   "metadata": {},
   "outputs": [
    {
     "name": "stdout",
     "output_type": "stream",
     "text": [
      "['h', 'e', 'l', 'l', 'o']\n"
     ]
    },
    {
     "data": {
      "text/plain": [
       "(['h', 'e', 'l', 'l', 'o'], [0, 4, 16])"
      ]
     },
     "execution_count": 77,
     "metadata": {},
     "output_type": "execute_result"
    }
   ],
   "source": [
    "#List comprehension\n",
    "l=[]\n",
    "for i in 'hello':\n",
    "    l.append(i)\n",
    "print(l)\n",
    "\n",
    "l=[i for i in 'hello']\n",
    "l1=[i**2 for i in range(0,5) if i%2==0]\n",
    "l,l1"
   ]
  },
  {
   "cell_type": "code",
   "execution_count": 79,
   "id": "d4f52fd8",
   "metadata": {},
   "outputs": [
    {
     "data": {
      "text/plain": [
       "({'e', 'h', 'l', 'o'}, {0, 4, 16})"
      ]
     },
     "execution_count": 79,
     "metadata": {},
     "output_type": "execute_result"
    }
   ],
   "source": [
    "#Set comprehension\n",
    "\n",
    "l={i for i in 'hello'}\n",
    "l1={i**2 for i in range(0,5) if i%2==0}\n",
    "l,l1"
   ]
  },
  {
   "cell_type": "code",
   "execution_count": 83,
   "id": "c10252e4",
   "metadata": {},
   "outputs": [
    {
     "data": {
      "text/plain": [
       "({'b': 4}, {1: 2, 2: 4, 3: 6})"
      ]
     },
     "execution_count": 83,
     "metadata": {},
     "output_type": "execute_result"
    }
   ],
   "source": [
    "#Dictionary Comprehension\n",
    "d={'a':1,'b':2}\n",
    "d1={key:value**2 for key,value in d.items() if value%2==0}\n",
    "d2={num:num*2 for num in [1,2,3]}\n",
    "d1,d2"
   ]
  },
  {
   "cell_type": "code",
   "execution_count": 85,
   "id": "e4f45622",
   "metadata": {},
   "outputs": [
    {
     "data": {
      "text/plain": [
       "[1, 4]"
      ]
     },
     "execution_count": 85,
     "metadata": {},
     "output_type": "execute_result"
    }
   ],
   "source": [
    "l=[1,2,1,4,4,3,9]\n",
    "duplicates = list({x for x in l if l.count(x)>1})\n",
    "duplicates"
   ]
  },
  {
   "cell_type": "markdown",
   "id": "1afdb30e",
   "metadata": {},
   "source": [
    "- module.py\n",
    "- package\n",
    "    - module1.py\n",
    "    - \\_\\_init\\_\\_.py\n",
    "- module2.py\n",
    "\n",
    "import module\n",
    "\n",
    "import package.module\n",
    "\n",
    "from package.module import function\n",
    "\n",
    "from package.module import function1,function2\n",
    "\n",
    "from package.module import *"
   ]
  },
  {
   "cell_type": "code",
   "execution_count": null,
   "id": "f0c57686",
   "metadata": {},
   "outputs": [],
   "source": []
  }
 ],
 "metadata": {
  "kernelspec": {
   "display_name": "Python 3 (ipykernel)",
   "language": "python",
   "name": "python3"
  },
  "language_info": {
   "codemirror_mode": {
    "name": "ipython",
    "version": 3
   },
   "file_extension": ".py",
   "mimetype": "text/x-python",
   "name": "python",
   "nbconvert_exporter": "python",
   "pygments_lexer": "ipython3",
   "version": "3.9.7"
  }
 },
 "nbformat": 4,
 "nbformat_minor": 5
}
