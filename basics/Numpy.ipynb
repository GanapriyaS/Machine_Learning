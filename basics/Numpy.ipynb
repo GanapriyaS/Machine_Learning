{
 "cells": [
  {
   "cell_type": "code",
   "execution_count": 1,
   "id": "negative-conversation",
   "metadata": {},
   "outputs": [],
   "source": [
    "import numpy as np\n",
    "import pandas as pd\n",
    "\n",
    "%matplotlib inline\n",
    "import matplotlib.pyplot as plt\n",
    "#shift tab for seeing documentation   esc+X for cut"
   ]
  },
  {
   "cell_type": "markdown",
   "id": "6e90dd77",
   "metadata": {},
   "source": [
    "# Datatypes and Attributes"
   ]
  },
  {
   "cell_type": "code",
   "execution_count": 2,
   "id": "radio-vintage",
   "metadata": {},
   "outputs": [
    {
     "data": {
      "text/plain": [
       "(array([1, 2, 3]),\n",
       " array([[1, 2, 3],\n",
       "        [4, 5, 6]]),\n",
       " array([[[ 1.,  2.,  3.],\n",
       "         [ 4.,  5.,  6.]],\n",
       " \n",
       "        [[ 7.,  8.,  9.],\n",
       "         [10., 11., 12.]],\n",
       " \n",
       "        [[13., 14., 15.],\n",
       "         [16., 17., 18.]]]),\n",
       " array([1, 2, 3]),\n",
       " array([1, 2, 3]))"
      ]
     },
     "execution_count": 2,
     "metadata": {},
     "output_type": "execute_result"
    }
   ],
   "source": [
    "#main datatype- ndarray\n",
    "a1=np.array([1,2,3])\n",
    "a_copy=a1.copy()\n",
    "a2=np.array([[1,2,3],[4,5,6]])\n",
    "a3=np.array([[[1,2,3],[4,5,6]],[[7,8,9],[10,11,12]],[[13,14,15],[16,17,18.0]]])\n",
    "a1,a2,a3,a_copy,a1[:]"
   ]
  },
  {
   "cell_type": "code",
   "execution_count": 3,
   "id": "valued-intellectual",
   "metadata": {},
   "outputs": [
    {
     "data": {
      "text/plain": [
       "(numpy.ndarray, numpy.ndarray, numpy.ndarray)"
      ]
     },
     "execution_count": 3,
     "metadata": {},
     "output_type": "execute_result"
    }
   ],
   "source": [
    "type(a1),type(a2),type(a3)"
   ]
  },
  {
   "cell_type": "code",
   "execution_count": 4,
   "id": "medical-indicator",
   "metadata": {},
   "outputs": [
    {
     "data": {
      "text/plain": [
       "((3,), (2, 3), (3, 2, 3))"
      ]
     },
     "execution_count": 4,
     "metadata": {},
     "output_type": "execute_result"
    }
   ],
   "source": [
    "a1.shape,a2.shape,a3.shape"
   ]
  },
  {
   "cell_type": "code",
   "execution_count": 5,
   "id": "liable-picnic",
   "metadata": {},
   "outputs": [
    {
     "data": {
      "text/plain": [
       "(1, 2, 3)"
      ]
     },
     "execution_count": 5,
     "metadata": {},
     "output_type": "execute_result"
    }
   ],
   "source": [
    "a1.ndim,a2.ndim,a3.ndim"
   ]
  },
  {
   "cell_type": "code",
   "execution_count": 6,
   "id": "informal-eating",
   "metadata": {},
   "outputs": [
    {
     "data": {
      "text/plain": [
       "(dtype('int64'), dtype('int64'), dtype('float64'))"
      ]
     },
     "execution_count": 6,
     "metadata": {},
     "output_type": "execute_result"
    }
   ],
   "source": [
    "a1.dtype,a2.dtype,a3.dtype"
   ]
  },
  {
   "cell_type": "code",
   "execution_count": 7,
   "id": "dangerous-assumption",
   "metadata": {},
   "outputs": [
    {
     "data": {
      "text/plain": [
       "(3, 6, 18)"
      ]
     },
     "execution_count": 7,
     "metadata": {},
     "output_type": "execute_result"
    }
   ],
   "source": [
    "a1.size,a2.size,a3.size"
   ]
  },
  {
   "cell_type": "code",
   "execution_count": null,
   "id": "245cf6e4",
   "metadata": {},
   "outputs": [],
   "source": []
  },
  {
   "cell_type": "code",
   "execution_count": 8,
   "id": "metric-sailing",
   "metadata": {},
   "outputs": [
    {
     "data": {
      "text/html": [
       "<div>\n",
       "<style scoped>\n",
       "    .dataframe tbody tr th:only-of-type {\n",
       "        vertical-align: middle;\n",
       "    }\n",
       "\n",
       "    .dataframe tbody tr th {\n",
       "        vertical-align: top;\n",
       "    }\n",
       "\n",
       "    .dataframe thead th {\n",
       "        text-align: right;\n",
       "    }\n",
       "</style>\n",
       "<table border=\"1\" class=\"dataframe\">\n",
       "  <thead>\n",
       "    <tr style=\"text-align: right;\">\n",
       "      <th></th>\n",
       "      <th>0</th>\n",
       "      <th>1</th>\n",
       "      <th>2</th>\n",
       "    </tr>\n",
       "  </thead>\n",
       "  <tbody>\n",
       "    <tr>\n",
       "      <th>0</th>\n",
       "      <td>1</td>\n",
       "      <td>2</td>\n",
       "      <td>3</td>\n",
       "    </tr>\n",
       "    <tr>\n",
       "      <th>1</th>\n",
       "      <td>4</td>\n",
       "      <td>5</td>\n",
       "      <td>6</td>\n",
       "    </tr>\n",
       "  </tbody>\n",
       "</table>\n",
       "</div>"
      ],
      "text/plain": [
       "   0  1  2\n",
       "0  1  2  3\n",
       "1  4  5  6"
      ]
     },
     "execution_count": 8,
     "metadata": {},
     "output_type": "execute_result"
    }
   ],
   "source": [
    "#dataframe from numpy array\n",
    "df=pd.DataFrame(a2)\n",
    "df"
   ]
  },
  {
   "cell_type": "code",
   "execution_count": null,
   "id": "2787a01a",
   "metadata": {},
   "outputs": [],
   "source": []
  },
  {
   "cell_type": "code",
   "execution_count": 9,
   "id": "random-consolidation",
   "metadata": {},
   "outputs": [
    {
     "data": {
      "text/plain": [
       "(array([[1., 1., 1.],\n",
       "        [1., 1., 1.]]),\n",
       " dtype('float64'),\n",
       " numpy.ndarray)"
      ]
     },
     "execution_count": 9,
     "metadata": {},
     "output_type": "execute_result"
    }
   ],
   "source": [
    "ones=np.ones((2,3))\n",
    "ones,ones.dtype,type(ones)"
   ]
  },
  {
   "cell_type": "code",
   "execution_count": 10,
   "id": "light-lightning",
   "metadata": {},
   "outputs": [
    {
     "data": {
      "text/plain": [
       "(array([[0., 0., 0.],\n",
       "        [0., 0., 0.]]),\n",
       " dtype('float64'),\n",
       " numpy.ndarray)"
      ]
     },
     "execution_count": 10,
     "metadata": {},
     "output_type": "execute_result"
    }
   ],
   "source": [
    "zeros=np.zeros((2,3))\n",
    "zeros,zeros.dtype,type(zeros)"
   ]
  },
  {
   "cell_type": "code",
   "execution_count": 11,
   "id": "moved-exercise",
   "metadata": {},
   "outputs": [
    {
     "data": {
      "text/plain": [
       "array([0, 2, 4, 6, 8])"
      ]
     },
     "execution_count": 11,
     "metadata": {},
     "output_type": "execute_result"
    }
   ],
   "source": [
    "arange=np.arange(0,10,2)\n",
    "arange"
   ]
  },
  {
   "cell_type": "code",
   "execution_count": 12,
   "id": "dramatic-straight",
   "metadata": {},
   "outputs": [
    {
     "data": {
      "text/plain": [
       "(array([[4, 4, 6],\n",
       "        [2, 4, 6],\n",
       "        [7, 2, 2],\n",
       "        [4, 9, 9],\n",
       "        [7, 7, 4]]),\n",
       " (5, 3),\n",
       " 15)"
      ]
     },
     "execution_count": 12,
     "metadata": {},
     "output_type": "execute_result"
    }
   ],
   "source": [
    "#low inclusive and high exclusive\n",
    "random=np.random.randint(0,10,size=(5,3))\n",
    "random,random.shape,random.size\n",
    "#random=np.random.randint(10,size=(3,4))"
   ]
  },
  {
   "cell_type": "code",
   "execution_count": 13,
   "id": "expensive-nevada",
   "metadata": {},
   "outputs": [
    {
     "data": {
      "text/plain": [
       "(array([[0.00727813, 0.75672702, 0.99993864, 0.60482709],\n",
       "        [0.37158914, 0.51182835, 0.02390817, 0.03233898],\n",
       "        [0.35843481, 0.17372484, 0.03294884, 0.71849479]]),\n",
       " (3, 4))"
      ]
     },
     "execution_count": 13,
     "metadata": {},
     "output_type": "execute_result"
    }
   ],
   "source": [
    "#(0.0,1.0)\n",
    "random1=np.random.random((3,4))\n",
    "random1,random1.shape"
   ]
  },
  {
   "cell_type": "code",
   "execution_count": 14,
   "id": "advance-charles",
   "metadata": {},
   "outputs": [
    {
     "data": {
      "text/plain": [
       "(array([[0.46410909, 0.85828696, 0.39209861, 0.01997692],\n",
       "        [0.40487261, 0.71813063, 0.42330734, 0.15165861],\n",
       "        [0.4954967 , 0.49418235, 0.83753581, 0.81896814]]),\n",
       " array([[-1.83791056,  1.34398611, -0.37393905, -1.83163832],\n",
       "        [ 1.01512481,  2.63327335,  0.50952582, -1.12699251],\n",
       "        [ 0.1744785 , -1.21357849,  2.04423761, -0.65404676]]),\n",
       " array([[False,  True, False, False],\n",
       "        [ True,  True,  True, False],\n",
       "        [False, False,  True, False]]))"
      ]
     },
     "execution_count": 14,
     "metadata": {},
     "output_type": "execute_result"
    }
   ],
   "source": [
    "# rand uniform distribution\n",
    "# randn gaussion or normal distribution\n",
    "\n",
    "random2=np.random.rand(3,4)\n",
    "random4=np.random.randn(3,4)\n",
    "#random values in given shape\n",
    "random2,random4,random4>0.2"
   ]
  },
  {
   "cell_type": "code",
   "execution_count": 15,
   "id": "wicked-welcome",
   "metadata": {},
   "outputs": [
    {
     "data": {
      "text/plain": [
       "(array([[5, 0, 3],\n",
       "        [3, 7, 9],\n",
       "        [3, 5, 2],\n",
       "        [4, 7, 6],\n",
       "        [8, 8, 1]]),\n",
       " (5, 3))"
      ]
     },
     "execution_count": 15,
     "metadata": {},
     "output_type": "execute_result"
    }
   ],
   "source": [
    "#pseudo-random numbers\n",
    "np.random.seed(seed=0) #to get same result\n",
    "random3=np.random.randint(0,10,size=(5,3))\n",
    "random3,random3.shape"
   ]
  },
  {
   "cell_type": "code",
   "execution_count": 16,
   "id": "potential-radius",
   "metadata": {},
   "outputs": [
    {
     "data": {
      "text/plain": [
       "(array([[0.07630829, 0.77991879, 0.43840923],\n",
       "        [0.72346518, 0.97798951, 0.53849587],\n",
       "        [0.50112046, 0.07205113, 0.26843898],\n",
       "        [0.4998825 , 0.67923   , 0.80373904],\n",
       "        [0.38094113, 0.06593635, 0.2881456 ]]),\n",
       " (5, 3))"
      ]
     },
     "execution_count": 16,
     "metadata": {},
     "output_type": "execute_result"
    }
   ],
   "source": [
    "np.random.seed(7)\n",
    "random4=np.random.random((5,3))\n",
    "random4,random4.shape"
   ]
  },
  {
   "cell_type": "code",
   "execution_count": 17,
   "id": "industrial-doubt",
   "metadata": {},
   "outputs": [
    {
     "data": {
      "text/plain": [
       "array([  0.        ,   3.44827586,   6.89655172,  10.34482759,\n",
       "        13.79310345,  17.24137931,  20.68965517,  24.13793103,\n",
       "        27.5862069 ,  31.03448276,  34.48275862,  37.93103448,\n",
       "        41.37931034,  44.82758621,  48.27586207,  51.72413793,\n",
       "        55.17241379,  58.62068966,  62.06896552,  65.51724138,\n",
       "        68.96551724,  72.4137931 ,  75.86206897,  79.31034483,\n",
       "        82.75862069,  86.20689655,  89.65517241,  93.10344828,\n",
       "        96.55172414, 100.        ])"
      ]
     },
     "execution_count": 17,
     "metadata": {},
     "output_type": "execute_result"
    }
   ],
   "source": [
    "np.linspace(0,100,30)\n",
    "# in linspace both are inclusive 0 and 100 and evenly spaced"
   ]
  },
  {
   "cell_type": "code",
   "execution_count": 18,
   "id": "alternative-whale",
   "metadata": {},
   "outputs": [
    {
     "data": {
      "text/plain": [
       "array([11, 12, 13, 14, 15, 16, 17, 18, 19])"
      ]
     },
     "execution_count": 18,
     "metadata": {},
     "output_type": "execute_result"
    }
   ],
   "source": [
    "arange=np.arange(11,20)\n",
    "arange"
   ]
  },
  {
   "cell_type": "code",
   "execution_count": 19,
   "id": "capable-liberal",
   "metadata": {},
   "outputs": [
    {
     "data": {
      "text/plain": [
       "array([[81, 82, 83],\n",
       "       [91, 92, 93]])"
      ]
     },
     "execution_count": 19,
     "metadata": {},
     "output_type": "execute_result"
    }
   ],
   "source": [
    "arrange=np.arange(1,101).reshape(10,10)\n",
    "arrange[8:,0:3] #last 2 rows and first 3 column values index & selection technique¶"
   ]
  },
  {
   "cell_type": "code",
   "execution_count": 20,
   "id": "departmental-eight",
   "metadata": {},
   "outputs": [
    {
     "data": {
      "text/plain": [
       "array([ 3, 13, 23, 33, 43, 53, 63, 73, 83, 93])"
      ]
     },
     "execution_count": 20,
     "metadata": {},
     "output_type": "execute_result"
    }
   ],
   "source": [
    "arrange[:,2] #coloumn"
   ]
  },
  {
   "cell_type": "code",
   "execution_count": 21,
   "id": "southeast-spectacular",
   "metadata": {},
   "outputs": [
    {
     "data": {
      "text/plain": [
       "array([21, 22, 23, 24, 25, 26, 27, 28, 29, 30])"
      ]
     },
     "execution_count": 21,
     "metadata": {},
     "output_type": "execute_result"
    }
   ],
   "source": [
    "arrange[2,:] #row"
   ]
  },
  {
   "cell_type": "code",
   "execution_count": 22,
   "id": "likely-burke",
   "metadata": {},
   "outputs": [
    {
     "data": {
      "text/plain": [
       "array([[11, 12, 13, 14, 15, 16, 17, 18, 19, 20],\n",
       "       [31, 32, 33, 34, 35, 36, 37, 38, 39, 40]])"
      ]
     },
     "execution_count": 22,
     "metadata": {},
     "output_type": "execute_result"
    }
   ],
   "source": [
    "arrange[(1,3),:] #values from the 2nd & 4th rows "
   ]
  },
  {
   "cell_type": "markdown",
   "id": "white-first",
   "metadata": {},
   "source": [
    "an array of all even integers from 2 to 10 and array of all even integers from 22 to 30\n",
    "\n",
    "2 arrays as rows and create a matrix"
   ]
  },
  {
   "cell_type": "code",
   "execution_count": 23,
   "id": "jewish-relative",
   "metadata": {},
   "outputs": [
    {
     "data": {
      "text/plain": [
       "array([[ 2,  4,  6,  8, 10],\n",
       "       [22, 24, 26, 28, 30]])"
      ]
     },
     "execution_count": 23,
     "metadata": {},
     "output_type": "execute_result"
    }
   ],
   "source": [
    "b1 = np.arange(2,11,2)\n",
    "b2= np.arange(22,31,2)\n",
    "np.stack((b1,b2))\n",
    "\n",
    "# tuples (b1,b2)"
   ]
  },
  {
   "cell_type": "markdown",
   "id": "junior-collectible",
   "metadata": {},
   "source": [
    "2 arrays as columns and create a matrix"
   ]
  },
  {
   "cell_type": "code",
   "execution_count": 24,
   "id": "crucial-discretion",
   "metadata": {},
   "outputs": [
    {
     "data": {
      "text/plain": [
       "array([[ 2, 22],\n",
       "       [ 4, 24],\n",
       "       [ 6, 26],\n",
       "       [ 8, 28],\n",
       "       [10, 30]])"
      ]
     },
     "execution_count": 24,
     "metadata": {},
     "output_type": "execute_result"
    }
   ],
   "source": [
    "np.column_stack((b1,b2))"
   ]
  },
  {
   "cell_type": "code",
   "execution_count": 25,
   "id": "elegant-manual",
   "metadata": {},
   "outputs": [
    {
     "data": {
      "text/plain": [
       "array([[ 0,  1,  2,  3,  4,  5],\n",
       "       [ 6,  7,  8,  9, 10, 11],\n",
       "       [12, 13, 14, 15, 16, 17],\n",
       "       [18, 19, 20, 21, 22, 23],\n",
       "       [24, 25, 26, 27, 28, 29]])"
      ]
     },
     "execution_count": 25,
     "metadata": {},
     "output_type": "execute_result"
    }
   ],
   "source": [
    "array_matrix = np.arange(30).reshape(5,6)\n",
    "array_matrix"
   ]
  },
  {
   "cell_type": "markdown",
   "id": "negative-latino",
   "metadata": {},
   "source": [
    " identity matrix of shape 10x10 and replace the 0's with the value 5"
   ]
  },
  {
   "cell_type": "code",
   "execution_count": 26,
   "id": "original-feedback",
   "metadata": {},
   "outputs": [
    {
     "data": {
      "text/plain": [
       "array([[1., 6., 6., 6., 6., 6., 6., 6., 6., 6.],\n",
       "       [6., 1., 6., 6., 6., 6., 6., 6., 6., 6.],\n",
       "       [6., 6., 1., 6., 6., 6., 6., 6., 6., 6.],\n",
       "       [6., 6., 6., 1., 6., 6., 6., 6., 6., 6.],\n",
       "       [6., 6., 6., 6., 1., 6., 6., 6., 6., 6.],\n",
       "       [6., 6., 6., 6., 6., 1., 6., 6., 6., 6.],\n",
       "       [6., 6., 6., 6., 6., 6., 1., 6., 6., 6.],\n",
       "       [6., 6., 6., 6., 6., 6., 6., 1., 6., 6.],\n",
       "       [6., 6., 6., 6., 6., 6., 6., 6., 1., 6.],\n",
       "       [6., 6., 6., 6., 6., 6., 6., 6., 6., 1.]])"
      ]
     },
     "execution_count": 26,
     "metadata": {},
     "output_type": "execute_result"
    }
   ],
   "source": [
    "eye = np.eye(10)\n",
    "eye[eye == 0] = 6\n",
    "eye"
   ]
  },
  {
   "cell_type": "code",
   "execution_count": 27,
   "id": "impressed-country",
   "metadata": {},
   "outputs": [
    {
     "data": {
      "text/plain": [
       "array([[1., 0., 0.],\n",
       "       [0., 1., 0.],\n",
       "       [0., 0., 1.]])"
      ]
     },
     "execution_count": 27,
     "metadata": {},
     "output_type": "execute_result"
    }
   ],
   "source": [
    "np.eye(3,3)\n",
    "np.identity(3)"
   ]
  },
  {
   "cell_type": "markdown",
   "id": "communist-papua",
   "metadata": {},
   "source": [
    "# View Arrays and Matrices"
   ]
  },
  {
   "cell_type": "code",
   "execution_count": 28,
   "id": "776ce2a1",
   "metadata": {},
   "outputs": [
    {
     "data": {
      "text/plain": [
       "(array([[5, 0, 3],\n",
       "        [3, 7, 9],\n",
       "        [3, 5, 2],\n",
       "        [4, 7, 6],\n",
       "        [8, 8, 1]]),\n",
       " array([[[ 1.,  2.,  3.],\n",
       "         [ 4.,  5.,  6.]],\n",
       " \n",
       "        [[ 7.,  8.,  9.],\n",
       "         [10., 11., 12.]],\n",
       " \n",
       "        [[13., 14., 15.],\n",
       "         [16., 17., 18.]]]),\n",
       " array([[1, 2, 3],\n",
       "        [4, 5, 6]]),\n",
       " array([1, 2, 3]))"
      ]
     },
     "execution_count": 28,
     "metadata": {},
     "output_type": "execute_result"
    }
   ],
   "source": [
    "random3,a3,a2,a1"
   ]
  },
  {
   "cell_type": "code",
   "execution_count": 29,
   "id": "protective-operator",
   "metadata": {},
   "outputs": [
    {
     "data": {
      "text/plain": [
       "array([0, 1, 2, 3, 4, 5, 6, 7, 8, 9])"
      ]
     },
     "execution_count": 29,
     "metadata": {},
     "output_type": "execute_result"
    }
   ],
   "source": [
    "np.unique(random3)"
   ]
  },
  {
   "cell_type": "code",
   "execution_count": 30,
   "id": "representative-criterion",
   "metadata": {},
   "outputs": [
    {
     "data": {
      "text/plain": [
       "(1,\n",
       " array([[1., 2., 3.],\n",
       "        [4., 5., 6.]]),\n",
       " array([1, 2, 3]))"
      ]
     },
     "execution_count": 30,
     "metadata": {},
     "output_type": "execute_result"
    }
   ],
   "source": [
    "a1[0],a3[0],a2[0]"
   ]
  },
  {
   "cell_type": "code",
   "execution_count": 31,
   "id": "utility-bridal",
   "metadata": {},
   "outputs": [
    {
     "data": {
      "text/plain": [
       "(array([[1, 2, 3],\n",
       "        [4, 5, 6]]),\n",
       " array([[[ 1.],\n",
       "         [ 4.]],\n",
       " \n",
       "        [[ 7.],\n",
       "         [10.]],\n",
       " \n",
       "        [[13.],\n",
       "         [16.]]]))"
      ]
     },
     "execution_count": 31,
     "metadata": {},
     "output_type": "execute_result"
    }
   ],
   "source": [
    "a2[:2],a3[:,:,:1]"
   ]
  },
  {
   "cell_type": "code",
   "execution_count": 32,
   "id": "sexual-wiring",
   "metadata": {},
   "outputs": [
    {
     "data": {
      "text/plain": [
       "array([[[[3, 5, 8, 8, 7],\n",
       "         [5, 0, 0, 2, 8],\n",
       "         [9, 6, 4, 9, 7],\n",
       "         [3, 3, 8, 3, 0]],\n",
       "\n",
       "        [[1, 0, 0, 6, 7],\n",
       "         [7, 9, 3, 0, 7],\n",
       "         [7, 7, 0, 5, 4],\n",
       "         [3, 1, 3, 1, 3]],\n",
       "\n",
       "        [[4, 3, 1, 9, 5],\n",
       "         [9, 1, 2, 3, 2],\n",
       "         [2, 5, 7, 3, 0],\n",
       "         [9, 9, 3, 4, 5]]],\n",
       "\n",
       "\n",
       "       [[[3, 0, 4, 8, 6],\n",
       "         [7, 2, 7, 3, 8],\n",
       "         [6, 6, 5, 6, 5],\n",
       "         [7, 1, 5, 4, 4]],\n",
       "\n",
       "        [[9, 9, 0, 6, 2],\n",
       "         [6, 8, 2, 4, 1],\n",
       "         [6, 1, 5, 1, 6],\n",
       "         [9, 8, 6, 5, 9]],\n",
       "\n",
       "        [[7, 5, 4, 9, 6],\n",
       "         [8, 1, 5, 5, 8],\n",
       "         [3, 7, 7, 9, 4],\n",
       "         [7, 5, 9, 6, 2]]]])"
      ]
     },
     "execution_count": 32,
     "metadata": {},
     "output_type": "execute_result"
    }
   ],
   "source": [
    "a4=np.random.randint(10,size=(2,3,4,5))\n",
    "a4"
   ]
  },
  {
   "cell_type": "code",
   "execution_count": 33,
   "id": "sublime-participation",
   "metadata": {},
   "outputs": [
    {
     "data": {
      "text/plain": [
       "((2, 3, 4, 5), 4)"
      ]
     },
     "execution_count": 33,
     "metadata": {},
     "output_type": "execute_result"
    }
   ],
   "source": [
    "a4.shape,a4.ndim"
   ]
  },
  {
   "cell_type": "code",
   "execution_count": 34,
   "id": "continuing-chicken",
   "metadata": {},
   "outputs": [
    {
     "data": {
      "text/plain": [
       "(array([[[[3, 5, 8, 8]],\n",
       " \n",
       "         [[1, 0, 0, 6]],\n",
       " \n",
       "         [[4, 3, 1, 9]]],\n",
       " \n",
       " \n",
       "        [[[3, 0, 4, 8]],\n",
       " \n",
       "         [[9, 9, 0, 6]],\n",
       " \n",
       "         [[7, 5, 4, 9]]]]),\n",
       " array([[[[3],\n",
       "          [5],\n",
       "          [9],\n",
       "          [3]],\n",
       " \n",
       "         [[1],\n",
       "          [7],\n",
       "          [7],\n",
       "          [3]],\n",
       " \n",
       "         [[4],\n",
       "          [9],\n",
       "          [2],\n",
       "          [9]]],\n",
       " \n",
       " \n",
       "        [[[3],\n",
       "          [7],\n",
       "          [6],\n",
       "          [7]],\n",
       " \n",
       "         [[9],\n",
       "          [6],\n",
       "          [6],\n",
       "          [9]],\n",
       " \n",
       "         [[7],\n",
       "          [8],\n",
       "          [3],\n",
       "          [7]]]]))"
      ]
     },
     "execution_count": 34,
     "metadata": {},
     "output_type": "execute_result"
    }
   ],
   "source": [
    "a4[:,:,:1,:4],a4[:,:,:,:1]"
   ]
  },
  {
   "cell_type": "markdown",
   "id": "affecting-radius",
   "metadata": {},
   "source": [
    "# Manipulating & Comparing Arrays "
   ]
  },
  {
   "cell_type": "markdown",
   "id": "81f684dc",
   "metadata": {},
   "source": [
    "## Arithmetic"
   ]
  },
  {
   "cell_type": "code",
   "execution_count": 35,
   "id": "forty-bunny",
   "metadata": {},
   "outputs": [
    {
     "data": {
      "text/plain": [
       "(array([0, 2, 3]),\n",
       " array([1., 1., 1.]),\n",
       " array([1., 3., 4.]),\n",
       " array([-1.,  1.,  2.]),\n",
       " array([0., 2., 3.]),\n",
       " array([0., 2., 3.]),\n",
       " array([1., 3., 4.]),\n",
       " array([0. , 1. , 1.5]),\n",
       " array([0, 0, 1]))"
      ]
     },
     "execution_count": 35,
     "metadata": {},
     "output_type": "execute_result"
    }
   ],
   "source": [
    "a=np.array([0,2,3])\n",
    "b=np.ones(3)\n",
    "a,b,a+b,a-b,a*b,a/b, np.add(a,b), a/2,a%2 #show remainders"
   ]
  },
  {
   "cell_type": "code",
   "execution_count": 36,
   "id": "nonprofit-running",
   "metadata": {},
   "outputs": [
    {
     "data": {
      "text/plain": [
       "(array([[ 0,  4,  9],\n",
       "        [ 0, 10, 18]]),\n",
       " array([[0. , 1. , 1. ],\n",
       "        [0. , 0.4, 0.5]]),\n",
       " array([[0, 1, 1],\n",
       "        [0, 0, 0]]),\n",
       " array([[1, 0, 1],\n",
       "        [0, 1, 0]]))"
      ]
     },
     "execution_count": 36,
     "metadata": {},
     "output_type": "execute_result"
    }
   ],
   "source": [
    "c=np.array([[1,2,3],[4,5,6]])\n",
    "a*c, a/c, a//c,c%2  #floor"
   ]
  },
  {
   "cell_type": "code",
   "execution_count": 37,
   "id": "dedicated-quantity",
   "metadata": {},
   "outputs": [],
   "source": [
    "#reshape a2 compatible with a3\n",
    "#a2 * a3  (2,3) (2,3,3)"
   ]
  },
  {
   "cell_type": "code",
   "execution_count": 38,
   "id": "cathedral-latitude",
   "metadata": {},
   "outputs": [
    {
     "data": {
      "text/plain": [
       "(array([[ 1,  4,  9],\n",
       "        [16, 25, 36]]),\n",
       " array([[ 1,  4,  9],\n",
       "        [16, 25, 36]]),\n",
       " array([[  2.71828183,   7.3890561 ,  20.08553692],\n",
       "        [ 54.59815003, 148.4131591 , 403.42879349]]),\n",
       " array([[0.        , 0.69314718, 1.09861229],\n",
       "        [1.38629436, 1.60943791, 1.79175947]]))"
      ]
     },
     "execution_count": 38,
     "metadata": {},
     "output_type": "execute_result"
    }
   ],
   "source": [
    "# a2**2\n",
    "a2**2,np.square(a2), np.exp(a2), np.log(a2)"
   ]
  },
  {
   "cell_type": "markdown",
   "id": "ahead-passion",
   "metadata": {},
   "source": [
    "## Aggregation\n",
    "Aggregation = performing the same operation on a no of things\n",
    "\n",
    "python datatypes - sum()\n",
    "\n",
    "Numpy arrays - np.sum()\n"
   ]
  },
  {
   "cell_type": "code",
   "execution_count": 39,
   "id": "operational-richards",
   "metadata": {},
   "outputs": [
    {
     "data": {
      "text/plain": [
       "(list, 6, numpy.ndarray, 6, 6)"
      ]
     },
     "execution_count": 39,
     "metadata": {},
     "output_type": "execute_result"
    }
   ],
   "source": [
    "l=[1,2,3]\n",
    "type(l),sum(l),type(a1),sum(a1),np.sum(a1)"
   ]
  },
  {
   "cell_type": "code",
   "execution_count": 40,
   "id": "primary-carnival",
   "metadata": {},
   "outputs": [
    {
     "data": {
      "text/plain": [
       "(100,\n",
       " array([0.82845319, 0.94180927, 0.12814785, 0.23043067, 0.6591584 ,\n",
       "        0.13247399, 0.22407864, 0.57486259, 0.16952372, 0.78223015,\n",
       "        0.85697563, 0.0336742 , 0.5326448 , 0.79695136, 0.97513968,\n",
       "        0.27425859, 0.16910106, 0.87670093, 0.90918246, 0.19753289,\n",
       "        0.44152974, 0.71923214, 0.84534516, 0.16827531, 0.66496896,\n",
       "        0.80783546, 0.54971412, 0.16471666, 0.0355288 , 0.28153382,\n",
       "        0.80787085, 0.04476626, 0.00821651, 0.36161665, 0.06362229,\n",
       "        0.1494863 , 0.02319037, 0.52471984, 0.6966959 , 0.42705349,\n",
       "        0.13457046, 0.33135721, 0.59034585, 0.94066139, 0.99255772,\n",
       "        0.24160292, 0.01057991, 0.83064033, 0.92661294, 0.45860348,\n",
       "        0.77144234, 0.86619903, 0.6096148 , 0.87262718, 0.02390303,\n",
       "        0.27159522, 0.27721958, 0.12063243, 0.91071345, 0.03043927,\n",
       "        0.67256103, 0.07133969, 0.36078049, 0.41809954, 0.18140429,\n",
       "        0.5210141 , 0.53499176, 0.31704388, 0.73708806, 0.16020241,\n",
       "        0.19250822, 0.35451102, 0.37837613, 0.20628586, 0.91870921,\n",
       "        0.82809357, 0.10687674, 0.36948592, 0.2326711 , 0.4510786 ,\n",
       "        0.27631719, 0.50180689, 0.92260315, 0.38251114, 0.65012833,\n",
       "        0.59562111, 0.75195356, 0.06166533, 0.74482367, 0.94627593,\n",
       "        0.60355955, 0.28757994, 0.67236922, 0.71204879, 0.65645029,\n",
       "        0.14693032, 0.97347557, 0.95538345, 0.42462553, 0.59363733]))"
      ]
     },
     "execution_count": 40,
     "metadata": {},
     "output_type": "execute_result"
    }
   ],
   "source": [
    "a=np.random.random(100)\n",
    "a.size,a"
   ]
  },
  {
   "cell_type": "code",
   "execution_count": 41,
   "id": "focal-liability",
   "metadata": {},
   "outputs": [
    {
     "name": "stdout",
     "output_type": "stream",
     "text": [
      "21 µs ± 509 ns per loop (mean ± std. dev. of 7 runs, 10000 loops each)\n",
      "12.1 µs ± 1.05 µs per loop (mean ± std. dev. of 7 runs, 100000 loops each)\n"
     ]
    }
   ],
   "source": [
    "%timeit sum(a)\n",
    "%timeit np.sum(a) # faster"
   ]
  },
  {
   "cell_type": "code",
   "execution_count": 42,
   "id": "gorgeous-rogers",
   "metadata": {},
   "outputs": [
    {
     "data": {
      "text/plain": [
       "(array([[1, 2, 3],\n",
       "        [4, 5, 6]]),\n",
       " 3.5,\n",
       " 6,\n",
       " 1,\n",
       " 1.707825127659933,\n",
       " 2.9166666666666665)"
      ]
     },
     "execution_count": 42,
     "metadata": {},
     "output_type": "execute_result"
    }
   ],
   "source": [
    "a2,np.mean(a2),np.max(a2),np.min(a2),np.std(a2),np.var(a2)\n",
    "#variance is measure of avg degree to which each no is different to the mean\n",
    "#Higher variance= wider range of nos\n",
    "#Lower variance=lower range of nos\n",
    "\n",
    "#SD - measure of how spread out a group of nos is from the mean\n",
    "# SD= np.sqrt(np.var(a2))"
   ]
  },
  {
   "cell_type": "code",
   "execution_count": 43,
   "id": "registered-british",
   "metadata": {},
   "outputs": [
    {
     "data": {
      "text/plain": [
       "(4296133.472222221,\n",
       " 8.0,\n",
       " 2072.711623024829,\n",
       " 2.8284271247461903,\n",
       " 1600.1666666666667,\n",
       " 6.0)"
      ]
     },
     "execution_count": 43,
     "metadata": {},
     "output_type": "execute_result"
    }
   ],
   "source": [
    "high_var_array = np.array([1,100,200,300,4000,5000])\n",
    "low_var_array = np.array([2,4,6,8,10]) #max distance\n",
    "\n",
    "np.var(high_var_array),np.var(low_var_array) , np.std(high_var_array),np.std(low_var_array), np.mean(high_var_array),np.mean(low_var_array) "
   ]
  },
  {
   "cell_type": "code",
   "execution_count": 44,
   "id": "ba8d6593",
   "metadata": {},
   "outputs": [
    {
     "data": {
      "image/png": "[encoded data removed]",
      "text/plain": [
       "<Figure size 432x288 with 1 Axes>"
      ]
     },
     "metadata": {
      "needs_background": "light"
     },
     "output_type": "display_data"
    }
   ],
   "source": [
    "plt.hist(high_var_array)\n",
    "plt.show()"
   ]
  },
  {
   "cell_type": "code",
   "execution_count": 45,
   "id": "917b644d",
   "metadata": {},
   "outputs": [
    {
     "data": {
      "image/png": "[encoded data removed]",
      "text/plain": [
       "<Figure size 432x288 with 1 Axes>"
      ]
     },
     "metadata": {
      "needs_background": "light"
     },
     "output_type": "display_data"
    }
   ],
   "source": [
    "plt.hist(low_var_array)\n",
    "plt.show()"
   ]
  },
  {
   "cell_type": "markdown",
   "id": "82a05da9",
   "metadata": {},
   "source": [
    "## Reshape and Transpose"
   ]
  },
  {
   "cell_type": "code",
   "execution_count": 46,
   "id": "7f10a5b8",
   "metadata": {},
   "outputs": [
    {
     "data": {
      "text/plain": [
       "(array([[1, 2, 3],\n",
       "        [4, 5, 6]]),\n",
       " array([[[ 1.,  2.,  3.],\n",
       "         [ 4.,  5.,  6.]],\n",
       " \n",
       "        [[ 7.,  8.,  9.],\n",
       "         [10., 11., 12.]],\n",
       " \n",
       "        [[13., 14., 15.],\n",
       "         [16., 17., 18.]]]))"
      ]
     },
     "execution_count": 46,
     "metadata": {},
     "output_type": "execute_result"
    }
   ],
   "source": [
    "a2, a3"
   ]
  },
  {
   "cell_type": "code",
   "execution_count": 47,
   "id": "3230e98c",
   "metadata": {},
   "outputs": [
    {
     "data": {
      "text/plain": [
       "array([[[  1.,   4.,   9.],\n",
       "        [ 16.,  25.,  36.]],\n",
       "\n",
       "       [[  7.,  16.,  27.],\n",
       "        [ 40.,  55.,  72.]],\n",
       "\n",
       "       [[ 13.,  28.,  45.],\n",
       "        [ 64.,  85., 108.]]])"
      ]
     },
     "execution_count": 47,
     "metadata": {},
     "output_type": "execute_result"
    }
   ],
   "source": [
    "a2 * a3"
   ]
  },
  {
   "cell_type": "code",
   "execution_count": 48,
   "id": "e280cfcd",
   "metadata": {},
   "outputs": [
    {
     "data": {
      "text/plain": [
       "array([[[ 1.,  2.,  3.],\n",
       "        [ 4.,  5.,  6.],\n",
       "        [ 7.,  8.,  9.]],\n",
       "\n",
       "       [[10., 11., 12.],\n",
       "        [13., 14., 15.],\n",
       "        [16., 17., 18.]]])"
      ]
     },
     "execution_count": 48,
     "metadata": {},
     "output_type": "execute_result"
    }
   ],
   "source": [
    "a3=np.array([[[1,2,3],[4,5,6],[7,8,9]],[[10,11,12],[13,14,15],[16,17,18.0]]])\n",
    "a3"
   ]
  },
  {
   "cell_type": "code",
   "execution_count": 49,
   "id": "7016c947",
   "metadata": {},
   "outputs": [],
   "source": [
    "# a2 * a3  #error (2,3) (2,3,3)"
   ]
  },
  {
   "cell_type": "code",
   "execution_count": 50,
   "id": "d1ba703b",
   "metadata": {},
   "outputs": [
    {
     "data": {
      "text/plain": [
       "(2, 3)"
      ]
     },
     "execution_count": 50,
     "metadata": {},
     "output_type": "execute_result"
    }
   ],
   "source": [
    "a2.shape"
   ]
  },
  {
   "cell_type": "markdown",
   "id": "eaaac82c",
   "metadata": {},
   "source": [
    "When the trailing dimensions of the arrays are unequal, broadcasting fails because it is impossible to align the values in the rows of the 1st array with the elements of the 2nd arrays for element-by-element addition.\n",
    "\n",
    "When operating on two arrays, NumPy compares their shapes element-wise. It starts with the trailing (i.e. rightmost) dimensions and works its way left. Two dimensions are compatible when\n",
    "- they are equal, or\n",
    "- one of them is 1"
   ]
  },
  {
   "cell_type": "code",
   "execution_count": 51,
   "id": "12bf3464",
   "metadata": {},
   "outputs": [],
   "source": [
    "a2=a2.reshape(2,3,1)"
   ]
  },
  {
   "cell_type": "code",
   "execution_count": 52,
   "id": "21382ddd",
   "metadata": {},
   "outputs": [
    {
     "data": {
      "text/plain": [
       "array([[[  1.,   2.,   3.],\n",
       "        [  8.,  10.,  12.],\n",
       "        [ 21.,  24.,  27.]],\n",
       "\n",
       "       [[ 40.,  44.,  48.],\n",
       "        [ 65.,  70.,  75.],\n",
       "        [ 96., 102., 108.]]])"
      ]
     },
     "execution_count": 52,
     "metadata": {},
     "output_type": "execute_result"
    }
   ],
   "source": [
    "a2 * a3"
   ]
  },
  {
   "cell_type": "code",
   "execution_count": 53,
   "id": "85e68272",
   "metadata": {},
   "outputs": [
    {
     "data": {
      "text/plain": [
       "array([[[1, 4],\n",
       "        [2, 5],\n",
       "        [3, 6]]])"
      ]
     },
     "execution_count": 53,
     "metadata": {},
     "output_type": "execute_result"
    }
   ],
   "source": [
    "a2.T\n",
    "#Transpose = switches the axis"
   ]
  },
  {
   "cell_type": "code",
   "execution_count": 54,
   "id": "8bf98f0f",
   "metadata": {},
   "outputs": [
    {
     "data": {
      "text/plain": [
       "(1, 3, 2)"
      ]
     },
     "execution_count": 54,
     "metadata": {},
     "output_type": "execute_result"
    }
   ],
   "source": [
    "a2.T.shape"
   ]
  },
  {
   "cell_type": "markdown",
   "id": "663ec5bb",
   "metadata": {},
   "source": [
    "## Dot Product vs Element Wise"
   ]
  },
  {
   "cell_type": "code",
   "execution_count": 55,
   "id": "0ceaea1d",
   "metadata": {},
   "outputs": [
    {
     "data": {
      "text/plain": [
       "(array([[5, 0, 3],\n",
       "        [3, 7, 9],\n",
       "        [3, 5, 2],\n",
       "        [4, 7, 6],\n",
       "        [8, 8, 1]]),\n",
       " array([[6, 7, 7],\n",
       "        [8, 1, 5],\n",
       "        [9, 8, 9],\n",
       "        [4, 3, 0],\n",
       "        [3, 5, 0]]),\n",
       " (5, 3),\n",
       " (5, 3))"
      ]
     },
     "execution_count": 55,
     "metadata": {},
     "output_type": "execute_result"
    }
   ],
   "source": [
    "np.random.seed(0)\n",
    "mat1 = np.random.randint(10,size=(5,3))\n",
    "mat2 = np.random.randint(10,size=(5,3))\n",
    "\n",
    "mat1,mat2,mat1.shape,mat2.shape"
   ]
  },
  {
   "cell_type": "code",
   "execution_count": 56,
   "id": "81d2947e",
   "metadata": {},
   "outputs": [
    {
     "data": {
      "text/plain": [
       "array([[30,  0, 21],\n",
       "       [24,  7, 45],\n",
       "       [27, 40, 18],\n",
       "       [16, 21,  0],\n",
       "       [24, 40,  0]])"
      ]
     },
     "execution_count": 56,
     "metadata": {},
     "output_type": "execute_result"
    }
   ],
   "source": [
    "#Element-wise multiplication (Hadamark product)\n",
    "mat1 * mat2"
   ]
  },
  {
   "cell_type": "code",
   "execution_count": 57,
   "id": "579f910f",
   "metadata": {},
   "outputs": [],
   "source": [
    "#Dot product\n",
    "# np.dot(mat1,mat2)  #error no of col = no of row (matrix multiplication)"
   ]
  },
  {
   "cell_type": "code",
   "execution_count": 58,
   "id": "336b7e56",
   "metadata": {},
   "outputs": [
    {
     "data": {
      "text/plain": [
       "((3, 5),\n",
       " (5, 3),\n",
       " array([[121, 114,  77],\n",
       "        [153, 108,  80],\n",
       "        [135,  69,  84]]),\n",
       " (3, 3))"
      ]
     },
     "execution_count": 58,
     "metadata": {},
     "output_type": "execute_result"
    }
   ],
   "source": [
    "mat1 = mat1.T\n",
    "mat1.shape,mat2.shape,np.dot(mat1,mat2),np.dot(mat1,mat2).shape"
   ]
  },
  {
   "cell_type": "markdown",
   "id": "cad7ab4e",
   "metadata": {},
   "source": [
    "# EXAMPLE"
   ]
  },
  {
   "cell_type": "code",
   "execution_count": 59,
   "id": "5a5aab21",
   "metadata": {},
   "outputs": [
    {
     "data": {
      "text/plain": [
       "(array([[12, 15,  0],\n",
       "        [ 3,  3,  7],\n",
       "        [ 9, 19, 18],\n",
       "        [ 4,  6, 12],\n",
       "        [ 1,  6,  7]]),\n",
       " array([10,  8, 12]))"
      ]
     },
     "execution_count": 59,
     "metadata": {},
     "output_type": "execute_result"
    }
   ],
   "source": [
    "np.random.seed(0)\n",
    "sales_amounts = np.random.randint(20,size=(5,3))\n",
    "prices = np.array([10,8,12])\n",
    "sales_amounts,prices"
   ]
  },
  {
   "cell_type": "code",
   "execution_count": 60,
   "id": "95722726",
   "metadata": {},
   "outputs": [
    {
     "data": {
      "text/html": [
       "<div>\n",
       "<style scoped>\n",
       "    .dataframe tbody tr th:only-of-type {\n",
       "        vertical-align: middle;\n",
       "    }\n",
       "\n",
       "    .dataframe tbody tr th {\n",
       "        vertical-align: top;\n",
       "    }\n",
       "\n",
       "    .dataframe thead th {\n",
       "        text-align: right;\n",
       "    }\n",
       "</style>\n",
       "<table border=\"1\" class=\"dataframe\">\n",
       "  <thead>\n",
       "    <tr style=\"text-align: right;\">\n",
       "      <th></th>\n",
       "      <th>Almond</th>\n",
       "      <th>Peanut</th>\n",
       "      <th>Cashew</th>\n",
       "    </tr>\n",
       "  </thead>\n",
       "  <tbody>\n",
       "    <tr>\n",
       "      <th>Mon</th>\n",
       "      <td>12</td>\n",
       "      <td>15</td>\n",
       "      <td>0</td>\n",
       "    </tr>\n",
       "    <tr>\n",
       "      <th>Tues</th>\n",
       "      <td>3</td>\n",
       "      <td>3</td>\n",
       "      <td>7</td>\n",
       "    </tr>\n",
       "    <tr>\n",
       "      <th>Wed</th>\n",
       "      <td>9</td>\n",
       "      <td>19</td>\n",
       "      <td>18</td>\n",
       "    </tr>\n",
       "    <tr>\n",
       "      <th>Thrus</th>\n",
       "      <td>4</td>\n",
       "      <td>6</td>\n",
       "      <td>12</td>\n",
       "    </tr>\n",
       "    <tr>\n",
       "      <th>Fri</th>\n",
       "      <td>1</td>\n",
       "      <td>6</td>\n",
       "      <td>7</td>\n",
       "    </tr>\n",
       "  </tbody>\n",
       "</table>\n",
       "</div>"
      ],
      "text/plain": [
       "       Almond  Peanut  Cashew\n",
       "Mon        12      15       0\n",
       "Tues        3       3       7\n",
       "Wed         9      19      18\n",
       "Thrus       4       6      12\n",
       "Fri         1       6       7"
      ]
     },
     "execution_count": 60,
     "metadata": {},
     "output_type": "execute_result"
    }
   ],
   "source": [
    "weekly_sales = pd.DataFrame(sales_amounts,index=[\"Mon\",\"Tues\",\"Wed\",\"Thrus\",\"Fri\"],columns=[\"Almond\",\"Peanut\",\"Cashew\"])\n",
    "weekly_sales"
   ]
  },
  {
   "cell_type": "code",
   "execution_count": 61,
   "id": "91e53290",
   "metadata": {},
   "outputs": [
    {
     "data": {
      "text/html": [
       "<div>\n",
       "<style scoped>\n",
       "    .dataframe tbody tr th:only-of-type {\n",
       "        vertical-align: middle;\n",
       "    }\n",
       "\n",
       "    .dataframe tbody tr th {\n",
       "        vertical-align: top;\n",
       "    }\n",
       "\n",
       "    .dataframe thead th {\n",
       "        text-align: right;\n",
       "    }\n",
       "</style>\n",
       "<table border=\"1\" class=\"dataframe\">\n",
       "  <thead>\n",
       "    <tr style=\"text-align: right;\">\n",
       "      <th></th>\n",
       "      <th>Almond</th>\n",
       "      <th>Peanut</th>\n",
       "      <th>Cashew</th>\n",
       "    </tr>\n",
       "  </thead>\n",
       "  <tbody>\n",
       "    <tr>\n",
       "      <th>price</th>\n",
       "      <td>10</td>\n",
       "      <td>8</td>\n",
       "      <td>12</td>\n",
       "    </tr>\n",
       "  </tbody>\n",
       "</table>\n",
       "</div>"
      ],
      "text/plain": [
       "       Almond  Peanut  Cashew\n",
       "price      10       8      12"
      ]
     },
     "execution_count": 61,
     "metadata": {},
     "output_type": "execute_result"
    }
   ],
   "source": [
    "price_amount = pd.DataFrame(prices.reshape(1,3),index=[\"price\"],columns=[\"Almond\",\"Peanut\",\"Cashew\"])\n",
    "price_amount"
   ]
  },
  {
   "cell_type": "code",
   "execution_count": 62,
   "id": "92fd5ecd",
   "metadata": {},
   "outputs": [
    {
     "data": {
      "text/plain": [
       "array([240, 138, 458, 232, 142])"
      ]
     },
     "execution_count": 62,
     "metadata": {},
     "output_type": "execute_result"
    }
   ],
   "source": [
    "total_sales = sales_amounts.dot(prices)\n",
    "total_sales"
   ]
  },
  {
   "cell_type": "code",
   "execution_count": 63,
   "id": "ce4d7225",
   "metadata": {},
   "outputs": [],
   "source": [
    "weekly_sales[\"Total ($)\"] = total_sales"
   ]
  },
  {
   "cell_type": "code",
   "execution_count": 64,
   "id": "b11300e8",
   "metadata": {},
   "outputs": [
    {
     "data": {
      "text/html": [
       "<div>\n",
       "<style scoped>\n",
       "    .dataframe tbody tr th:only-of-type {\n",
       "        vertical-align: middle;\n",
       "    }\n",
       "\n",
       "    .dataframe tbody tr th {\n",
       "        vertical-align: top;\n",
       "    }\n",
       "\n",
       "    .dataframe thead th {\n",
       "        text-align: right;\n",
       "    }\n",
       "</style>\n",
       "<table border=\"1\" class=\"dataframe\">\n",
       "  <thead>\n",
       "    <tr style=\"text-align: right;\">\n",
       "      <th></th>\n",
       "      <th>Almond</th>\n",
       "      <th>Peanut</th>\n",
       "      <th>Cashew</th>\n",
       "      <th>Total ($)</th>\n",
       "    </tr>\n",
       "  </thead>\n",
       "  <tbody>\n",
       "    <tr>\n",
       "      <th>Mon</th>\n",
       "      <td>12</td>\n",
       "      <td>15</td>\n",
       "      <td>0</td>\n",
       "      <td>240</td>\n",
       "    </tr>\n",
       "    <tr>\n",
       "      <th>Tues</th>\n",
       "      <td>3</td>\n",
       "      <td>3</td>\n",
       "      <td>7</td>\n",
       "      <td>138</td>\n",
       "    </tr>\n",
       "    <tr>\n",
       "      <th>Wed</th>\n",
       "      <td>9</td>\n",
       "      <td>19</td>\n",
       "      <td>18</td>\n",
       "      <td>458</td>\n",
       "    </tr>\n",
       "    <tr>\n",
       "      <th>Thrus</th>\n",
       "      <td>4</td>\n",
       "      <td>6</td>\n",
       "      <td>12</td>\n",
       "      <td>232</td>\n",
       "    </tr>\n",
       "    <tr>\n",
       "      <th>Fri</th>\n",
       "      <td>1</td>\n",
       "      <td>6</td>\n",
       "      <td>7</td>\n",
       "      <td>142</td>\n",
       "    </tr>\n",
       "  </tbody>\n",
       "</table>\n",
       "</div>"
      ],
      "text/plain": [
       "       Almond  Peanut  Cashew  Total ($)\n",
       "Mon        12      15       0        240\n",
       "Tues        3       3       7        138\n",
       "Wed         9      19      18        458\n",
       "Thrus       4       6      12        232\n",
       "Fri         1       6       7        142"
      ]
     },
     "execution_count": 64,
     "metadata": {},
     "output_type": "execute_result"
    }
   ],
   "source": [
    "weekly_sales"
   ]
  },
  {
   "cell_type": "markdown",
   "id": "06ca5ef4",
   "metadata": {},
   "source": [
    "## Comparison Operators"
   ]
  },
  {
   "cell_type": "code",
   "execution_count": 65,
   "id": "e01b1a04",
   "metadata": {},
   "outputs": [
    {
     "data": {
      "text/plain": [
       "(array([1, 2, 3]),\n",
       " array([[[1],\n",
       "         [2],\n",
       "         [3]],\n",
       " \n",
       "        [[4],\n",
       "         [5],\n",
       "         [6]]]))"
      ]
     },
     "execution_count": 65,
     "metadata": {},
     "output_type": "execute_result"
    }
   ],
   "source": [
    "a1,a2"
   ]
  },
  {
   "cell_type": "code",
   "execution_count": 66,
   "id": "c6e4c21a",
   "metadata": {},
   "outputs": [
    {
     "data": {
      "text/plain": [
       "(array([[[ True,  True,  True],\n",
       "         [False,  True,  True],\n",
       "         [False, False,  True]],\n",
       " \n",
       "        [[False, False, False],\n",
       "         [False, False, False],\n",
       "         [False, False, False]]]),\n",
       " numpy.ndarray,\n",
       " dtype('bool'))"
      ]
     },
     "execution_count": 66,
     "metadata": {},
     "output_type": "execute_result"
    }
   ],
   "source": [
    "bool_array = a1 >= a2\n",
    "bool_array, type(bool_array), bool_array.dtype"
   ]
  },
  {
   "cell_type": "code",
   "execution_count": 67,
   "id": "d866aef6",
   "metadata": {},
   "outputs": [
    {
     "data": {
      "text/plain": [
       "array([False, False, False])"
      ]
     },
     "execution_count": 67,
     "metadata": {},
     "output_type": "execute_result"
    }
   ],
   "source": [
    "a1>5"
   ]
  },
  {
   "cell_type": "code",
   "execution_count": 68,
   "id": "395b687e",
   "metadata": {},
   "outputs": [
    {
     "data": {
      "text/plain": [
       "array([[[ True, False, False],\n",
       "        [False,  True, False],\n",
       "        [False, False,  True]],\n",
       "\n",
       "       [[False, False, False],\n",
       "        [False, False, False],\n",
       "        [False, False, False]]])"
      ]
     },
     "execution_count": 68,
     "metadata": {},
     "output_type": "execute_result"
    }
   ],
   "source": [
    "a1 == a2"
   ]
  },
  {
   "cell_type": "markdown",
   "id": "20e6b19e",
   "metadata": {},
   "source": [
    "# Sorting"
   ]
  },
  {
   "cell_type": "code",
   "execution_count": 69,
   "id": "352415f9",
   "metadata": {},
   "outputs": [
    {
     "data": {
      "text/plain": [
       "(array([[7, 8, 1, 5, 9],\n",
       "        [8, 9, 4, 3, 0],\n",
       "        [3, 5, 0, 2, 3]]),\n",
       " (3, 5))"
      ]
     },
     "execution_count": 69,
     "metadata": {},
     "output_type": "execute_result"
    }
   ],
   "source": [
    "random_array = np.random.randint(10,size=(3,5))\n",
    "random_array,random_array.shape"
   ]
  },
  {
   "cell_type": "code",
   "execution_count": 70,
   "id": "afc7338a",
   "metadata": {},
   "outputs": [
    {
     "data": {
      "text/plain": [
       "array([[1, 5, 7, 8, 9],\n",
       "       [0, 3, 4, 8, 9],\n",
       "       [0, 2, 3, 3, 5]])"
      ]
     },
     "execution_count": 70,
     "metadata": {},
     "output_type": "execute_result"
    }
   ],
   "source": [
    "np.sort(random_array)"
   ]
  },
  {
   "cell_type": "code",
   "execution_count": 71,
   "id": "8594023f",
   "metadata": {},
   "outputs": [
    {
     "data": {
      "text/plain": [
       "array([[2, 3, 0, 1, 4],\n",
       "       [4, 3, 2, 0, 1],\n",
       "       [2, 3, 0, 4, 1]])"
      ]
     },
     "execution_count": 71,
     "metadata": {},
     "output_type": "execute_result"
    }
   ],
   "source": [
    "np.argsort(random_array)\n",
    "# which index has highest value"
   ]
  },
  {
   "cell_type": "code",
   "execution_count": 72,
   "id": "b502aa5a",
   "metadata": {},
   "outputs": [
    {
     "data": {
      "text/plain": [
       "array([2, 2, 2, 2, 1])"
      ]
     },
     "execution_count": 72,
     "metadata": {},
     "output_type": "execute_result"
    }
   ],
   "source": [
    "# min value index\n",
    "# np.argmin(random_array)\n",
    "np.argmin(random_array,axis=0)"
   ]
  },
  {
   "cell_type": "code",
   "execution_count": 73,
   "id": "1767714c",
   "metadata": {},
   "outputs": [
    {
     "data": {
      "text/plain": [
       "array([2, 4, 2])"
      ]
     },
     "execution_count": 73,
     "metadata": {},
     "output_type": "execute_result"
    }
   ],
   "source": [
    "np.argmin(random_array,axis=1)"
   ]
  },
  {
   "cell_type": "code",
   "execution_count": 74,
   "id": "a884d26e",
   "metadata": {},
   "outputs": [
    {
     "data": {
      "text/plain": [
       "(array([1, 1, 1, 0, 0]), array([4, 1, 1]), 4)"
      ]
     },
     "execution_count": 74,
     "metadata": {},
     "output_type": "execute_result"
    }
   ],
   "source": [
    "np.argmax(random_array,axis=0),np.argmax(random_array,axis=1),np.argmax(random_array)"
   ]
  },
  {
   "cell_type": "markdown",
   "id": "0a4dc58a",
   "metadata": {},
   "source": [
    "<img src=\"../images/ml-framework-tools.png\"/>"
   ]
  },
  {
   "cell_type": "code",
   "execution_count": 76,
   "id": "3ad2962b",
   "metadata": {},
   "outputs": [
    {
     "data": {
      "text/plain": [
       "(numpy.ndarray,\n",
       " (1812, 3046, 4),\n",
       " 22077408,\n",
       " 3,\n",
       " array([[[0., 0., 0., 0.],\n",
       "         [0., 0., 0., 0.],\n",
       "         [0., 0., 0., 0.],\n",
       "         ...,\n",
       "         [0., 0., 0., 0.],\n",
       "         [0., 0., 0., 0.],\n",
       "         [0., 0., 0., 0.]]], dtype=float32))"
      ]
     },
     "execution_count": 76,
     "metadata": {},
     "output_type": "execute_result"
    }
   ],
   "source": [
    "#Image to numpy array\n",
    "from matplotlib.image import imread\n",
    "img = imread(\"../images/ml-framework-tools.png\")\n",
    "type(img),img.shape,img.size, img.ndim, img[:1]"
   ]
  }
 ],
 "metadata": {
  "kernelspec": {
   "display_name": "Python 3 (ipykernel)",
   "language": "python",
   "name": "python3"
  },
  "language_info": {
   "codemirror_mode": {
    "name": "ipython",
    "version": 3
   },
   "file_extension": ".py",
   "mimetype": "text/x-python",
   "name": "python",
   "nbconvert_exporter": "python",
   "pygments_lexer": "ipython3",
   "version": "3.9.7"
  }
 },
 "nbformat": 4,
 "nbformat_minor": 5
}
